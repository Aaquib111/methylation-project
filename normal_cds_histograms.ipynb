{
 "cells": [
  {
   "cell_type": "code",
   "execution_count": 2,
   "metadata": {
    "collapsed": false
   },
   "outputs": [
    {
     "name": "stderr",
     "output_type": "stream",
     "text": [
      "/Users/khandekara2/anaconda3/lib/python3.6/site-packages/numexpr/cpuinfo.py:76: UserWarning: [Errno 2] No such file or directory: 'sysctl': 'sysctl'\n",
      "  stacklevel=stacklevel + 1):\n"
     ]
    }
   ],
   "source": [
    "import pandas as pd\n",
    "import os\n",
    "import matplotlib.pyplot as plt\n",
    "import numpy as np\n",
    "os.chdir('/Users/khandekara2/Documents/methylationProject/01_data/normal_cds')\n",
    "\n"
   ]
  },
  {
   "cell_type": "code",
   "execution_count": 5,
   "metadata": {
    "collapsed": false
   },
   "outputs": [],
   "source": [
    "# %matplotlib inline\n",
    "fig = plt.figure(figsize=(17,15), dpi=300)\n",
    "files = [f for f in os.listdir() if f.endswith('.fixed') or f.endswith('.bed')]\n",
    "for i, file in enumerate(files):\n",
    "    ax = fig.add_subplot(4, 3, i+1)\n",
    "    df = pd.read_csv(file, sep='\\t', header=None)\n",
    "    ratios = np.array(df.iloc[:,4])\n",
    "    ax.hist(ratios, weights=np.zeros_like(ratios) + 1. / ratios.size)\n",
    "    ax.set_xlabel('Methylation Ratio', fontsize=10)\n",
    "    ax.set_ylabel('Frequency')\n",
    "    ax.set_title(file.split('.')[1])\n",
    "fig.tight_layout()\n",
    "fig.savefig('/Users/khandekara2/Documents/methylationProject/03_results/normal_cds_ratios_distribution.png')\n"
   ]
  },
  {
   "cell_type": "code",
   "execution_count": null,
   "metadata": {
    "collapsed": true
   },
   "outputs": [],
   "source": []
  },
  {
   "cell_type": "code",
   "execution_count": null,
   "metadata": {},
   "outputs": [],
   "source": [
    "\n"
   ]
  },
  {
   "cell_type": "code",
   "execution_count": null,
   "metadata": {},
   "outputs": [],
   "source": []
  },
  {
   "cell_type": "code",
   "execution_count": null,
   "metadata": {},
   "outputs": [],
   "source": []
  },
  {
   "cell_type": "code",
   "execution_count": null,
   "metadata": {},
   "outputs": [],
   "source": []
  }
 ],
 "metadata": {
  "kernelspec": {
   "display_name": "Python 3",
   "language": "python",
   "name": "python3"
  },
  "language_info": {
   "codemirror_mode": {
    "name": "ipython",
    "version": 3
   },
   "file_extension": ".py",
   "mimetype": "text/x-python",
   "name": "python",
   "nbconvert_exporter": "python",
   "pygments_lexer": "ipython3",
   "version": "3.6.3"
  }
 },
 "nbformat": 4,
 "nbformat_minor": 2
}
