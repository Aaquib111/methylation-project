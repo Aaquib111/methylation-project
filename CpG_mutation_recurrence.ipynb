{
 "cells": [
  {
   "cell_type": "code",
   "execution_count": 2,
   "metadata": {},
   "outputs": [],
   "source": [
    "#find out how recurrent across samples the CpG mutations in MALY are \n",
    "#construct dictionary that maps location of C>T/G>A mutations in a CpG context to a list of all the samples that mutation was found in\n",
    "import pandas as pd\n",
    "import pickle\n",
    "df = pd.read_csv('/data/khandekara2/mutation_data/processed_data/MALY_mutation.bed.CpG_only', sep='\\t')\n",
    "mutation_dict = {} #key is chromosomal location, value is list with id's of all samples that the the mutation occurred in\n",
    "\n",
    "#add location column\n",
    "locations = []\n",
    "for chrom, start, stop in zip(list(df['#chromosome']), list(df['start']), list(df['stop'])):\n",
    "    locations.append((chrom, start, stop))\n",
    "df['location'] = locations\n",
    "\n",
    "#populate dictionary   \n",
    "for loc, sample in zip(df.location, df.id):\n",
    "    coords = (str(loc[0]), int(loc[1]), int(loc[2]))\n",
    "    if loc not in mutation_dict:\n",
    "        mutation_dict[coords] = []\n",
    "    mutation_dict[coords].append(sample)"
   ]
  },
  {
   "cell_type": "code",
   "execution_count": 3,
   "metadata": {},
   "outputs": [
    {
     "name": "stdout",
     "output_type": "stream",
     "text": [
      "('chr6', 53254790, 53254792)\n",
      "['tumor_4145528']\n"
     ]
    }
   ],
   "source": [
    "#check to make sure that dictionary items are correct\n",
    "import random\n",
    "coord, samples = random.choice(list(mutation_dict.items()))\n",
    "print (coord)\n",
    "print (samples)"
   ]
  },
  {
   "cell_type": "code",
   "execution_count": 4,
   "metadata": {
    "collapsed": true
   },
   "outputs": [],
   "source": [
    "recurrence = []\n",
    "for key, value in mutation_dict.items():\n",
    "    recurrence.append(len(mutation_dict[key]))\n"
   ]
  },
  {
   "cell_type": "code",
   "execution_count": 6,
   "metadata": {},
   "outputs": [
    {
     "name": "stderr",
     "output_type": "stream",
     "text": [
      "/usr/local/Anaconda/envs/py3.6/lib/python3.6/site-packages/matplotlib/axes/_axes.py:6462: UserWarning: The 'normed' kwarg is deprecated, and has been replaced by the 'density' kwarg.\n",
      "  warnings.warn(\"The 'normed' kwarg is deprecated, and has been \"\n"
     ]
    },
    {
     "data": {
      "image/png": "[encoded data removed]",
      "text/plain": [
       "<Figure size 216x216 with 1 Axes>"
      ]
     },
     "metadata": {},
     "output_type": "display_data"
    }
   ],
   "source": [
    "import seaborn as sns\n",
    "import numpy as np\n",
    "import matplotlib.pyplot as plt\n",
    "plt.rcParams.update(plt.rcParamsDefault)\n",
    "%matplotlib inline\n",
    "plt.style.use('seaborn-paper')\n",
    "plt.rcParams['xtick.labelsize'] = 7\n",
    "fig5 = plt.figure(figsize=(3,3))\n",
    "ax = fig5.add_subplot(111)\n",
    "ax = sns.distplot(recurrence, kde=False, rug=False, color='blue', hist_kws=dict(edgecolor=\"k\", linewidth=2))\n",
    "ax.set_yscale('log')\n",
    "ax.set_xticks([1, 2, 3, 4, 5, 6, 7, 8])\n",
    "ax.set_ylabel('Number of mutated\\nCpG sites')\n",
    "ax.set_xlabel('Number of Samples')\n",
    "ax.spines['top'].set_visible(False)\n",
    "ax.spines['right'].set_visible(False)"
   ]
  },
  {
   "cell_type": "code",
   "execution_count": 9,
   "metadata": {},
   "outputs": [],
   "source": [
    "fig5.savefig('/data/khandekara2/figures/MALY_mutation_recurrence.png', dpi=600, bbox_inches=\"tight\")"
   ]
  },
  {
   "cell_type": "code",
   "execution_count": 36,
   "metadata": {},
   "outputs": [
    {
     "name": "stderr",
     "output_type": "stream",
     "text": [
      "/usr/local/Anaconda/envs/py3.5/lib/python3.5/site-packages/IPython/core/interactiveshell.py:2698: DtypeWarning: Columns (3,6,7) have mixed types. Specify dtype option on import or set low_memory=False.\n",
      "  interactivity=interactivity, compiler=compiler, result=result)\n"
     ]
    },
    {
     "data": {
      "image/png": "[encoded data removed]",
      "text/plain": [
       "<matplotlib.figure.Figure at 0x2aab221b0518>"
      ]
     },
     "metadata": {},
     "output_type": "display_data"
    }
   ],
   "source": [
    "#now repeat exact same process for all C>T/G>A mutations in a CpG context observed in cancer \n",
    "df = pd.read_csv('/data/khandekara2/mutation_data/processed_data/test.bed', sep='\\t')\n",
    "all_mutation_dict = {} #key is chromosomal location, value is list with id's of all samples that the the mutation occurred in\n",
    "\n",
    "#add location column\n",
    "locations = []\n",
    "for chrom, start, stop in zip(list(df['#chromosome']), list(df['start']), list(df['stop'])):\n",
    "    locations.append((chrom, start, stop))\n",
    "df['location'] = locations\n",
    "\n",
    "#populate dictionary   \n",
    "for loc, sample in zip(df.location, df.id):\n",
    "    coords = (str(loc[0]), int(loc[1]), int(loc[2]))\n",
    "    if coords not in all_mutation_dict:\n",
    "        all_mutation_dict[coords] = []\n",
    "    all_mutation_dict[coords].append(sample)\n",
    "\n",
    "all_recurrence = []\n",
    "for key, value in all_mutation_dict.items():\n",
    "    all_recurrence.append(len(all_mutation_dict[key]))\n",
    "\n",
    "sns_plot = sns.distplot(all_recurrence, kde=False, rug=False, color='blue', hist_kws=dict(edgecolor=\"k\", linewidth=2))\n"
   ]
  },
  {
   "cell_type": "markdown",
   "metadata": {},
   "source": [
    "df = pd.read_csv('/data/khandekara2/mutation_data/processed_data/all_CpG_mutations.bed', sep='\\t')\n"
   ]
  },
  {
   "cell_type": "code",
   "execution_count": 31,
   "metadata": {},
   "outputs": [
    {
     "data": {
      "text/html": [
       "<div>\n",
       "<style>\n",
       "    .dataframe thead tr:only-child th {\n",
       "        text-align: right;\n",
       "    }\n",
       "\n",
       "    .dataframe thead th {\n",
       "        text-align: left;\n",
       "    }\n",
       "\n",
       "    .dataframe tbody tr th {\n",
       "        vertical-align: top;\n",
       "    }\n",
       "</style>\n",
       "<table border=\"1\" class=\"dataframe\">\n",
       "  <thead>\n",
       "    <tr style=\"text-align: right;\">\n",
       "      <th></th>\n",
       "      <th>#chromosome</th>\n",
       "      <th>start</th>\n",
       "      <th>stop</th>\n",
       "      <th>id</th>\n",
       "      <th>mutated_from</th>\n",
       "      <th>mutated_to</th>\n",
       "      <th>total_reads</th>\n",
       "      <th>variant_reads</th>\n",
       "      <th>annotation</th>\n",
       "      <th>gene_id</th>\n",
       "      <th>fasta</th>\n",
       "      <th>location</th>\n",
       "    </tr>\n",
       "  </thead>\n",
       "  <tbody>\n",
       "    <tr>\n",
       "      <th>0</th>\n",
       "      <td>chr14</td>\n",
       "      <td>99641435</td>\n",
       "      <td>99641436</td>\n",
       "      <td>TCGA-GC-A3YS-01A-11D-A23M-08</td>\n",
       "      <td>C</td>\n",
       "      <td>T</td>\n",
       "      <td>MISSING</td>\n",
       "      <td>MISSING</td>\n",
       "      <td>synonymous_variant</td>\n",
       "      <td>ENSG00000127152</td>\n",
       "      <td>cg</td>\n",
       "      <td>(chr14, 99641435, 99641436)</td>\n",
       "    </tr>\n",
       "    <tr>\n",
       "      <th>1</th>\n",
       "      <td>chr1</td>\n",
       "      <td>228399582</td>\n",
       "      <td>228399583</td>\n",
       "      <td>TCGA-GC-A3YS-01A-11D-A23M-08</td>\n",
       "      <td>C</td>\n",
       "      <td>T</td>\n",
       "      <td>MISSING</td>\n",
       "      <td>MISSING</td>\n",
       "      <td>synonymous_variant</td>\n",
       "      <td>ENSG00000154358</td>\n",
       "      <td>CG</td>\n",
       "      <td>(chr1, 228399582, 228399583)</td>\n",
       "    </tr>\n",
       "    <tr>\n",
       "      <th>2</th>\n",
       "      <td>chr16</td>\n",
       "      <td>75670390</td>\n",
       "      <td>75670391</td>\n",
       "      <td>TCGA-GC-A3YS-01A-11D-A23M-08</td>\n",
       "      <td>C</td>\n",
       "      <td>T</td>\n",
       "      <td>MISSING</td>\n",
       "      <td>MISSING</td>\n",
       "      <td>downstream_gene_variant</td>\n",
       "      <td>ENSG00000065427</td>\n",
       "      <td>CG</td>\n",
       "      <td>(chr16, 75670390, 75670391)</td>\n",
       "    </tr>\n",
       "    <tr>\n",
       "      <th>3</th>\n",
       "      <td>chr19</td>\n",
       "      <td>3819085</td>\n",
       "      <td>3819086</td>\n",
       "      <td>TCGA-GC-A3YS-01A-11D-A23M-08</td>\n",
       "      <td>C</td>\n",
       "      <td>T</td>\n",
       "      <td>MISSING</td>\n",
       "      <td>MISSING</td>\n",
       "      <td>missense_variant</td>\n",
       "      <td>ENSG00000105278</td>\n",
       "      <td>CG</td>\n",
       "      <td>(chr19, 3819085, 3819086)</td>\n",
       "    </tr>\n",
       "    <tr>\n",
       "      <th>4</th>\n",
       "      <td>chr7</td>\n",
       "      <td>99621897</td>\n",
       "      <td>99621898</td>\n",
       "      <td>TCGA-GC-A3YS-01A-11D-A23M-08</td>\n",
       "      <td>C</td>\n",
       "      <td>T</td>\n",
       "      <td>MISSING</td>\n",
       "      <td>MISSING</td>\n",
       "      <td>exon_variant</td>\n",
       "      <td>ENSG00000106261</td>\n",
       "      <td>CG</td>\n",
       "      <td>(chr7, 99621897, 99621898)</td>\n",
       "    </tr>\n",
       "  </tbody>\n",
       "</table>\n",
       "</div>"
      ],
      "text/plain": [
       "  #chromosome      start       stop                            id  \\\n",
       "0       chr14   99641435   99641436  TCGA-GC-A3YS-01A-11D-A23M-08   \n",
       "1        chr1  228399582  228399583  TCGA-GC-A3YS-01A-11D-A23M-08   \n",
       "2       chr16   75670390   75670391  TCGA-GC-A3YS-01A-11D-A23M-08   \n",
       "3       chr19    3819085    3819086  TCGA-GC-A3YS-01A-11D-A23M-08   \n",
       "4        chr7   99621897   99621898  TCGA-GC-A3YS-01A-11D-A23M-08   \n",
       "\n",
       "  mutated_from mutated_to total_reads variant_reads               annotation  \\\n",
       "0            C          T     MISSING       MISSING       synonymous_variant   \n",
       "1            C          T     MISSING       MISSING       synonymous_variant   \n",
       "2            C          T     MISSING       MISSING  downstream_gene_variant   \n",
       "3            C          T     MISSING       MISSING         missense_variant   \n",
       "4            C          T     MISSING       MISSING             exon_variant   \n",
       "\n",
       "           gene_id fasta                      location  \n",
       "0  ENSG00000127152    cg   (chr14, 99641435, 99641436)  \n",
       "1  ENSG00000154358    CG  (chr1, 228399582, 228399583)  \n",
       "2  ENSG00000065427    CG   (chr16, 75670390, 75670391)  \n",
       "3  ENSG00000105278    CG     (chr19, 3819085, 3819086)  \n",
       "4  ENSG00000106261    CG    (chr7, 99621897, 99621898)  "
      ]
     },
     "execution_count": 31,
     "metadata": {},
     "output_type": "execute_result"
    }
   ],
   "source": [
    "df.head()\n"
   ]
  },
  {
   "cell_type": "code",
   "execution_count": 32,
   "metadata": {},
   "outputs": [
    {
     "name": "stdout",
     "output_type": "stream",
     "text": [
      "{1024, 1, 2, 3, 4, 5, 6, 7, 8, 9, 10, 11, 12, 13, 14, 15, 16, 18, 20, 21, 24, 25, 26, 27, 28, 30, 32, 33, 35, 36, 39, 40, 41, 42, 44, 45, 48, 49, 50, 54, 56, 60, 572, 63, 64, 576, 3136, 65, 70, 72, 75, 77, 80, 81, 9300, 88, 90, 100, 1640, 104, 110, 120, 121, 17533, 126, 132, 645, 1156, 136, 143, 144, 150, 153, 156, 676, 168, 169, 180, 1204, 182, 196, 711, 1225, 210, 49887, 225, 231, 6888, 245, 256, 8194, 779, 784, 21276, 288, 289, 820, 315, 324, 1364, 858, 861, 361, 380, 900, 902, 400, 13200, 5530, 441, 961, 1482, 980, 20448, 484, 2025}\n"
     ]
    }
   ],
   "source": [
    "print (set(all_recurrence))"
   ]
  },
  {
   "cell_type": "code",
   "execution_count": 35,
   "metadata": {},
   "outputs": [
    {
     "name": "stdout",
     "output_type": "stream",
     "text": [
      "8825\n"
     ]
    }
   ],
   "source": [
    "print (df.id.nunique())"
   ]
  },
  {
   "cell_type": "code",
   "execution_count": null,
   "metadata": {
    "collapsed": true
   },
   "outputs": [],
   "source": []
  }
 ],
 "metadata": {
  "kernelspec": {
   "display_name": "Python 3",
   "language": "python",
   "name": "python3"
  },
  "language_info": {
   "codemirror_mode": {
    "name": "ipython",
    "version": 3
   },
   "file_extension": ".py",
   "mimetype": "text/x-python",
   "name": "python",
   "nbconvert_exporter": "python",
   "pygments_lexer": "ipython3",
   "version": "3.6.5"
  }
 },
 "nbformat": 4,
 "nbformat_minor": 2
}
