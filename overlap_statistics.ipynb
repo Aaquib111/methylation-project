{
 "cells": [
  {
   "cell_type": "code",
   "execution_count": 35,
   "metadata": {
    "collapsed": false
   },
   "outputs": [],
   "source": [
    "import numpy as np\n",
    "import matplotlib.pyplot as plt\n",
    "%matplotlib inline\n",
    "import pandas as pd\n",
    "import os\n",
    "os.chdir('/Users/khandekara2/Documents/methylationProject/01_data/hotspots')\n",
    "df = pd.read_csv('all_hotspots.tsv', sep='\\t')"
   ]
  },
  {
   "cell_type": "code",
   "execution_count": 36,
   "metadata": {
    "collapsed": false
   },
   "outputs": [],
   "source": [
    "methylated = df[df['methylation_ratio'] > 0.4]"
   ]
  },
  {
   "cell_type": "code",
   "execution_count": 37,
   "metadata": {
    "collapsed": false
   },
   "outputs": [
    {
     "name": "stdout",
     "output_type": "stream",
     "text": [
      "<class 'pandas.core.frame.DataFrame'>\n",
      "Int64Index: 193 entries, 1 to 240\n",
      "Data columns (total 13 columns):\n",
      "chromosome           193 non-null object\n",
      "start                193 non-null int64\n",
      "stop                 193 non-null int64\n",
      "id                   193 non-null object\n",
      "mutated_from         193 non-null object\n",
      "mutated_to           193 non-null object\n",
      "annotation           193 non-null object\n",
      "gene_id              193 non-null object\n",
      "methylation_ratio    193 non-null float64\n",
      "gene                 193 non-null object\n",
      "description          188 non-null object\n",
      "location             193 non-null object\n",
      "cancer_type          193 non-null object\n",
      "dtypes: float64(1), int64(2), object(10)\n",
      "memory usage: 21.1+ KB\n"
     ]
    }
   ],
   "source": [
    "methylated.info()"
   ]
  },
  {
   "cell_type": "code",
   "execution_count": 9,
   "metadata": {
    "collapsed": false
   },
   "outputs": [],
   "source": [
    "cancer = pd.read_csv('all_cancer_hotspots.tsv', sep='\\t')"
   ]
  },
  {
   "cell_type": "code",
   "execution_count": 10,
   "metadata": {
    "collapsed": true
   },
   "outputs": [],
   "source": [
    "cancer_methylated = cancer[cancer['methylation_ratio'] > 0.5]"
   ]
  },
  {
   "cell_type": "code",
   "execution_count": 11,
   "metadata": {
    "collapsed": false
   },
   "outputs": [
    {
     "name": "stdout",
     "output_type": "stream",
     "text": [
      "<class 'pandas.core.frame.DataFrame'>\n",
      "Int64Index: 15 entries, 0 to 26\n",
      "Data columns (total 13 columns):\n",
      "chromosome           15 non-null object\n",
      "start                15 non-null int64\n",
      "stop                 15 non-null int64\n",
      "id                   15 non-null object\n",
      "mutated_from         15 non-null object\n",
      "mutated_to           15 non-null object\n",
      "annotation           15 non-null object\n",
      "gene_id              15 non-null object\n",
      "methylation_ratio    15 non-null float64\n",
      "gene                 15 non-null object\n",
      "gene_description     15 non-null object\n",
      "location             15 non-null object\n",
      "cancer_type          15 non-null object\n",
      "dtypes: float64(1), int64(2), object(10)\n",
      "memory usage: 1.6+ KB\n"
     ]
    }
   ],
   "source": [
    "cancer_methylated.info()"
   ]
  },
  {
   "cell_type": "code",
   "execution_count": 12,
   "metadata": {
    "collapsed": true
   },
   "outputs": [],
   "source": [
    "pbca = pd.read_csv('PBCA_expanded.tsv', sep='\\t')\n",
    "maly = pd.read_csv('MALY_expanded.tsv', sep='\\t')"
   ]
  },
  {
   "cell_type": "code",
   "execution_count": 21,
   "metadata": {
    "collapsed": false
   },
   "outputs": [],
   "source": [
    "import pickle as cPickle\n",
    "common_samples = cPickle.load(open(\"common_samples.pickle\", \"rb\"))"
   ]
  },
  {
   "cell_type": "code",
   "execution_count": 23,
   "metadata": {
    "collapsed": false
   },
   "outputs": [
    {
     "name": "stdout",
     "output_type": "stream",
     "text": [
      "58\n"
     ]
    }
   ],
   "source": [
    "print (len(common_samples))"
   ]
  },
  {
   "cell_type": "code",
   "execution_count": 27,
   "metadata": {
    "collapsed": false
   },
   "outputs": [],
   "source": [
    "frames = []\n",
    "for sample in pbca['id'].unique():\n",
    "    if sample in common_samples:\n",
    "        df = pbca[pbca['id'] == sample]\n",
    "        frames.append(df)\n",
    "        \n",
    "        \n",
    "for sample in maly['id'].unique():\n",
    "    if sample in common_samples:\n",
    "        df = maly[maly['id'] == sample]\n",
    "        frames.append(df)\n",
    "\n",
    "\n",
    "df = pd.concat(frames)"
   ]
  },
  {
   "cell_type": "code",
   "execution_count": 28,
   "metadata": {
    "collapsed": true
   },
   "outputs": [],
   "source": [
    "\n",
    "methylated = df[df['methylation_ratio'] > 0.5]\n"
   ]
  },
  {
   "cell_type": "code",
   "execution_count": 29,
   "metadata": {
    "collapsed": false
   },
   "outputs": [
    {
     "name": "stdout",
     "output_type": "stream",
     "text": [
      "<class 'pandas.core.frame.DataFrame'>\n",
      "Int64Index: 65607008 entries, 15785014 to 33414613\n",
      "Data columns (total 5 columns):\n",
      "chromosome           object\n",
      "start                int64\n",
      "stop                 int64\n",
      "id                   object\n",
      "methylation_ratio    float64\n",
      "dtypes: float64(1), int64(2), object(2)\n",
      "memory usage: 2.9+ GB\n"
     ]
    }
   ],
   "source": [
    "methylated.info()"
   ]
  },
  {
   "cell_type": "code",
   "execution_count": 30,
   "metadata": {
    "collapsed": false
   },
   "outputs": [],
   "source": [
    "methylated.to_csv('methylated_expanded.bed', sep='\\t', index=False, header=False)\n"
   ]
  },
  {
   "cell_type": "code",
   "execution_count": 31,
   "metadata": {
    "collapsed": true
   },
   "outputs": [],
   "source": [
    "df.to_csv('all_common_samples_expanded.bed', sep='\\t', index=False, header=False)"
   ]
  },
  {
   "cell_type": "code",
   "execution_count": 16,
   "metadata": {
    "collapsed": false
   },
   "outputs": [
    {
     "data": {
      "text/plain": [
       "79727252"
      ]
     },
     "execution_count": 16,
     "metadata": {},
     "output_type": "execute_result"
    }
   ],
   "source": [
    "56353812 + 23373440"
   ]
  },
  {
   "cell_type": "code",
   "execution_count": 17,
   "metadata": {
    "collapsed": true
   },
   "outputs": [],
   "source": [
    "a = {'a', 'b', 'c'}\n",
    "b = {'d', 'e', 'f'}\n",
    "a.update(b)"
   ]
  },
  {
   "cell_type": "code",
   "execution_count": 19,
   "metadata": {
    "collapsed": false
   },
   "outputs": [
    {
     "name": "stdout",
     "output_type": "stream",
     "text": [
      "{'a', 'e', 'f', 'b', 'c', 'd'}\n"
     ]
    }
   ],
   "source": [
    "print (a)"
   ]
  },
  {
   "cell_type": "code",
   "execution_count": 39,
   "metadata": {
    "collapsed": false
   },
   "outputs": [
    {
     "name": "stdout",
     "output_type": "stream",
     "text": [
      "\n",
      "    Perform a test that the probability of success is p.\n",
      "\n",
      "    This is an exact, two-sided test of the null hypothesis\n",
      "    that the probability of success in a Bernoulli experiment\n",
      "    is `p`.\n",
      "\n",
      "    Parameters\n",
      "    ----------\n",
      "    x : integer or array_like\n",
      "        the number of successes, or if x has length 2, it is the\n",
      "        number of successes and the number of failures.\n",
      "    n : integer\n",
      "        the number of trials.  This is ignored if x gives both the\n",
      "        number of successes and failures\n",
      "    p : float, optional\n",
      "        The hypothesized probability of success.  0 <= p <= 1. The\n",
      "        default value is p = 0.5\n",
      "    alternative : {'two-sided', 'greater', 'less'}, optional\n",
      "        Indicates the alternative hypothesis. The default value is\n",
      "        'two-sided'.\n",
      "\n",
      "    Returns\n",
      "    -------\n",
      "    p-value : float\n",
      "        The p-value of the hypothesis test\n",
      "\n",
      "    References\n",
      "    ----------\n",
      "    .. [1] http://en.wikipedia.org/wiki/Binomial_test\n",
      "\n",
      "    \n"
     ]
    }
   ],
   "source": [
    "from scipy import stats\n",
    "print (stats.binom_test.__doc__)"
   ]
  },
  {
   "cell_type": "code",
   "execution_count": 44,
   "metadata": {
    "collapsed": false
   },
   "outputs": [
    {
     "name": "stdout",
     "output_type": "stream",
     "text": [
      "0.189349308664\n"
     ]
    }
   ],
   "source": [
    "x = 154 #of successes(# of mutations that overlap with 5mCpG)\n",
    "n = 241 # of all CpG mutations in all samples\n",
    "p = 0.68\n",
    "\n",
    "p_value = stats.binom_test(x, n, p)\n",
    "print (p_value)"
   ]
  },
  {
   "cell_type": "code",
   "execution_count": null,
   "metadata": {
    "collapsed": true
   },
   "outputs": [],
   "source": []
  }
 ],
 "metadata": {
  "kernelspec": {
   "display_name": "Python 3",
   "language": "python",
   "name": "python3"
  },
  "language_info": {
   "codemirror_mode": {
    "name": "ipython",
    "version": 3
   },
   "file_extension": ".py",
   "mimetype": "text/x-python",
   "name": "python",
   "nbconvert_exporter": "python",
   "pygments_lexer": "ipython3",
   "version": "3.6.0"
  }
 },
 "nbformat": 4,
 "nbformat_minor": 2
}
