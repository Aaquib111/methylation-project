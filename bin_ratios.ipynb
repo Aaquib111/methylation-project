{
 "cells": [
  {
   "cell_type": "code",
   "execution_count": 18,
   "metadata": {
    "collapsed": false
   },
   "outputs": [],
   "source": [
    "import pandas as pd\n",
    "import matplotlib.pyplot as plt\n",
    "%matplotlib inline\n",
    "import numpy as np\n",
    "from scipy import stats"
   ]
  },
  {
   "cell_type": "code",
   "execution_count": 19,
   "metadata": {
    "collapsed": true
   },
   "outputs": [],
   "source": [
    "mutToFrequency = {} #key is bin, value is frequency of mutated CpG sites in this bin\n",
    "totalCpGFrequency = {} #key is bin, value is total frequency of CpG sites in this bin"
   ]
  },
  {
   "cell_type": "code",
   "execution_count": 20,
   "metadata": {
    "collapsed": true
   },
   "outputs": [],
   "source": [
    "#takes a list of methylation ratios and \"bins\" them while keeping track of the frequency in each bin.\n",
    "#ratios of exactly 0 and exactly 1 are separate bins, and the rest are in increments of 0.1 from 0 to 1 for a total of 12 bins\n",
    "#for example, a bin of 0.25 represents all methylation ratios falling between 0.2 and 0.3\n",
    "def bin(binToFrequency, ratios):\n",
    "    for ratio in ratios:\n",
    "        if ratio == 0: #0\n",
    "            if 0 not in binToFrequency.keys():\n",
    "                binToFrequency[0] = 0\n",
    "            binToFrequency[0] += 1\n",
    "\n",
    "        elif ratio > 0 and ratio <= 0.1: #0.05\n",
    "            if 0.05 not in binToFrequency.keys():\n",
    "                binToFrequency[0.05] = 0\n",
    "            binToFrequency[0.05] += 1\n",
    "\n",
    "        elif ratio > 0.1 and ratio <= 0.2: #0.15\n",
    "            if 0.15 not in binToFrequency.keys():\n",
    "                binToFrequency[0.15] = 0\n",
    "            binToFrequency[0.15] += 1\n",
    "\n",
    "        elif ratio > 0.2 and ratio <= 0.3: #0.25\n",
    "            if 0.25 not in binToFrequency.keys():\n",
    "                binToFrequency[0.25] = 0\n",
    "            binToFrequency[0.25] += 1\n",
    "\n",
    "        elif ratio > 0.3 and ratio <= 0.4: #0.35\n",
    "            if 0.35 not in binToFrequency.keys():\n",
    "                binToFrequency[0.35] = 0\n",
    "            binToFrequency[0.35] += 1\n",
    "\n",
    "        elif ratio > 0.4 and ratio <= 0.5: #0.45\n",
    "            if 0.45 not in binToFrequency.keys():\n",
    "                binToFrequency[0.45] = 0\n",
    "            binToFrequency[0.45] += 1\n",
    "\n",
    "        elif ratio > 0.5 and ratio <= 0.6: #0.55\n",
    "            if 0.55 not in binToFrequency.keys():\n",
    "                binToFrequency[0.55] = 0\n",
    "            binToFrequency[0.55] += 1\n",
    "\n",
    "        elif ratio > 0.6 and ratio <= 0.7: #0.65\n",
    "            if 0.65 not in binToFrequency.keys():\n",
    "                binToFrequency[0.65] = 0\n",
    "            binToFrequency[0.65] += 1\n",
    "\n",
    "        elif ratio > 0.7 and ratio <= 0.8: #0.75\n",
    "            if 0.75 not in binToFrequency.keys():\n",
    "                binToFrequency[0.75] = 0\n",
    "            binToFrequency[0.75] += 1\n",
    "\n",
    "        elif ratio > 0.8 and ratio <= 0.9: #0.85\n",
    "            if 0.85 not in binToFrequency.keys():\n",
    "                binToFrequency[0.85] = 0\n",
    "            binToFrequency[0.85] += 1\n",
    "\n",
    "        elif ratio > 0.9 and ratio < 1: #0.95\n",
    "            if 0.95 not in binToFrequency.keys():\n",
    "                binToFrequency[0.95] = 0\n",
    "            binToFrequency[0.95] += 1\n",
    "\n",
    "        else: #ratio == 1\n",
    "            if 1 not in binToFrequency.keys():\n",
    "                binToFrequency[1] = 0\n",
    "            binToFrequency[1] += 1"
   ]
  },
  {
   "cell_type": "code",
   "execution_count": 21,
   "metadata": {
    "collapsed": false
   },
   "outputs": [],
   "source": [
    "#Input file 1: bed file containing all CpG's tested and their mean methylation ratio\n",
    "#Input file 2: bed file containing all CpG sites where mutations occurred\n",
    "df = pd.read_csv('/Users/khandekara2/Documents/methylationProject/01_data/PBCA_cds_average_methylation_expanded.bed', sep='\\t')\n",
    "mut = pd.read_csv('/Users/khandekara2/Documents/methylationProject/01_data/PBCA_cds_average_methylation_mutation_expanded.bed', sep='\\t')\n",
    "\n",
    "means = df['mean']\n",
    "means2 = mut['mean']\n",
    "\n",
    "bin(totalCpGFrequency, means)\n",
    "bin(mutToFrequency, means2)"
   ]
  },
  {
   "cell_type": "code",
   "execution_count": 22,
   "metadata": {
    "collapsed": false
   },
   "outputs": [
    {
     "name": "stdout",
     "output_type": "stream",
     "text": [
      "{0.95: 1111, 0.15: 34, 0.65: 141, 0.85: 431, 0.75: 240, 0: 36, 0.55: 103, 0.45: 64, 0.05: 97, 0.35: 31, 0.25: 29}\n"
     ]
    }
   ],
   "source": [
    "print (mutToFrequency)"
   ]
  },
  {
   "cell_type": "code",
   "execution_count": 23,
   "metadata": {
    "collapsed": false
   },
   "outputs": [
    {
     "name": "stdout",
     "output_type": "stream",
     "text": [
      "{0.95: 718702, 0.85: 339590, 0.65: 105322, 0.75: 169048, 0.05: 293608, 0.45: 54630, 0.15: 47976, 0.25: 42284, 0.35: 45384, 0.55: 72396, 0: 116632, 1: 638}\n"
     ]
    }
   ],
   "source": [
    "print (totalCpGFrequency)"
   ]
  },
  {
   "cell_type": "code",
   "execution_count": 24,
   "metadata": {
    "collapsed": false
   },
   "outputs": [],
   "source": [
    "xs = np.array(list(mutToFrequency.keys()))\n",
    "ys = np.array([mutToFrequency[x]/totalCpGFrequency[x]*1000 for x in mutToFrequency.keys()]) #frequency of mutations per megabase"
   ]
  },
  {
   "cell_type": "code",
   "execution_count": 25,
   "metadata": {
    "collapsed": false
   },
   "outputs": [
    {
     "name": "stdout",
     "output_type": "stream",
     "text": [
      "[ 0.95  0.15  0.65  0.85  0.75  0.    0.55  0.45  0.05  0.35  0.25]\n",
      "[ 1.54584237  0.70868768  1.33875164  1.26917754  1.41971511  0.30866315\n",
      "  1.42273054  1.17151748  0.33037247  0.68306011  0.68583862]\n",
      "11\n",
      "11\n"
     ]
    }
   ],
   "source": [
    "print (xs)\n",
    "print (ys)\n",
    "print (len(xs))\n",
    "print (len(ys))"
   ]
  },
  {
   "cell_type": "code",
   "execution_count": 26,
   "metadata": {
    "collapsed": false
   },
   "outputs": [],
   "source": [
    "slope, intercept, r_value, p_value, std_err = stats.linregress(xs,ys)\n",
    "line = slope*xs + intercept\n",
    "# plt.plot(xs, ys, 'o')\n",
    "# plt.plot(xs, ys, 'o', line)"
   ]
  },
  {
   "cell_type": "code",
   "execution_count": 27,
   "metadata": {
    "collapsed": false
   },
   "outputs": [
    {
     "data": {
      "text/plain": [
       "<matplotlib.text.Text at 0x118bc4b00>"
      ]
     },
     "execution_count": 27,
     "metadata": {},
     "output_type": "execute_result"
    },
    {
     "data": {
      "image/png": "[encoded data removed]",
      "text/plain": [
       "<matplotlib.figure.Figure at 0x116ffa668>"
      ]
     },
     "metadata": {},
     "output_type": "display_data"
    }
   ],
   "source": [
    "plt.xticks([0, 0.25, 0.5, 0.75, 1])\n",
    "plt.plot(xs, ys, 'o', xs, line, '-')\n",
    "plt.ylabel('Mutations per KB of CpG dinucleotides')\n",
    "plt.xlabel('Fraction CpGs Methylated')\n",
    "plt.title('PBCA')"
   ]
  },
  {
   "cell_type": "code",
   "execution_count": 28,
   "metadata": {
    "collapsed": false
   },
   "outputs": [
    {
     "name": "stdout",
     "output_type": "stream",
     "text": [
      "3.01357756664e-05\n"
     ]
    }
   ],
   "source": [
    "print (\"Slope: \" slope)\n",
    "print (\"P-value: \" p_value)\n",
    "print (\"R-squared: \" r_value**2)"
   ]
  },
  {
   "cell_type": "code",
   "execution_count": 29,
   "metadata": {
    "collapsed": false
   },
   "outputs": [
    {
     "name": "stdout",
     "output_type": "stream",
     "text": [
      "0.868078442013\n"
     ]
    }
   ],
   "source": []
  },
  {
   "cell_type": "code",
   "execution_count": 30,
   "metadata": {
    "collapsed": false
   },
   "outputs": [
    {
     "name": "stdout",
     "output_type": "stream",
     "text": [
      "1.30947832036\n"
     ]
    }
   ],
   "source": [
    "print (slope)"
   ]
  }
 ],
 "metadata": {
  "kernelspec": {
   "display_name": "Python 3",
   "language": "python",
   "name": "python3"
  },
  "language_info": {
   "codemirror_mode": {
    "name": "ipython",
    "version": 3
   },
   "file_extension": ".py",
   "mimetype": "text/x-python",
   "name": "python",
   "nbconvert_exporter": "python",
   "pygments_lexer": "ipython3",
   "version": "3.6.0"
  }
 },
 "nbformat": 4,
 "nbformat_minor": 2
}
