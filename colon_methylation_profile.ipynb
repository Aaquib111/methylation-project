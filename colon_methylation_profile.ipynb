{
 "cells": [
  {
   "cell_type": "code",
   "execution_count": 69,
   "metadata": {
    "collapsed": true
   },
   "outputs": [],
   "source": [
    "import numpy as np\n",
    "import matplotlib.pyplot as plt\n",
    "import pandas as pd\n",
    "import csv\n",
    "import pickle"
   ]
  },
  {
   "cell_type": "code",
   "execution_count": 70,
   "metadata": {},
   "outputs": [],
   "source": [
    "#input WGBS file from normal tissue\n",
    "df = pd.read_csv('/Users/khandekara2/Documents/methylationProject/01_data/Thymus_TP53_cds.bed.tsv', sep='\\t')\n",
    "locations = []\n",
    "for chrom, start, stop in zip(list(df['chromosome']), list(df['start']), list(df['stop'])):\n",
    "    locations.append((str(chrom), int(start), int(stop)))\n",
    "df['location'] = locations\n",
    "x = np.array([i for i in range(1, df.shape[0] + 1)])\n",
    "x_labels = sorted(list(set([i[1] for i in df.location]))) #coordinate of cytosine as labels\n",
    "c = list(df.start)\n",
    "c = [i for i in c if i in x_labels]\n",
    "c.sort() # now normal and cancer coordinates are matching\n",
    "y2 = np.array(df['methylation_ratio']) #methylation ratio from normal tissue \n"
   ]
  },
  {
   "cell_type": "code",
   "execution_count": 71,
   "metadata": {},
   "outputs": [],
   "source": [
    "locations = []\n",
    "for chrom, start, stop in zip(list(df['chromosome']), list(df['start']), list(df['stop'])):\n",
    "    locations.append((str(chrom), int(start), int(stop)))\n",
    "df['location'] = locations\n",
    "x = np.array([i for i in range(1, df.shape[0] + 1)])\n",
    "labels = list(set([i[1] for i in df.location])) #coordinate of cytosine as labels\n",
    "labels.sort()\n",
    "tss = 7572926 #translation start site of TP53\n",
    "x_labels = [i - 7572926 for i in labels]"
   ]
  },
  {
   "cell_type": "code",
   "execution_count": 72,
   "metadata": {},
   "outputs": [
    {
     "name": "stdout",
     "output_type": "stream",
     "text": [
      "[7577119 7577537 7577547]\n",
      "[1.1, 1.1, 1.1]\n"
     ]
    }
   ],
   "source": [
    "#add mutated sites to profile\n",
    "mutation_dict = pickle.load(open('/Users/khandekara2/Documents/methylationProject/01_data/mutation_dict_pickles/MALY_mutation_dict.pickle', 'rb'))\n",
    "mutations = [] #coordinate of mutated site\n",
    "mut_ratios = [] #methylation ratio of mutated site if available\n",
    "frequencies = [] #frequency of mutation(# of samples it occurred in)\n",
    "for loc, sample, ratio in zip(df.location, df.id, df.methylation_ratio):\n",
    "    if loc in mutation_dict and loc[1] not in mutations:\n",
    "        if sample in mutation_dict[loc]:\n",
    "            mut_ratios.append(ratio)\n",
    "        else:\n",
    "            mut_ratios.append(1.1)\n",
    "            \n",
    "        mutations.append(loc[1])\n",
    "        frequencies.append(len(mutation_dict[loc]))\n",
    "        \n",
    "    loc2 = (loc[0], loc[1] + 1, loc[2] + 1) #take care of the second cytosine in the dyad\n",
    "    if loc2 in mutation_dict and loc[1] not in mutations:\n",
    "        if sample in mutation_dict[loc2]:\n",
    "            mut_ratios.append(ratio)\n",
    "        else:\n",
    "            mut_ratios.append(1.1)\n",
    "        mutations.append(loc[1])\n",
    "        frequencies.append(len(mutation_dict[loc2]))\n",
    "               \n",
    "# mut_ratios = [0.0 for _ in mutations]\n",
    "\n",
    "#get total number of samples\n",
    "samples = set([])\n",
    "for l in mutation_dict.values():\n",
    "    for sample in l:\n",
    "        samples.add(sample)\n",
    "num_samples = len(samples)"
   ]
  },
  {
   "cell_type": "code",
   "execution_count": 73,
   "metadata": {},
   "outputs": [
    {
     "data": {
      "image/png": "[encoded data removed]",
      "text/plain": [
       "<matplotlib.figure.Figure at 0x130c114e0>"
      ]
     },
     "metadata": {},
     "output_type": "display_data"
    }
   ],
   "source": [
    "%matplotlib inline\n",
    "fig = plt.figure(figsize=(20, 2))\n",
    "ax = fig.add_subplot(111)\n",
    "ax.set_xticks(x)\n",
    "ax.set_xticklabels(x_labels, rotation='vertical', fontsize=12)\n",
    "ax.set_ylim((0.0, 1.1))\n",
    "# ax.errorbar(x, y, yerr=y_err, fmt='o')\n",
    "ax.set_xlabel('Distance from TSS', fontsize=14)\n",
    "ax.set_ylabel('Methylation Ratio', fontsize=14)\n",
    "ax.scatter(x, y2, color='red')\n",
    "# ax.scatter(np.array(list(mutations)), np.array(mut_ratios), color='green')\n",
    "trans = ax.get_xaxis_transform()\n",
    "for u, v, f in zip(mutations, mut_ratios, frequencies):\n",
    "    ax.annotate(str(round((f / num_samples) * 100, 1)), xy=(labels.index(u) + 1, v), xycoords=trans, arrowprops=dict(facecolor='black', shrink=0.5,))\n",
    "ttl = ax.title\n",
    "ttl.set_position([.5, 1.2])\n",
    "ax.set_title('Methylation Profile of TP53 Coding Region in Thymus', fontsize=16)\n",
    "# plt.gcf().subplots_adjust(bottom=0.15)\n",
    "fig.savefig('/Users/khandekara2/Documents/methylationProject/03_results/thymus_methylation_profile.png', bbox_inches='tight')"
   ]
  },
  {
   "cell_type": "code",
   "execution_count": 74,
   "metadata": {},
   "outputs": [
    {
     "name": "stdout",
     "output_type": "stream",
     "text": [
      "[3, 1, 1]\n"
     ]
    }
   ],
   "source": [
    "print (frequencies)"
   ]
  },
  {
   "cell_type": "code",
   "execution_count": 75,
   "metadata": {},
   "outputs": [
    {
     "name": "stdout",
     "output_type": "stream",
     "text": [
      "100\n"
     ]
    }
   ],
   "source": [
    "print (num_samples)"
   ]
  },
  {
   "cell_type": "code",
   "execution_count": null,
   "metadata": {},
   "outputs": [],
   "source": []
  },
  {
   "cell_type": "code",
   "execution_count": null,
   "metadata": {},
   "outputs": [],
   "source": []
  }
 ],
 "metadata": {
  "kernelspec": {
   "display_name": "Python 3",
   "language": "python",
   "name": "python3"
  },
  "language_info": {
   "codemirror_mode": {
    "name": "ipython",
    "version": 3
   },
   "file_extension": ".py",
   "mimetype": "text/x-python",
   "name": "python",
   "nbconvert_exporter": "python",
   "pygments_lexer": "ipython3",
   "version": "3.6.3"
  }
 },
 "nbformat": 4,
 "nbformat_minor": 2
}
