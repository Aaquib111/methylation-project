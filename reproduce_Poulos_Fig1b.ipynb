{
 "cells": [
  {
   "cell_type": "code",
   "execution_count": 34,
   "metadata": {
    "collapsed": false
   },
   "outputs": [],
   "source": [
    "import pandas as pd\n",
    "import matplotlib.pyplot as plt\n",
    "%matplotlib inline\n",
    "import numpy as np\n",
    "from scipy import stats"
   ]
  },
  {
   "cell_type": "code",
   "execution_count": 35,
   "metadata": {
    "collapsed": true
   },
   "outputs": [],
   "source": [
    "mutToFrequency = {} #key is bin, value is frequency of mutated CpG sites in this bin\n",
    "totalCpGFrequency = {} #key is bin, value is total frequency of CpG sites in this bin"
   ]
  },
  {
   "cell_type": "code",
   "execution_count": 36,
   "metadata": {
    "collapsed": true
   },
   "outputs": [],
   "source": [
    "#takes a list of methylation ratios and \"bins\" them while keeping track of the frequency in each bin.\n",
    "#ratios of exactly 0 and exactly 1 are separate bins, and the rest are in increments of 0.1 from 0 to 1 for a total of 12 bins\n",
    "#for example, a bin of 0.25 represents all methylation ratios falling between 0.2 and 0.3\n",
    "def bin(binToFrequency, ratios):\n",
    "    for ratio in ratios:\n",
    "        if ratio == 0: #0\n",
    "            if 0 not in binToFrequency.keys():\n",
    "                binToFrequency[0] = 0\n",
    "            binToFrequency[0] += 1\n",
    "\n",
    "        elif ratio > 0 and ratio <= 0.1: #0.05\n",
    "            if 0.05 not in binToFrequency.keys():\n",
    "                binToFrequency[0.05] = 0\n",
    "            binToFrequency[0.05] += 1\n",
    "\n",
    "        elif ratio > 0.1 and ratio <= 0.2: #0.15\n",
    "            if 0.15 not in binToFrequency.keys():\n",
    "                binToFrequency[0.15] = 0\n",
    "            binToFrequency[0.15] += 1\n",
    "\n",
    "        elif ratio > 0.2 and ratio <= 0.3: #0.25\n",
    "            if 0.25 not in binToFrequency.keys():\n",
    "                binToFrequency[0.25] = 0\n",
    "            binToFrequency[0.25] += 1\n",
    "\n",
    "        elif ratio > 0.3 and ratio <= 0.4: #0.35\n",
    "            if 0.35 not in binToFrequency.keys():\n",
    "                binToFrequency[0.35] = 0\n",
    "            binToFrequency[0.35] += 1\n",
    "\n",
    "        elif ratio > 0.4 and ratio <= 0.5: #0.45\n",
    "            if 0.45 not in binToFrequency.keys():\n",
    "                binToFrequency[0.45] = 0\n",
    "            binToFrequency[0.45] += 1\n",
    "\n",
    "        elif ratio > 0.5 and ratio <= 0.6: #0.55\n",
    "            if 0.55 not in binToFrequency.keys():\n",
    "                binToFrequency[0.55] = 0\n",
    "            binToFrequency[0.55] += 1\n",
    "\n",
    "        elif ratio > 0.6 and ratio <= 0.7: #0.65\n",
    "            if 0.65 not in binToFrequency.keys():\n",
    "                binToFrequency[0.65] = 0\n",
    "            binToFrequency[0.65] += 1\n",
    "\n",
    "        elif ratio > 0.7 and ratio <= 0.8: #0.75\n",
    "            if 0.75 not in binToFrequency.keys():\n",
    "                binToFrequency[0.75] = 0\n",
    "            binToFrequency[0.75] += 1\n",
    "\n",
    "        elif ratio > 0.8 and ratio <= 0.9: #0.85\n",
    "            if 0.85 not in binToFrequency.keys():\n",
    "                binToFrequency[0.85] = 0\n",
    "            binToFrequency[0.85] += 1\n",
    "\n",
    "        elif ratio > 0.9 and ratio < 1: #0.95\n",
    "            if 0.95 not in binToFrequency.keys():\n",
    "                binToFrequency[0.95] = 0\n",
    "            binToFrequency[0.95] += 1\n",
    "\n",
    "        else: #ratio == 1\n",
    "            if 1 not in binToFrequency.keys():\n",
    "                binToFrequency[1] = 0\n",
    "            binToFrequency[1] += 1"
   ]
  },
  {
   "cell_type": "code",
   "execution_count": 37,
   "metadata": {
    "collapsed": false
   },
   "outputs": [],
   "source": [
    "#Input file 1: bed file containing all CpG's tested and their mean methylation ratio\n",
    "#Input file 2: bed file containing all CpG sites where mutations occurred\n",
    "\n",
    "df = pd.read_csv('/Users/khandekara2/Documents/methylationProject/01_data/normal_colon_WGBS_processed_expanded.bed', sep='\\t', header=None)\n",
    "mut = pd.read_csv('/Users/khandekara2/Documents/methylationProject/01_data/POLE_methylation_mutation.bed', sep='\\t', header=None)\n",
    "\n",
    "means = df.iloc[:, 4]\n",
    "means2 = mut.iloc[:, 4]\n",
    "\n",
    "bin(totalCpGFrequency, means)\n",
    "bin(mutToFrequency, means2)"
   ]
  },
  {
   "cell_type": "code",
   "execution_count": 38,
   "metadata": {
    "collapsed": false
   },
   "outputs": [
    {
     "name": "stdout",
     "output_type": "stream",
     "text": [
      "{0.85: 140787, 0.75: 45706, 0.65: 17990, 0.55: 10001, 0.95: 318897, 0: 1666, 1: 37640, 0.25: 1567, 0.45: 7068, 0.35: 3276, 0.15: 1160, 0.05: 1619}\n"
     ]
    }
   ],
   "source": [
    "print (mutToFrequency)"
   ]
  },
  {
   "cell_type": "code",
   "execution_count": 39,
   "metadata": {
    "collapsed": false
   },
   "outputs": [
    {
     "name": "stdout",
     "output_type": "stream",
     "text": [
      "{0.75: 4363152, 0.65: 2274910, 0.85: 10110234, 0.95: 22532826, 0.55: 1462494, 0.35: 663720, 0.45: 1124304, 0.25: 449640, 1: 4051256, 0.15: 484930, 0: 2811264, 0.05: 1550384}\n"
     ]
    }
   ],
   "source": [
    "print (totalCpGFrequency)"
   ]
  },
  {
   "cell_type": "code",
   "execution_count": 40,
   "metadata": {
    "collapsed": false
   },
   "outputs": [],
   "source": [
    "xs = np.array(sorted(list(mutToFrequency.keys())))\n",
    "ys = np.array([(mutToFrequency[x] / 7) / (totalCpGFrequency[x] / 1000000) for x in xs]) #frequency of mutations per megabase"
   ]
  },
  {
   "cell_type": "code",
   "execution_count": 41,
   "metadata": {
    "collapsed": false
   },
   "outputs": [
    {
     "name": "stdout",
     "output_type": "stream",
     "text": [
      "[ 0.    0.05  0.15  0.25  0.35  0.45  0.55  0.65  0.75  0.85  0.95  1.  ]\n",
      "[   84.65942722   149.17963181   341.72826122   497.85860434   705.11661544\n",
      "   898.07942133   976.9026647   1129.71502169  1496.49349173  1989.3138548\n",
      "  2021.79319566  1327.27797432]\n",
      "12\n",
      "12\n"
     ]
    }
   ],
   "source": [
    "print (xs)\n",
    "print (ys)\n",
    "print (len(xs))\n",
    "print (len(ys))"
   ]
  },
  {
   "cell_type": "code",
   "execution_count": 42,
   "metadata": {
    "collapsed": false
   },
   "outputs": [],
   "source": [
    "slope, intercept, r_value, p_value, std_err = stats.linregress(xs,ys)\n",
    "line = slope*xs + intercept\n",
    "# plt.plot(xs, ys, 'o')\n",
    "# plt.plot(xs, ys, 'o', line)"
   ]
  },
  {
   "cell_type": "code",
   "execution_count": 43,
   "metadata": {
    "collapsed": false
   },
   "outputs": [
    {
     "data": {
      "text/plain": [
       "<matplotlib.text.Text at 0x1469d5a90>"
      ]
     },
     "execution_count": 43,
     "metadata": {},
     "output_type": "execute_result"
    },
    {
     "data": {
      "image/png": "[encoded data removed]",
      "text/plain": [
       "<matplotlib.figure.Figure at 0x146100cf8>"
      ]
     },
     "metadata": {},
     "output_type": "display_data"
    }
   ],
   "source": [
    "plt.xticks([0, 0.25, 0.5, 0.75, 1])\n",
    "plt.plot(xs, ys, 'o', xs, line, '-')\n",
    "plt.ylabel('Mutations per MB of CpG dinucleotides')\n",
    "plt.xlabel('Fraction CpGs Methylated')\n",
    "plt.title('POLE-Mutant')\n",
    "plt.gcf().text(1.0, 0.8, \"Slope: %.2f\" %slope, fontsize=12)\n",
    "plt.gcf().text(1.0, 0.7, \"P-value: %d\" %p_value, fontsize=12)\n",
    "plt.gcf().text(1.0, 0.6, \"R-squared: %.2f\" %r_value**2, fontsize=12)"
   ]
  },
  {
   "cell_type": "code",
   "execution_count": 44,
   "metadata": {
    "collapsed": false
   },
   "outputs": [],
   "source": [
    "# print (\"Slope: %d\" %slope)\n",
    "# print (\"P-value: \" %p_value)\n",
    "# print (\"R-squared: \" %r_value**2)"
   ]
  },
  {
   "cell_type": "code",
   "execution_count": null,
   "metadata": {
    "collapsed": false
   },
   "outputs": [],
   "source": []
  },
  {
   "cell_type": "code",
   "execution_count": 45,
   "metadata": {
    "collapsed": false
   },
   "outputs": [
    {
     "name": "stdout",
     "output_type": "stream",
     "text": [
      "1779.56979622\n",
      "4.58791914354e-06\n",
      "0.887841615388\n"
     ]
    }
   ],
   "source": [
    "print (slope)\n",
    "print (p_value)\n",
    "print (r_value**2)"
   ]
  },
  {
   "cell_type": "code",
   "execution_count": null,
   "metadata": {
    "collapsed": true
   },
   "outputs": [],
   "source": []
  }
 ],
 "metadata": {
  "kernelspec": {
   "display_name": "Python 3",
   "language": "python",
   "name": "python3"
  },
  "language_info": {
   "codemirror_mode": {
    "name": "ipython",
    "version": 3
   },
   "file_extension": ".py",
   "mimetype": "text/x-python",
   "name": "python",
   "nbconvert_exporter": "python",
   "pygments_lexer": "ipython3",
   "version": "3.6.3"
  }
 },
 "nbformat": 4,
 "nbformat_minor": 2
}
