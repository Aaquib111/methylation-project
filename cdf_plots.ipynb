{
 "cells": [
  {
   "cell_type": "code",
   "execution_count": 18,
   "metadata": {},
   "outputs": [],
   "source": [
    "import numpy as np\n",
    "import matplotlib.pyplot as plt\n",
    "import pandas as pd\n",
    "normal_files = ['/Users/khandekara2/Documents/methylationProject/01_data/normal_cds/GSM1010979_UCSD.Thymus.Bisulfite-Seq.STL001.wig.bed.cds.noSNPS.fixed', '/Users/khandekara2/Documents/methylationProject/01_data/normal_cds/GSM916052_BI.Mobilized_CD34_Primary_Cells.Bisulfite-Seq.RO_01549.wig.bed.cds.noSNPS.fixed', ]\n",
    "cancer_files = ['/Users/khandekara2/Documents/methylationProject/01_data/meth_seq_MALY_cds.bed','/Users/khandekara2/Documents/methylationProject/01_data/meth_seq_CLLE_cds.bed']\n",
    "fig = plt.figure(figsize=(10,10))\n",
    "for i, (a, b) in enumerate(zip(normal_files, cancer_files)):\n",
    "    normal = pd.read_csv(a, sep='\\t', header=None)\n",
    "    cancer = pd.read_csv(b, sep='\\t', header=None)\n",
    "    n_ratios = np.sort(np.array(normal.iloc[:,4]))\n",
    "    c_ratios = np.sort(np.array(cancer.iloc[:,4]))\n",
    "    y_n = np.arange(1, (len(n_ratios) + 1) / (len(n_ratios)))\n",
    "    y_c = np.arange(1, (len(c_ratios) + 1) / (len(c_ratios)))\n",
    "    ax = fig.add_subplot(2, 2, i+1)\n",
    "#     n1, bins1, patches1 = ax.hist(n_ratios, cumulative=True, label='Normal', normed=True)\n",
    "#     n2, bins2, patches2 = ax.hist(c_ratios, cumulative=True, label='Cancer', normed=True)\n",
    "#     ax.plot(bins1, y_n, marker='.', linestyle='none',  label='Normal')\n",
    "#     ax.plot(bins2, y_c, marker='.', linestyle='none', label='Cancer')\n",
    "    ax.hist(n_ratios, cumulative=True, label='Normal', normed=True, histtype='step')\n",
    "    ax.hist(c_ratios, cumulative=True, label='Cancer', normed=True, histtype='step')\n",
    "    ax.set_xlabel('Methylation Ratio')\n",
    "    ax.set_ylabel('Cumuluative Distribution')\n",
    "    ax.legend(loc='best')\n",
    "fig.tight_layout()\n",
    "fig.savefig('normal_cds_cumulative_distribution.png')\n"
   ]
  },
  {
   "cell_type": "code",
   "execution_count": 13,
   "metadata": {},
   "outputs": [
    {
     "name": "stdout",
     "output_type": "stream",
     "text": [
      "4391388\n",
      "642635\n"
     ]
    }
   ],
   "source": [
    "print (len(c_ratios))\n",
    "print (len(n_ratios))"
   ]
  },
  {
   "cell_type": "code",
   "execution_count": null,
   "metadata": {},
   "outputs": [],
   "source": []
  }
 ],
 "metadata": {
  "kernelspec": {
   "display_name": "Python 3",
   "language": "python",
   "name": "python3"
  },
  "language_info": {
   "codemirror_mode": {
    "name": "ipython",
    "version": 3
   },
   "file_extension": ".py",
   "mimetype": "text/x-python",
   "name": "python",
   "nbconvert_exporter": "python",
   "pygments_lexer": "ipython3",
   "version": "3.6.3"
  }
 },
 "nbformat": 4,
 "nbformat_minor": 2
}
