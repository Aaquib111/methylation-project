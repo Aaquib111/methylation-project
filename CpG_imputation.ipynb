{
 "cells": [
  {
   "cell_type": "code",
   "execution_count": 7,
   "metadata": {},
   "outputs": [],
   "source": [
    "import numpy as np\n",
    "import pandas as pd\n",
    "import pickle\n",
    "from scipy.stats import chi2_contingency\n",
    "from sklearn.model_selection import train_test_split\n",
    "from sklearn.ensemble import RandomForestRegressor\n",
    "from sklearn.model_selection import GridSearchCV\n",
    "from sklearn.model_selection import RandomizedSearchCV\n",
    "from sklearn.metrics import mean_squared_error, mean_absolute_error\n",
    "from sklearn.metrics import r2_score\n",
    "from scipy.stats.stats import pearsonr \n",
    "import seaborn as sns \n",
    "import matplotlib.pyplot as plt\n",
    "from scipy import stats\n",
    "import sys\n",
    "import decimal\n",
    "# training_data = '/data/khandekara2/imputation/training_60.tsv' #training dataset where the minimum read threshold is 60\n",
    "# training_data_subset = '/data/khandekara2/imputation/training_30_subset.tsv' #training dataset where the minimum read threshold is 30"
   ]
  },
  {
   "cell_type": "code",
   "execution_count": 17,
   "metadata": {},
   "outputs": [],
   "source": [
    "{'n_estimators': 46,\n",
    " 'min_samples_split': 2,\n",
    " 'max_features': 'auto',\n",
    " 'bootstrap': False}"
   ]
  },
  {
   "cell_type": "code",
   "execution_count": 7,
   "metadata": {},
   "outputs": [],
   "source": [
    "df = pd.read_csv(training_data_subset, sep='\\t')\n",
    "#add column of read totals and drop unneccessary columns\n",
    "total_reads = []\n",
    "for v, t in zip(df['methylated_reads'], df['unmethylated_reads']):\n",
    "    total_reads.append(int(v + t))\n",
    "df['total_reads'] = total_reads\n",
    "df = df[df['total_reads'] <= 80] #we are putting an upper limit on the read depth to guard against copy number variation and sequencing error \n",
    "df = df.drop(['#chromosome', 'start', 'stop', 'id', 'methylated_reads', 'unmethylated_reads'], axis=1)"
   ]
  },
  {
   "cell_type": "code",
   "execution_count": 8,
   "metadata": {},
   "outputs": [],
   "source": [
    "forest = RandomForestRegressor(n_estimators=200, min_samples_split=2, max_features='auto')\n",
    "y = df['methylation_ratio']\n",
    "X = df.drop(['methylation_ratio'], axis=1)\n",
    "# X_train, X_test, y_train, y_test = train_test_split(X, y, test_size=0.2)"
   ]
  },
  {
   "cell_type": "code",
   "execution_count": 4,
   "metadata": {},
   "outputs": [
    {
     "data": {
      "text/html": [
       "<div>\n",
       "<style scoped>\n",
       "    .dataframe tbody tr th:only-of-type {\n",
       "        vertical-align: middle;\n",
       "    }\n",
       "\n",
       "    .dataframe tbody tr th {\n",
       "        vertical-align: top;\n",
       "    }\n",
       "\n",
       "    .dataframe thead th {\n",
       "        text-align: right;\n",
       "    }\n",
       "</style>\n",
       "<table border=\"1\" class=\"dataframe\">\n",
       "  <thead>\n",
       "    <tr style=\"text-align: right;\">\n",
       "      <th></th>\n",
       "      <th>neighbor_ratio</th>\n",
       "      <th>distance</th>\n",
       "      <th>normal_ratio</th>\n",
       "      <th>tumor_average</th>\n",
       "      <th>std_dev</th>\n",
       "      <th>total_reads</th>\n",
       "    </tr>\n",
       "  </thead>\n",
       "  <tbody>\n",
       "    <tr>\n",
       "      <th>0</th>\n",
       "      <td>0.93</td>\n",
       "      <td>51</td>\n",
       "      <td>0.976744</td>\n",
       "      <td>0.90</td>\n",
       "      <td>0.08</td>\n",
       "      <td>37</td>\n",
       "    </tr>\n",
       "    <tr>\n",
       "      <th>1</th>\n",
       "      <td>0.63</td>\n",
       "      <td>8</td>\n",
       "      <td>0.947368</td>\n",
       "      <td>0.73</td>\n",
       "      <td>0.23</td>\n",
       "      <td>51</td>\n",
       "    </tr>\n",
       "    <tr>\n",
       "      <th>2</th>\n",
       "      <td>0.97</td>\n",
       "      <td>1</td>\n",
       "      <td>0.900000</td>\n",
       "      <td>0.95</td>\n",
       "      <td>0.03</td>\n",
       "      <td>59</td>\n",
       "    </tr>\n",
       "    <tr>\n",
       "      <th>3</th>\n",
       "      <td>0.88</td>\n",
       "      <td>35</td>\n",
       "      <td>1.000000</td>\n",
       "      <td>0.89</td>\n",
       "      <td>0.07</td>\n",
       "      <td>58</td>\n",
       "    </tr>\n",
       "    <tr>\n",
       "      <th>4</th>\n",
       "      <td>0.95</td>\n",
       "      <td>5</td>\n",
       "      <td>0.939394</td>\n",
       "      <td>0.86</td>\n",
       "      <td>0.10</td>\n",
       "      <td>53</td>\n",
       "    </tr>\n",
       "  </tbody>\n",
       "</table>\n",
       "</div>"
      ],
      "text/plain": [
       "   neighbor_ratio  distance  normal_ratio  tumor_average  std_dev  total_reads\n",
       "0            0.93        51      0.976744           0.90     0.08           37\n",
       "1            0.63         8      0.947368           0.73     0.23           51\n",
       "2            0.97         1      0.900000           0.95     0.03           59\n",
       "3            0.88        35      1.000000           0.89     0.07           58\n",
       "4            0.95         5      0.939394           0.86     0.10           53"
      ]
     },
     "execution_count": 4,
     "metadata": {},
     "output_type": "execute_result"
    }
   ],
   "source": [
    "X.head()"
   ]
  },
  {
   "cell_type": "code",
   "execution_count": 9,
   "metadata": {},
   "outputs": [
    {
     "data": {
      "text/plain": [
       "RandomForestRegressor(bootstrap=True, criterion='mse', max_depth=None,\n",
       "           max_features='auto', max_leaf_nodes=None,\n",
       "           min_impurity_decrease=0.0, min_impurity_split=None,\n",
       "           min_samples_leaf=1, min_samples_split=2,\n",
       "           min_weight_fraction_leaf=0.0, n_estimators=200, n_jobs=1,\n",
       "           oob_score=False, random_state=None, verbose=0, warm_start=False)"
      ]
     },
     "execution_count": 9,
     "metadata": {},
     "output_type": "execute_result"
    }
   ],
   "source": [
    "#train and test without optimizing any hyperparameters\n",
    "forest.fit(X, y)\n",
    "# predictions = forest.predict(X_test)\n",
    "# mse = mean_squared_error(y_test, predictions)\n",
    "# rmse = np.sqrt(mse)\n",
    "# print (rmse)\n",
    "# mae = mean_absolute_error(y_test, predictions)\n",
    "# print (mae)"
   ]
  },
  {
   "cell_type": "code",
   "execution_count": 1,
   "metadata": {},
   "outputs": [
    {
     "ename": "NameError",
     "evalue": "name 'pickle' is not defined",
     "output_type": "error",
     "traceback": [
      "\u001b[0;31m---------------------------------------------------------------------------\u001b[0m",
      "\u001b[0;31mNameError\u001b[0m                                 Traceback (most recent call last)",
      "\u001b[0;32m<ipython-input-1-44139a4976a4>\u001b[0m in \u001b[0;36m<module>\u001b[0;34m()\u001b[0m\n\u001b[1;32m      1\u001b[0m \u001b[0;31m# save the model to disk\u001b[0m\u001b[0;34m\u001b[0m\u001b[0;34m\u001b[0m\u001b[0m\n\u001b[1;32m      2\u001b[0m \u001b[0mfilename\u001b[0m \u001b[0;34m=\u001b[0m \u001b[0;34m'optimized_model_200_trees.pickle'\u001b[0m\u001b[0;34m\u001b[0m\u001b[0m\n\u001b[0;32m----> 3\u001b[0;31m \u001b[0mpickle\u001b[0m\u001b[0;34m.\u001b[0m\u001b[0mdump\u001b[0m\u001b[0;34m(\u001b[0m\u001b[0mforest\u001b[0m\u001b[0;34m,\u001b[0m \u001b[0mopen\u001b[0m\u001b[0;34m(\u001b[0m\u001b[0mfilename\u001b[0m\u001b[0;34m,\u001b[0m \u001b[0;34m'wb'\u001b[0m\u001b[0;34m)\u001b[0m\u001b[0;34m)\u001b[0m\u001b[0;34m\u001b[0m\u001b[0m\n\u001b[0m",
      "\u001b[0;31mNameError\u001b[0m: name 'pickle' is not defined"
     ]
    }
   ],
   "source": [
    "# save the model to disk\n",
    "filename = 'optimized_model_200_trees.pickle'\n",
    "pickle.dump(forest, open(filename, 'wb')) "
   ]
  },
  {
   "cell_type": "code",
   "execution_count": null,
   "metadata": {},
   "outputs": [],
   "source": [
    "forest"
   ]
  },
  {
   "cell_type": "code",
   "execution_count": 7,
   "metadata": {},
   "outputs": [
    {
     "name": "stdout",
     "output_type": "stream",
     "text": [
      "(0.8454970176492053, 0.0)\n"
     ]
    },
    {
     "name": "stderr",
     "output_type": "stream",
     "text": [
      "/usr/local/Anaconda/envs/py3.6/lib/python3.6/site-packages/ipykernel_launcher.py:2: SettingWithCopyWarning: \n",
      "A value is trying to be set on a copy of a slice from a DataFrame.\n",
      "Try using .loc[row_indexer,col_indexer] = value instead\n",
      "\n",
      "See the caveats in the documentation: http://pandas.pydata.org/pandas-docs/stable/indexing.html#indexing-view-versus-copy\n",
      "  \n",
      "/usr/local/Anaconda/envs/py3.6/lib/python3.6/site-packages/ipykernel_launcher.py:3: SettingWithCopyWarning: \n",
      "A value is trying to be set on a copy of a slice from a DataFrame.\n",
      "Try using .loc[row_indexer,col_indexer] = value instead\n",
      "\n",
      "See the caveats in the documentation: http://pandas.pydata.org/pandas-docs/stable/indexing.html#indexing-view-versus-copy\n",
      "  This is separate from the ipykernel package so we can avoid doing imports until\n"
     ]
    }
   ],
   "source": [
    "X_test['actual'] = y_test\n",
    "X_test['predictions'] = predictions\n",
    "# g = sns.lmplot('actual', # Horizontal axis\n",
    "#            'predictions', # Vertical axis\n",
    "#            data=X_test, # Data source\n",
    "#            fit_reg=True, # Don't fix a regression line\n",
    "#            scatter_kws={\"marker\": \"D\", # Set marker style\n",
    "#                        \"s\": 20}, line_kws = {'color': 'red'}) # S marker size\n",
    "\n",
    "print (pearsonr(y_test, predictions))\n",
    "# ax = plt.gca()\n",
    "# plt.title('')\n",
    "# plt.xlabel('Actual Ratio')\n",
    "# plt.ylabel('Predicted Ratio')\n",
    "# plt.gcf().text(0.2, 0.85, \"pearson r: %.2f\" % r_value ** 2, fontsize=10)\n"
   ]
  },
  {
   "cell_type": "code",
   "execution_count": null,
   "metadata": {},
   "outputs": [],
   "source": [
    "#default hyperparameters\n",
    "forest.get_params()"
   ]
  },
  {
   "cell_type": "code",
   "execution_count": 5,
   "metadata": {
    "collapsed": true
   },
   "outputs": [],
   "source": []
  },
  {
   "cell_type": "code",
   "execution_count": null,
   "metadata": {},
   "outputs": [],
   "source": [
    "\n"
   ]
  },
  {
   "cell_type": "code",
   "execution_count": 8,
   "metadata": {},
   "outputs": [
    {
     "data": {
      "text/plain": [
       "{'bootstrap': True,\n",
       " 'criterion': 'mse',\n",
       " 'max_depth': None,\n",
       " 'max_features': 'auto',\n",
       " 'max_leaf_nodes': None,\n",
       " 'min_impurity_decrease': 0.0,\n",
       " 'min_impurity_split': None,\n",
       " 'min_samples_leaf': 1,\n",
       " 'min_samples_split': 2,\n",
       " 'min_weight_fraction_leaf': 0.0,\n",
       " 'n_estimators': 10,\n",
       " 'n_jobs': 1,\n",
       " 'oob_score': False,\n",
       " 'random_state': None,\n",
       " 'verbose': 0,\n",
       " 'warm_start': False}"
      ]
     },
     "execution_count": 8,
     "metadata": {},
     "output_type": "execute_result"
    }
   ],
   "source": []
  },
  {
   "cell_type": "code",
   "execution_count": 12,
   "metadata": {},
   "outputs": [
    {
     "name": "stdout",
     "output_type": "stream",
     "text": [
      "Fitting 3 folds for each of 30 candidates, totalling 90 fits\n"
     ]
    },
    {
     "name": "stderr",
     "output_type": "stream",
     "text": [
      "[Parallel(n_jobs=1)]: Done  90 out of  90 | elapsed: 682.3min finished\n"
     ]
    }
   ],
   "source": [
    "#now let's optimize hyperparameters\n",
    "# Number of trees in random forest\n",
    "n_estimators = [int(x) for x in np.linspace(start = 20, stop = 100, num = 10)]\n",
    "# Number of features to consider at every split\n",
    "max_features = ['auto', 'sqrt', 'log2']\n",
    "# Minimum number of samples required to split a node\n",
    "min_samples_split = [2, 5, 10]\n",
    "# Method of selecting samples for training each tree\n",
    "bootstrap = [True, False]\n",
    "# Create the random grid\n",
    "random_grid = {'n_estimators': n_estimators,\n",
    "               'max_features': max_features,\n",
    "               'min_samples_split': min_samples_split,\n",
    "               'bootstrap': bootstrap}\n",
    "\n",
    "random_search = RandomizedSearchCV(estimator = forest, param_distributions = random_grid, n_iter = 30, cv = 3, verbose=1, random_state=42, refit=True)\n",
    "random_search.fit(X, y)\n",
    "final_model = random_search.best_estimator_\n",
    "pickle.dump(final_model, open('optimized_model.pickle', 'wb')) #save optimized model"
   ]
  },
  {
   "cell_type": "code",
   "execution_count": 11,
   "metadata": {},
   "outputs": [
    {
     "data": {
      "text/plain": [
       "{'n_estimators': 46,\n",
       " 'min_samples_split': 2,\n",
       " 'max_features': 'auto',\n",
       " 'bootstrap': False}"
      ]
     },
     "execution_count": 11,
     "metadata": {},
     "output_type": "execute_result"
    }
   ],
   "source": [
    "# feature_importances = random_search.best_estimator_.feature_importances\n",
    "random_search.best_params_"
   ]
  },
  {
   "cell_type": "code",
   "execution_count": 13,
   "metadata": {},
   "outputs": [
    {
     "data": {
      "text/plain": [
       "0.7480266911682361"
      ]
     },
     "execution_count": 13,
     "metadata": {},
     "output_type": "execute_result"
    }
   ],
   "source": [
    "random_search.best_score_"
   ]
  },
  {
   "cell_type": "code",
   "execution_count": null,
   "metadata": {},
   "outputs": [],
   "source": [
    "#test optimized model on validation set\n",
    "forest = pickle.load(open('optimized_model.pickle', 'rb'))\n",
    "val = pd.read_csv('/data/khandekara2/imputation/validation_set.bed', sep='\\t')\n",
    "total_reads = []\n",
    "for v, t in zip(val['methylated_reads'], val['unmethylated_reads']):\n",
    "    total_reads.append(int(v + t))\n",
    "val['total_reads'] = total_reads\n",
    "val = val.drop(['chromosome', 'start', 'stop', 'id', 'methylated_reads', 'unmethylated_reads'], axis=1)\n",
    "y_val = val['methylation_ratio']\n",
    "X_val = val.drop(['methylation_ratio'], axis=1)\n",
    "# y_pred = final_model.predict(X_val)\n",
    "y_pred = forest.predict(X_val)"
   ]
  },
  {
   "cell_type": "code",
   "execution_count": 21,
   "metadata": {},
   "outputs": [
    {
     "name": "stdout",
     "output_type": "stream",
     "text": [
      "0.12565195453998865\n",
      "0.07912033758053424\n",
      "0.7522867122812804\n"
     ]
    }
   ],
   "source": [
    "#compute error metrics \n",
    "mse = mean_squared_error(y_val, y_pred)\n",
    "rmse = np.sqrt(mse)\n",
    "print (rmse)\n",
    "mae = mean_absolute_error(y_val, y_pred)\n",
    "print (mae)\n",
    "r2 = r2_score(y_val, y_pred)\n",
    "print (r2)"
   ]
  },
  {
   "cell_type": "code",
   "execution_count": 3,
   "metadata": {},
   "outputs": [
    {
     "name": "stdout",
     "output_type": "stream",
     "text": [
      "<class 'pandas.core.frame.DataFrame'>\n",
      "RangeIndex: 3869 entries, 0 to 3868\n",
      "Data columns (total 15 columns):\n",
      "chromosome            3869 non-null object\n",
      "start                 3869 non-null int64\n",
      "stop                  3869 non-null int64\n",
      "id                    3869 non-null object\n",
      "methylation_ratio     3869 non-null float64\n",
      "methylated_reads      3869 non-null float64\n",
      "unmethylated_reads    3869 non-null float64\n",
      "neighbor_ratio        3869 non-null float64\n",
      "distance              3869 non-null int64\n",
      "normal_ratio          3869 non-null float64\n",
      "tumor_average         3869 non-null float64\n",
      "std_dev               3869 non-null float64\n",
      "total_reads           3869 non-null int64\n",
      "variant_reads         3869 non-null int64\n",
      "annotation            3869 non-null object\n",
      "dtypes: float64(7), int64(5), object(3)\n",
      "memory usage: 453.5+ KB\n"
     ]
    }
   ],
   "source": [
    "#mutated.tsv is final set of mutated sites where we need to impute the methylation ratio\n",
    "#out-of-sample predictions\n",
    "mutated = pd.read_csv('/data/khandekara2/imputation/all_single.mutated_2.sorted', sep='\\t')\n",
    "total_reads = []\n",
    "for v, t in zip(mutated['methylated_reads'], mutated['unmethylated_reads']):\n",
    "    total_reads.append(int(v + t))\n",
    "mutated_df = mutated.drop(['methylation_ratio', 'methylated_reads', 'unmethylated_reads', 'chromosome', 'start', 'stop', 'id', 'total_reads', 'variant_reads', 'annotation'], axis=1)\n",
    "mutated_df['total_reads'] = total_reads\n",
    "mutated.info()"
   ]
  },
  {
   "cell_type": "code",
   "execution_count": 4,
   "metadata": {},
   "outputs": [
    {
     "data": {
      "text/html": [
       "<div>\n",
       "<style scoped>\n",
       "    .dataframe tbody tr th:only-of-type {\n",
       "        vertical-align: middle;\n",
       "    }\n",
       "\n",
       "    .dataframe tbody tr th {\n",
       "        vertical-align: top;\n",
       "    }\n",
       "\n",
       "    .dataframe thead th {\n",
       "        text-align: right;\n",
       "    }\n",
       "</style>\n",
       "<table border=\"1\" class=\"dataframe\">\n",
       "  <thead>\n",
       "    <tr style=\"text-align: right;\">\n",
       "      <th></th>\n",
       "      <th>chromosome</th>\n",
       "      <th>start</th>\n",
       "      <th>stop</th>\n",
       "      <th>id</th>\n",
       "      <th>methylation_ratio</th>\n",
       "      <th>methylated_reads</th>\n",
       "      <th>unmethylated_reads</th>\n",
       "      <th>neighbor_ratio</th>\n",
       "      <th>distance</th>\n",
       "      <th>normal_ratio</th>\n",
       "      <th>tumor_average</th>\n",
       "      <th>std_dev</th>\n",
       "      <th>total_reads</th>\n",
       "      <th>variant_reads</th>\n",
       "      <th>annotation</th>\n",
       "      <th>drop</th>\n",
       "      <th>vaf</th>\n",
       "      <th>prior_ratio</th>\n",
       "    </tr>\n",
       "  </thead>\n",
       "  <tbody>\n",
       "    <tr>\n",
       "      <th>0</th>\n",
       "      <td>chr1</td>\n",
       "      <td>4395757</td>\n",
       "      <td>4395758</td>\n",
       "      <td>tumor_4105105</td>\n",
       "      <td>0.61</td>\n",
       "      <td>31.0</td>\n",
       "      <td>20.0</td>\n",
       "      <td>0.96</td>\n",
       "      <td>12</td>\n",
       "      <td>1.000000</td>\n",
       "      <td>0.90</td>\n",
       "      <td>0.09</td>\n",
       "      <td>33</td>\n",
       "      <td>9</td>\n",
       "      <td>intergenic_region</td>\n",
       "      <td>0.284499</td>\n",
       "      <td>0.272727</td>\n",
       "      <td>0.894499</td>\n",
       "    </tr>\n",
       "    <tr>\n",
       "      <th>1</th>\n",
       "      <td>chr1</td>\n",
       "      <td>7575897</td>\n",
       "      <td>7575898</td>\n",
       "      <td>tumor_4105105</td>\n",
       "      <td>0.62</td>\n",
       "      <td>15.0</td>\n",
       "      <td>9.0</td>\n",
       "      <td>0.19</td>\n",
       "      <td>10</td>\n",
       "      <td>0.954545</td>\n",
       "      <td>0.46</td>\n",
       "      <td>0.21</td>\n",
       "      <td>29</td>\n",
       "      <td>13</td>\n",
       "      <td>intron_variant</td>\n",
       "      <td>-0.376036</td>\n",
       "      <td>0.448276</td>\n",
       "      <td>0.243964</td>\n",
       "    </tr>\n",
       "    <tr>\n",
       "      <th>2</th>\n",
       "      <td>chr1</td>\n",
       "      <td>16477614</td>\n",
       "      <td>16477615</td>\n",
       "      <td>tumor_4105105</td>\n",
       "      <td>0.52</td>\n",
       "      <td>14.0</td>\n",
       "      <td>13.0</td>\n",
       "      <td>0.48</td>\n",
       "      <td>50</td>\n",
       "      <td>0.807692</td>\n",
       "      <td>0.72</td>\n",
       "      <td>0.21</td>\n",
       "      <td>26</td>\n",
       "      <td>9</td>\n",
       "      <td>upstream_gene_variant</td>\n",
       "      <td>-0.222795</td>\n",
       "      <td>0.346154</td>\n",
       "      <td>0.297205</td>\n",
       "    </tr>\n",
       "    <tr>\n",
       "      <th>3</th>\n",
       "      <td>chr1</td>\n",
       "      <td>65691120</td>\n",
       "      <td>65691121</td>\n",
       "      <td>tumor_4105105</td>\n",
       "      <td>0.52</td>\n",
       "      <td>30.0</td>\n",
       "      <td>28.0</td>\n",
       "      <td>0.98</td>\n",
       "      <td>23</td>\n",
       "      <td>0.947368</td>\n",
       "      <td>0.56</td>\n",
       "      <td>0.25</td>\n",
       "      <td>41</td>\n",
       "      <td>21</td>\n",
       "      <td>intron_variant</td>\n",
       "      <td>0.212843</td>\n",
       "      <td>0.512195</td>\n",
       "      <td>0.732843</td>\n",
       "    </tr>\n",
       "    <tr>\n",
       "      <th>4</th>\n",
       "      <td>chr1</td>\n",
       "      <td>82792611</td>\n",
       "      <td>82792612</td>\n",
       "      <td>tumor_4105105</td>\n",
       "      <td>0.51</td>\n",
       "      <td>26.0</td>\n",
       "      <td>25.0</td>\n",
       "      <td>0.11</td>\n",
       "      <td>333</td>\n",
       "      <td>0.910714</td>\n",
       "      <td>0.86</td>\n",
       "      <td>0.14</td>\n",
       "      <td>25</td>\n",
       "      <td>14</td>\n",
       "      <td>intergenic_region</td>\n",
       "      <td>0.395691</td>\n",
       "      <td>0.560000</td>\n",
       "      <td>0.905691</td>\n",
       "    </tr>\n",
       "  </tbody>\n",
       "</table>\n",
       "</div>"
      ],
      "text/plain": [
       "  chromosome     start      stop             id  methylation_ratio  \\\n",
       "0       chr1   4395757   4395758  tumor_4105105               0.61   \n",
       "1       chr1   7575897   7575898  tumor_4105105               0.62   \n",
       "2       chr1  16477614  16477615  tumor_4105105               0.52   \n",
       "3       chr1  65691120  65691121  tumor_4105105               0.52   \n",
       "4       chr1  82792611  82792612  tumor_4105105               0.51   \n",
       "\n",
       "   methylated_reads  unmethylated_reads  neighbor_ratio  distance  \\\n",
       "0              31.0                20.0            0.96        12   \n",
       "1              15.0                 9.0            0.19        10   \n",
       "2              14.0                13.0            0.48        50   \n",
       "3              30.0                28.0            0.98        23   \n",
       "4              26.0                25.0            0.11       333   \n",
       "\n",
       "   normal_ratio  tumor_average  std_dev  total_reads  variant_reads  \\\n",
       "0      1.000000           0.90     0.09           33              9   \n",
       "1      0.954545           0.46     0.21           29             13   \n",
       "2      0.807692           0.72     0.21           26              9   \n",
       "3      0.947368           0.56     0.25           41             21   \n",
       "4      0.910714           0.86     0.14           25             14   \n",
       "\n",
       "              annotation      drop       vaf  prior_ratio  \n",
       "0      intergenic_region  0.284499  0.272727     0.894499  \n",
       "1         intron_variant -0.376036  0.448276     0.243964  \n",
       "2  upstream_gene_variant -0.222795  0.346154     0.297205  \n",
       "3         intron_variant  0.212843  0.512195     0.732843  \n",
       "4      intergenic_region  0.395691  0.560000     0.905691  "
      ]
     },
     "execution_count": 4,
     "metadata": {},
     "output_type": "execute_result"
    }
   ],
   "source": [
    "#load optimized model and make predictions\n",
    "forest = pickle.load(open('optimized_model.pickle', 'rb'))\n",
    "predicted_ratios = forest.predict(mutated_df)\n",
    "#calculate vaf, prior_ratio, drop, and output file with all the information\n",
    "actual_ratios = mutated['methylation_ratio']\n",
    "drop = predicted_ratios - actual_ratios\n",
    "mutated['drop'] = drop\n",
    "vafs = []\n",
    "for v, t in zip(mutated['variant_reads'], mutated['total_reads']):\n",
    "    vafs.append(float(v) / float(t))\n",
    "mutated['vaf'] = vafs\n",
    "mutated['prior_ratio'] = predicted_ratios\n",
    "mutated.head()\n"
   ]
  },
  {
   "cell_type": "code",
   "execution_count": 27,
   "metadata": {},
   "outputs": [
    {
     "name": "stdout",
     "output_type": "stream",
     "text": [
      "Feature ranking:\n",
      "1. feature 3 (0.476444)\n",
      "2. feature 0 (0.154114)\n",
      "3. feature 2 (0.116096)\n",
      "4. feature 4 (0.102976)\n",
      "5. feature 5 (0.097736)\n",
      "6. feature 1 (0.052635)\n"
     ]
    }
   ],
   "source": [
    "#get feature importances\n",
    "importances = forest.feature_importances_\n",
    "indices = np.argsort(importances)[::-1]\n",
    "# Print the feature ranking\n",
    "print(\"Feature ranking:\")\n",
    "for f in range(mutated_df.shape[1]):\n",
    "    print(\"%d. feature %d (%f)\" % (f + 1, indices[f], importances[indices[f]]))"
   ]
  },
  {
   "cell_type": "code",
   "execution_count": 28,
   "metadata": {},
   "outputs": [
    {
     "data": {
      "text/html": [
       "<div>\n",
       "<style scoped>\n",
       "    .dataframe tbody tr th:only-of-type {\n",
       "        vertical-align: middle;\n",
       "    }\n",
       "\n",
       "    .dataframe tbody tr th {\n",
       "        vertical-align: top;\n",
       "    }\n",
       "\n",
       "    .dataframe thead th {\n",
       "        text-align: right;\n",
       "    }\n",
       "</style>\n",
       "<table border=\"1\" class=\"dataframe\">\n",
       "  <thead>\n",
       "    <tr style=\"text-align: right;\">\n",
       "      <th></th>\n",
       "      <th>neighbor_ratio</th>\n",
       "      <th>distance</th>\n",
       "      <th>normal_ratio</th>\n",
       "      <th>tumor_average</th>\n",
       "      <th>std_dev</th>\n",
       "      <th>total_reads</th>\n",
       "    </tr>\n",
       "  </thead>\n",
       "  <tbody>\n",
       "    <tr>\n",
       "      <th>0</th>\n",
       "      <td>0.96</td>\n",
       "      <td>12</td>\n",
       "      <td>1.000000</td>\n",
       "      <td>0.90</td>\n",
       "      <td>0.09</td>\n",
       "      <td>51</td>\n",
       "    </tr>\n",
       "    <tr>\n",
       "      <th>1</th>\n",
       "      <td>0.19</td>\n",
       "      <td>10</td>\n",
       "      <td>0.954545</td>\n",
       "      <td>0.46</td>\n",
       "      <td>0.21</td>\n",
       "      <td>24</td>\n",
       "    </tr>\n",
       "    <tr>\n",
       "      <th>2</th>\n",
       "      <td>0.48</td>\n",
       "      <td>50</td>\n",
       "      <td>0.807692</td>\n",
       "      <td>0.72</td>\n",
       "      <td>0.21</td>\n",
       "      <td>27</td>\n",
       "    </tr>\n",
       "    <tr>\n",
       "      <th>3</th>\n",
       "      <td>0.98</td>\n",
       "      <td>23</td>\n",
       "      <td>0.947368</td>\n",
       "      <td>0.56</td>\n",
       "      <td>0.25</td>\n",
       "      <td>58</td>\n",
       "    </tr>\n",
       "    <tr>\n",
       "      <th>4</th>\n",
       "      <td>0.11</td>\n",
       "      <td>333</td>\n",
       "      <td>0.910714</td>\n",
       "      <td>0.86</td>\n",
       "      <td>0.14</td>\n",
       "      <td>51</td>\n",
       "    </tr>\n",
       "  </tbody>\n",
       "</table>\n",
       "</div>"
      ],
      "text/plain": [
       "   neighbor_ratio  distance  normal_ratio  tumor_average  std_dev  total_reads\n",
       "0            0.96        12      1.000000           0.90     0.09           51\n",
       "1            0.19        10      0.954545           0.46     0.21           24\n",
       "2            0.48        50      0.807692           0.72     0.21           27\n",
       "3            0.98        23      0.947368           0.56     0.25           58\n",
       "4            0.11       333      0.910714           0.86     0.14           51"
      ]
     },
     "execution_count": 28,
     "metadata": {},
     "output_type": "execute_result"
    }
   ],
   "source": [
    "mutated_df.head()"
   ]
  },
  {
   "cell_type": "code",
   "execution_count": 15,
   "metadata": {},
   "outputs": [],
   "source": [
    "#fix the cases where the drop is negative by taking the max out of the features\n",
    "fixed_priors = []\n",
    "for d, p, n, t, nr in zip(mutated['drop'], mutated['prior_ratio'], mutated['neighbor_ratio'], mutated['tumor_average'], mutated['normal_ratio']):\n",
    "    if d < 0:\n",
    "        fixed_priors.append(max(n, t, nr))\n",
    "    else:\n",
    "        fixed_priors.append(p)\n",
    "        \n",
    "mutated['prior_ratio'] = fixed_priors\n",
    "drop = mutated['prior_ratio'] - actual_ratios\n",
    "mutated['drop'] = drop"
   ]
  },
  {
   "cell_type": "code",
   "execution_count": 20,
   "metadata": {},
   "outputs": [],
   "source": [
    "#save output file which contains mutated sites with their reconstructed methylation ratios\n",
    "mutated.to_csv('/data/khandekara2/imputation/mutations_reconstructed.tsv', sep='\\t', index=False)\n"
   ]
  },
  {
   "cell_type": "code",
   "execution_count": 16,
   "metadata": {},
   "outputs": [
    {
     "name": "stdout",
     "output_type": "stream",
     "text": [
      "38\n"
     ]
    }
   ],
   "source": [
    "#check how much noise we have-- i.e if the drop is negative it does not match the mental model \n",
    "count = 0\n",
    "for x in mutated['drop']:\n",
    "    if x < 0:\n",
    "#         print (x)\n",
    "        count += 1\n",
    "print (count)"
   ]
  },
  {
   "cell_type": "code",
   "execution_count": 21,
   "metadata": {},
   "outputs": [],
   "source": [
    "#get chi-squared statistics now that we have imputed ratios at methylated sites\n",
    "\n",
    "#We have four categories: \n",
    "#1) Methylated and Mutated(mm), 2)Unmethylated and mutated(um) 3)Not mutated and methylated(nm) 4) Not mutated and not methylated(nn) \n",
    "\n",
    "#non_mutated whole genome\n",
    "#since this is a very large file(lots of non-mutated sites), we are going to read it line by line instead of reading the whole thing into a pandas dataframe\n",
    "with open('/data/khandekara2/imputation/all_single.non_mutated_2_training_30.sorted', 'r') as f:\n",
    "    nm = 0 #not mutated but methylated\n",
    "    nn = 0 #not mutated and not methylated\n",
    "    for line in f:\n",
    "        row = line.split('\\t')\n",
    "        if float(row[4]) >= 0.1:\n",
    "            nm += 1\n",
    "        else:\n",
    "            nn += 1\n",
    "\n",
    "#mutated whole genome\n",
    "mut = pd.read_csv('/data/khandekara2/imputation/mutations_reconstructed.tsv', sep='\\t')\n",
    "mut = mut[mut['drop'] > 0] #filter out sites with negative drop(700 sites)\n",
    "mm = mut[mut['prior_ratio'] >= 0.1].shape[0]\n",
    "um = mut[mut['prior_ratio'] < 0.1].shape[0]\n",
    "\n",
    "#non_mutated cds\n",
    "# non_mut = pd.read_csv('all_single.non_mutated_cds_2.sorted', sep='\\t')\n",
    "# nm_cds = non_mut[non_mut['methylation_ratio'] >= 0.5].shape[0]\n",
    "# nn_cds = non_mut[non_mut['methylation_ratio'] < 0.5].shape[0]\n",
    "\n",
    "# #mutated cds\n",
    "# mut_cds = pd.read_csv('mutated_cds.bed', sep='\\t')\n",
    "# mm_cds = mut_cds[mut_cds['methylation_ratio'] >= 0.5].shape[0]\n",
    "# um_cds = mut_cds[mut_cds['methylation_ratio'] < 0.5].shape[0]\n",
    "\n"
   ]
  },
  {
   "cell_type": "code",
   "execution_count": 25,
   "metadata": {},
   "outputs": [
    {
     "name": "stdout",
     "output_type": "stream",
     "text": [
      "Methylated and Mutated: 3793\n",
      "Unmethylated and Mutated: 33\n",
      "Not Mutated and Methylated: 295851206\n",
      "Not Mutated and Unmethylated: 7142050\n"
     ]
    }
   ],
   "source": [
    "print ('Methylated and Mutated: ' + str(mm))\n",
    "print ('Unmethylated and Mutated: ' + str(um))\n",
    "print ('Not Mutated and Methylated: ' + str(nm))\n",
    "print ('Not Mutated and Unmethylated: ' + str(nn))"
   ]
  },
  {
   "cell_type": "code",
   "execution_count": 22,
   "metadata": {
    "collapsed": true
   },
   "outputs": [],
   "source": [
    "obs = np.array([[mm, nm], [um, nn]])\n",
    "chi2, p, dof, expected = chi2_contingency(obs)"
   ]
  },
  {
   "cell_type": "code",
   "execution_count": 23,
   "metadata": {},
   "outputs": [
    {
     "name": "stdout",
     "output_type": "stream",
     "text": [
      "0.00034702528659152394\n"
     ]
    }
   ],
   "source": [
    "effect_size = np.sqrt(chi2 / (mm + nm  + um + nn)) #Cramers V\n",
    "print (effect_size)"
   ]
  },
  {
   "cell_type": "code",
   "execution_count": 40,
   "metadata": {},
   "outputs": [
    {
     "name": "stdout",
     "output_type": "stream",
     "text": [
      "2933\n",
      "936\n"
     ]
    }
   ],
   "source": [
    "methylated = [i for i in predictions if i >= 0.5]\n",
    "unmethylated = [i for i in predictions if i < 0.5]\n",
    "print (len(methylated))\n",
    "print (len(unmethylated))"
   ]
  },
  {
   "cell_type": "code",
   "execution_count": 57,
   "metadata": {},
   "outputs": [],
   "source": []
  },
  {
   "cell_type": "code",
   "execution_count": 11,
   "metadata": {},
   "outputs": [
    {
     "name": "stdout",
     "output_type": "stream",
     "text": [
      "0.47708234335175764\n",
      "0.029091872797889107\n",
      "0.07141529665883871\n",
      "2.9026909649472268e-64\n",
      "0.027664409083697526\n"
     ]
    },
    {
     "data": {
      "image/png": "[encoded data removed]",
      "text/plain": [
       "<Figure size 360x360 with 1 Axes>"
      ]
     },
     "metadata": {},
     "output_type": "display_data"
    }
   ],
   "source": [
    "from scipy import stats\n",
    "import seaborn as sns\n",
    "import numpy as np\n",
    "import matplotlib.pyplot as plt\n",
    "%matplotlib inline\n",
    "slope, intercept, r_value, p_value, std_err = stats.linregress(vafs, drop)\n",
    "print (slope)\n",
    "print (intercept)\n",
    "print (r_value ** 2)\n",
    "print (p_value)\n",
    "print (std_err)\n",
    "\n",
    "m = mutated[mutated['drop'] >= 0]\n",
    "\n",
    "g = sns.lmplot('vaf', # Horizontal axis\n",
    "           'drop', # Vertical axis\n",
    "           data=m, # Data source\n",
    "           fit_reg=True, # Don't fix a regression line\n",
    "           scatter_kws={\"marker\": \"D\", # Set marker style\n",
    "                        \"s\": 20}, line_kws = {'color': 'red'}) # S marker size\n",
    "ax = plt.gca()\n",
    "plt.title('')\n",
    "plt.xlabel('Variant Allele Frequency')\n",
    "plt.ylabel('Drop in Methylation Ratio')\n",
    "plt.gcf().text(0.2, 0.85, \"pearson r: %.2f\" % r_value ** 2, fontsize=10)\n",
    "plt.savefig('vaf_vs_drop.png', dpi=600)"
   ]
  },
  {
   "cell_type": "code",
   "execution_count": 24,
   "metadata": {},
   "outputs": [
    {
     "data": {
      "image/png": "[encoded data removed]",
      "text/plain": [
       "<Figure size 360x360 with 1 Axes>"
      ]
     },
     "metadata": {},
     "output_type": "display_data"
    }
   ],
   "source": [
    "g = sns.lmplot('methylation_ratio', # Horizontal axis\n",
    "           'prior_ratio', # Vertical axis\n",
    "           data=mutated, # Data source\n",
    "           fit_reg=False, # Don't fix a regression line\n",
    "           scatter_kws={\"marker\": \"D\", # Set marker style\n",
    "                        \"s\": 20}) # S marker size\n",
    "ax = plt.gca()\n",
    "lims = [\n",
    "    np.min([ax.get_xlim(), ax.get_ylim()]),  # min of both axes\n",
    "    np.max([ax.get_xlim(), ax.get_ylim()]),  # max of both axes\n",
    "]\n",
    "\n",
    "# now plot both limits against each other\n",
    "ax.plot(lims, lims, 'k-', alpha=0.75, zorder=0)\n",
    "ax.set_aspect('equal')\n",
    "ax.set_xlim(lims)\n",
    "ax.set_ylim(lims)\n",
    "plt.title('')\n",
    "plt.xlabel('Actual Methylation Ratio of Mutated Site')\n",
    "plt.ylabel('Predicted Prior Methylation Ratio')\n",
    "plt.savefig('actual_vs_prior.png', dpi=600)"
   ]
  },
  {
   "cell_type": "code",
   "execution_count": 61,
   "metadata": {},
   "outputs": [
    {
     "name": "stderr",
     "output_type": "stream",
     "text": [
      "/usr/local/Anaconda/envs/py3.6/lib/python3.6/site-packages/matplotlib/axes/_axes.py:6462: UserWarning: The 'normed' kwarg is deprecated, and has been replaced by the 'density' kwarg.\n",
      "  warnings.warn(\"The 'normed' kwarg is deprecated, and has been \"\n"
     ]
    },
    {
     "data": {
      "image/png": "[encoded data removed]",
      "text/plain": [
       "<Figure size 432x288 with 1 Axes>"
      ]
     },
     "metadata": {},
     "output_type": "display_data"
    }
   ],
   "source": [
    "from scipy import stats\n",
    "import seaborn as sns\n",
    "import numpy as np\n",
    "import matplotlib.pyplot as plt\n",
    "%matplotlib inline\n",
    "# params = {\n",
    "#    'axes.labelsize': 6,\n",
    "#    'font.size': 6,\n",
    "#    'legend.fontsize': 6,\n",
    "#    'xtick.labelsize': 6,\n",
    "#    'ytick.labelsize': 6,\n",
    "#    'text.usetex': False,\n",
    "#    'figure.figsize': [3, 2] # instead of 4.5, 4.5\n",
    "#    }\n",
    "# plt.rcParams.update(params)\n",
    "# sns.set_context(\"notebook\", font_scale=1.1)\n",
    "sns.set_style(\"ticks\")\n",
    "sns.set_context(\"talk\")\n",
    "binzz = [x for x in np.arange(0, 1.1, 0.1)]\n",
    "plt.xticks(binzz)\n",
    "sns_plot = sns.distplot(predicted_ratios, kde=False, rug=False, color='blue', bins=10, hist_kws=dict(edgecolor=\"k\", linewidth=2))\n",
    "sns.despine()\n",
    "plt.xlabel('Methylation Ratio Prior To Mutation')\n",
    "plt.ylabel('Frequency of Mutations')\n",
    "# plt.title('Methylation Levels of All Mutated CpG Sites in MALY')\n",
    "plt.tight_layout()\n",
    "plt.savefig('prior_ratio_histogram.png', dpi=600)"
   ]
  },
  {
   "cell_type": "code",
   "execution_count": 22,
   "metadata": {
    "collapsed": true
   },
   "outputs": [],
   "source": [
    "#now calculate effect size"
   ]
  },
  {
   "cell_type": "code",
   "execution_count": 14,
   "metadata": {},
   "outputs": [
    {
     "name": "stdout",
     "output_type": "stream",
     "text": [
      "3869\n"
     ]
    }
   ],
   "source": []
  },
  {
   "cell_type": "code",
   "execution_count": 17,
   "metadata": {},
   "outputs": [
    {
     "data": {
      "text/plain": [
       "numpy.float64"
      ]
     },
     "execution_count": 17,
     "metadata": {},
     "output_type": "execute_result"
    }
   ],
   "source": []
  },
  {
   "cell_type": "code",
   "execution_count": null,
   "metadata": {},
   "outputs": [],
   "source": []
  },
  {
   "cell_type": "code",
   "execution_count": 27,
   "metadata": {},
   "outputs": [],
   "source": [
    "predicted_ratios = [round(x, 2) for x in predicted_ratios]\n",
    "mutated['prior_ratio'] = predicted_ratios"
   ]
  },
  {
   "cell_type": "code",
   "execution_count": 24,
   "metadata": {},
   "outputs": [],
   "source": []
  },
  {
   "cell_type": "code",
   "execution_count": null,
   "metadata": {},
   "outputs": [],
   "source": []
  },
  {
   "cell_type": "code",
   "execution_count": 62,
   "metadata": {},
   "outputs": [
    {
     "name": "stdout",
     "output_type": "stream",
     "text": [
      "725\n"
     ]
    }
   ],
   "source": []
  },
  {
   "cell_type": "code",
   "execution_count": null,
   "metadata": {},
   "outputs": [],
   "source": [
    "mutated.info()"
   ]
  },
  {
   "cell_type": "code",
   "execution_count": null,
   "metadata": {},
   "outputs": [],
   "source": [
    "#check the error if we just guessed the average methylation of the genome..it should be greater than the error from our model\n",
    "average = [0.65 for i in y_test]\n",
    "rmse2 = np.sqrt(mean_squared_error(y_test, average))\n",
    "print (rmse2)\n",
    "#check error if we just used one feature at a time\n",
    "rmse3 = np.sqrt(mean_squared_error(y, df['neighbor_ratio']))\n",
    "rmse4 = np.sqrt(mean_squared_error(y, df['tumor_average']))\n",
    "rmse5 = np.sqrt(mean_squared_error(y, df['normal_ratio'])) \n",
    "print (rmse2)\n",
    "print (rmse3)\n",
    "print (rmse4)\n",
    "print (rmse5)\n",
    "print (rmse_low)\n",
    "print (rmse_intermediate)\n",
    "print (rmse_high)"
   ]
  }
 ],
 "metadata": {
  "kernelspec": {
   "display_name": "Python 3",
   "language": "python",
   "name": "python3"
  },
  "language_info": {
   "codemirror_mode": {
    "name": "ipython",
    "version": 3
   },
   "file_extension": ".py",
   "mimetype": "text/x-python",
   "name": "python",
   "nbconvert_exporter": "python",
   "pygments_lexer": "ipython3",
   "version": "3.6.5"
  }
 },
 "nbformat": 4,
 "nbformat_minor": 2
}
