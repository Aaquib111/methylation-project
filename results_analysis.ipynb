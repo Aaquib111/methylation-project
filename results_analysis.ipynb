{
 "cells": [
  {
   "cell_type": "code",
   "execution_count": 3,
   "metadata": {
    "collapsed": true
   },
   "outputs": [],
   "source": [
    "import pickle as cPickle\n",
    "actual_ratios = cPickle.load(open(\"/Users/khandekara2/Documents/methylationProject/03_results/actual_ratios.pickle\", \"rb\"))\n",
    "cancer_overlaps = cPickle.load(open(\"/Users/khandekara2/Documents/methylationProject/03_results/cancer_overlaps.pickle\", \"rb\"))\n",
    "WGBS_avgBeta = cPickle.load(open(\"/Users/khandekara2/Documents/methylationProject/03_results/WGBS_avgBeta.pickle\", \"rb\"))"
   ]
  },
  {
   "cell_type": "code",
   "execution_count": 6,
   "metadata": {
    "collapsed": false
   },
   "outputs": [
    {
     "data": {
      "text/plain": [
       "<matplotlib.text.Text at 0x11eb3bb50>"
      ]
     },
     "execution_count": 6,
     "metadata": {},
     "output_type": "execute_result"
    },
    {
     "data": {
      "image/png": "[encoded data removed]",
      "text/plain": [
       "<matplotlib.figure.Figure at 0x144f52f50>"
      ]
     },
     "metadata": {},
     "output_type": "display_data"
    }
   ],
   "source": [
    "import numpy as np\n",
    "import matplotlib.mlab as mlab\n",
    "import matplotlib.pyplot as plt\n",
    "%matplotlib inline\n",
    "values = []\n",
    "for location in cancer_overlaps['PBCA'][0]:\n",
    "    values.append(WGBS_avgBeta['PBCA'][location])\n",
    "plt.hist(values, bins=10)\n",
    "plt.xticks(np.arange(0, 1.1, 0.1))\n",
    "plt.xlabel('Methylation Ratio')\n",
    "plt.ylabel('Frequency of Overlaps')\n",
    "plt.title('PBCA')"
   ]
  },
  {
   "cell_type": "code",
   "execution_count": 7,
   "metadata": {
    "collapsed": false
   },
   "outputs": [
    {
     "data": {
      "text/plain": [
       "<matplotlib.text.Text at 0x134a6d310>"
      ]
     },
     "execution_count": 7,
     "metadata": {},
     "output_type": "execute_result"
    },
    {
     "data": {
      "image/png": "[encoded data removed]",
      "text/plain": [
       "<matplotlib.figure.Figure at 0x10ecc13d0>"
      ]
     },
     "metadata": {},
     "output_type": "display_data"
    }
   ],
   "source": [
    "values = []\n",
    "for location in cancer_overlaps['MALY'][0]:\n",
    "    values.append(WGBS_avgBeta['MALY'][location])\n",
    "plt.hist(values, bins=10)\n",
    "plt.xticks(np.arange(0, 1.1, 0.1))\n",
    "plt.xlabel('Methylation Ratio')\n",
    "plt.ylabel('Frequency of Overlaps')\n",
    "plt.title('MALY')"
   ]
  },
  {
   "cell_type": "code",
   "execution_count": 8,
   "metadata": {
    "collapsed": false
   },
   "outputs": [
    {
     "data": {
      "text/plain": [
       "<matplotlib.text.Text at 0x161adf790>"
      ]
     },
     "execution_count": 8,
     "metadata": {},
     "output_type": "execute_result"
    },
    {
     "data": {
      "image/png": "[encoded data removed]",
      "text/plain": [
       "<matplotlib.figure.Figure at 0x133ab4950>"
      ]
     },
     "metadata": {},
     "output_type": "display_data"
    }
   ],
   "source": [
    "plt.hist(actual_ratios, bins=10)\n",
    "plt.xticks(np.arange(0, 1.1, 0.1))\n",
    "plt.xlabel('Methylation Ratio')\n",
    "plt.ylabel('Frequency of Overlaps')\n",
    "# plt.title('MALY')"
   ]
  },
  {
   "cell_type": "code",
   "execution_count": 9,
   "metadata": {
    "collapsed": false
   },
   "outputs": [
    {
     "name": "stdout",
     "output_type": "stream",
     "text": [
      "Counter({('chr18', '72999671'): 1, ('chr1', '16558662'): 1, ('chr19', '11144146'): 1, ('chr19', '1044627'): 1, ('chr20', '48558133'): 1, ('chr20', '31629805'): 1, ('chr19', '47342810'): 1, ('chr1', '204957878'): 1, ('chr4', '187078815'): 1, ('chr11', '47367848'): 1, ('chr17', '7577548'): 1, ('chr16', '2230622'): 1, ('chr19', '11134251'): 1, ('chr12', '75601469'): 1, ('chr16', '4312619'): 1, ('chr16', '84005762'): 1, ('chr6', '32552026'): 1, ('chr2', '9520891'): 1, ('chr17', '15217426'): 1, ('chr9', '118950239'): 1, ('chr15', '45389858'): 1, ('chr1', '173915675'): 1, ('chr22', '23524069'): 1, ('chr19', '38993211'): 1, ('chr19', '11141492'): 1, ('chr19', '35551259'): 1, ('chr16', '1035073'): 1, ('chr12', '49420213'): 1, ('chr4', '125593272'): 1, ('chr9', '140040308'): 1, ('chr22', '50316906'): 1, ('chr7', '121773699'): 1, ('chr19', '47951334'): 1, ('chr11', '121476197'): 1, ('chr17', '9559767'): 1, ('chr17', '7577538'): 1, ('chr9', '100857248'): 1, ('chr22', '32625220'): 1, ('chr11', '66133688'): 1})\n"
     ]
    }
   ],
   "source": [
    "import collections\n",
    "counter=collections.Counter(cancer_overlaps['MALY'][0])\n",
    "print(counter)"
   ]
  },
  {
   "cell_type": "code",
   "execution_count": 10,
   "metadata": {
    "collapsed": false
   },
   "outputs": [
    {
     "name": "stdout",
     "output_type": "stream",
     "text": [
      "Counter({('chr10', '116621020'): 1, ('chr19', '17741004'): 1, ('chr4', '122825611'): 1, ('chr3', '53785873'): 1, ('chr21', '34922544'): 1, ('chr5', '129243980'): 1, ('chr7', '129944388'): 1, ('chr18', '48241573'): 1, ('chr17', '63049639'): 1, ('chr22', '19504062'): 1, ('chr14', '23243597'): 1, ('chr19', '11141426'): 1, ('chr2', '75109275'): 1, ('chr13', '28608087'): 1, ('chr22', '22153338'): 1, ('chr19', '6156561'): 1, ('chr6', '133777748'): 1, ('chr19', '4543726'): 1, ('chr19', '51628589'): 1, ('chr7', '143088717'): 1, ('chr16', '52553376'): 1, ('chr17', '15234895'): 1})\n"
     ]
    }
   ],
   "source": [
    "counter=collections.Counter(cancer_overlaps['PBCA'][0])\n",
    "print(counter)"
   ]
  },
  {
   "cell_type": "code",
   "execution_count": 17,
   "metadata": {
    "collapsed": false
   },
   "outputs": [
    {
     "name": "stdout",
     "output_type": "stream",
     "text": [
      "61\n"
     ]
    }
   ],
   "source": [
    "print len(actual_ratios)"
   ]
  },
  {
   "cell_type": "code",
   "execution_count": 15,
   "metadata": {
    "collapsed": true
   },
   "outputs": [],
   "source": [
    "actual_ratios_no_threshold = cPickle.load(open(\"/Users/khandekara2/Documents/methylationProject/03_results/actual_ratios_no_threshold.pickle\", \"rb\"))"
   ]
  },
  {
   "cell_type": "code",
   "execution_count": 16,
   "metadata": {
    "collapsed": false
   },
   "outputs": [
    {
     "data": {
      "text/plain": [
       "<matplotlib.text.Text at 0x17e3e79d0>"
      ]
     },
     "execution_count": 16,
     "metadata": {},
     "output_type": "execute_result"
    },
    {
     "data": {
      "image/png": "[encoded data removed]",
      "text/plain": [
       "<matplotlib.figure.Figure at 0x11b311090>"
      ]
     },
     "metadata": {},
     "output_type": "display_data"
    }
   ],
   "source": [
    "\n",
    "plt.hist(actual_ratios_no_threshold, bins=10)\n",
    "plt.xticks(np.arange(0, 1.1, 0.1))\n",
    "plt.xlabel('Methylation Ratio')\n",
    "plt.ylabel('Frequency of Overlaps')"
   ]
  },
  {
   "cell_type": "code",
   "execution_count": 26,
   "metadata": {
    "collapsed": true
   },
   "outputs": [],
   "source": [
    "import pandas as pd \n",
    "df = pd.read_csv('/Users/khandekara2/Documents/methylationProject/01_data/CLLE_prevBase.tsv', sep = '\\t')\n",
    "\n"
   ]
  },
  {
   "cell_type": "code",
   "execution_count": 21,
   "metadata": {
    "collapsed": false
   },
   "outputs": [
    {
     "data": {
      "text/html": [
       "<div>\n",
       "<style>\n",
       "    .dataframe thead tr:only-child th {\n",
       "        text-align: right;\n",
       "    }\n",
       "\n",
       "    .dataframe thead th {\n",
       "        text-align: left;\n",
       "    }\n",
       "\n",
       "    .dataframe tbody tr th {\n",
       "        vertical-align: top;\n",
       "    }\n",
       "</style>\n",
       "<table border=\"1\" class=\"dataframe\">\n",
       "  <thead>\n",
       "    <tr style=\"text-align: right;\">\n",
       "      <th></th>\n",
       "      <th>chromosome</th>\n",
       "      <th>start</th>\n",
       "      <th>stop</th>\n",
       "      <th>id</th>\n",
       "      <th>methylation_ratio</th>\n",
       "      <th>prev_base</th>\n",
       "    </tr>\n",
       "  </thead>\n",
       "  <tbody>\n",
       "    <tr>\n",
       "      <th>0</th>\n",
       "      <td>chr1</td>\n",
       "      <td>100127910</td>\n",
       "      <td>100127911</td>\n",
       "      <td>X932-01-5D</td>\n",
       "      <td>0.913043</td>\n",
       "      <td>G</td>\n",
       "    </tr>\n",
       "    <tr>\n",
       "      <th>1</th>\n",
       "      <td>chr1</td>\n",
       "      <td>100127910</td>\n",
       "      <td>100127911</td>\n",
       "      <td>X932-01-6D</td>\n",
       "      <td>0.769231</td>\n",
       "      <td>G</td>\n",
       "    </tr>\n",
       "    <tr>\n",
       "      <th>2</th>\n",
       "      <td>chr1</td>\n",
       "      <td>100133241</td>\n",
       "      <td>100133242</td>\n",
       "      <td>003-0005-10TD</td>\n",
       "      <td>0.888889</td>\n",
       "      <td>G</td>\n",
       "    </tr>\n",
       "    <tr>\n",
       "      <th>3</th>\n",
       "      <td>chr1</td>\n",
       "      <td>100133241</td>\n",
       "      <td>100133242</td>\n",
       "      <td>016-0040-02TD</td>\n",
       "      <td>0.916667</td>\n",
       "      <td>G</td>\n",
       "    </tr>\n",
       "    <tr>\n",
       "      <th>4</th>\n",
       "      <td>chr1</td>\n",
       "      <td>100133241</td>\n",
       "      <td>100133242</td>\n",
       "      <td>X932-01-4D</td>\n",
       "      <td>0.954545</td>\n",
       "      <td>G</td>\n",
       "    </tr>\n",
       "  </tbody>\n",
       "</table>\n",
       "</div>"
      ],
      "text/plain": [
       "  chromosome      start       stop             id  methylation_ratio prev_base\n",
       "0       chr1  100127910  100127911     X932-01-5D           0.913043         G\n",
       "1       chr1  100127910  100127911     X932-01-6D           0.769231         G\n",
       "2       chr1  100133241  100133242  003-0005-10TD           0.888889         G\n",
       "3       chr1  100133241  100133242  016-0040-02TD           0.916667         G\n",
       "4       chr1  100133241  100133242     X932-01-4D           0.954545         G"
      ]
     },
     "execution_count": 21,
     "metadata": {},
     "output_type": "execute_result"
    }
   ],
   "source": [
    "df.head()"
   ]
  },
  {
   "cell_type": "code",
   "execution_count": 27,
   "metadata": {
    "collapsed": true
   },
   "outputs": [],
   "source": [
    "groupby = df['methylation_ratio'].groupby(df['prev_base'].str.upper())\n",
    "df = groupby.agg([np.mean])\n",
    "df.reset_index(inplace=True)"
   ]
  },
  {
   "cell_type": "code",
   "execution_count": 28,
   "metadata": {
    "collapsed": false
   },
   "outputs": [
    {
     "data": {
      "text/html": [
       "<div>\n",
       "<style>\n",
       "    .dataframe thead tr:only-child th {\n",
       "        text-align: right;\n",
       "    }\n",
       "\n",
       "    .dataframe thead th {\n",
       "        text-align: left;\n",
       "    }\n",
       "\n",
       "    .dataframe tbody tr th {\n",
       "        vertical-align: top;\n",
       "    }\n",
       "</style>\n",
       "<table border=\"1\" class=\"dataframe\">\n",
       "  <thead>\n",
       "    <tr style=\"text-align: right;\">\n",
       "      <th></th>\n",
       "      <th>prev_base</th>\n",
       "      <th>mean</th>\n",
       "    </tr>\n",
       "  </thead>\n",
       "  <tbody>\n",
       "    <tr>\n",
       "      <th>0</th>\n",
       "      <td>A</td>\n",
       "      <td>0.708971</td>\n",
       "    </tr>\n",
       "    <tr>\n",
       "      <th>1</th>\n",
       "      <td>C</td>\n",
       "      <td>0.682562</td>\n",
       "    </tr>\n",
       "    <tr>\n",
       "      <th>2</th>\n",
       "      <td>G</td>\n",
       "      <td>0.652690</td>\n",
       "    </tr>\n",
       "    <tr>\n",
       "      <th>3</th>\n",
       "      <td>T</td>\n",
       "      <td>0.721370</td>\n",
       "    </tr>\n",
       "  </tbody>\n",
       "</table>\n",
       "</div>"
      ],
      "text/plain": [
       "  prev_base      mean\n",
       "0         A  0.708971\n",
       "1         C  0.682562\n",
       "2         G  0.652690\n",
       "3         T  0.721370"
      ]
     },
     "execution_count": 28,
     "metadata": {},
     "output_type": "execute_result"
    }
   ],
   "source": [
    "df.head()"
   ]
  },
  {
   "cell_type": "code",
   "execution_count": 33,
   "metadata": {
    "collapsed": true
   },
   "outputs": [],
   "source": [
    "df2 = pd.read_csv('/Users/khandekara2/Documents/methylationProject/01_data/PBCA_prevBase.tsv', sep = '\\t')"
   ]
  },
  {
   "cell_type": "code",
   "execution_count": 34,
   "metadata": {
    "collapsed": true
   },
   "outputs": [],
   "source": [
    "groupby2 = df2['methylation_ratio'].groupby(df2['prev_base'].str.upper())\n",
    "df2 = groupby2.agg([np.mean])\n",
    "df2.reset_index(inplace=True)"
   ]
  },
  {
   "cell_type": "code",
   "execution_count": 35,
   "metadata": {
    "collapsed": false
   },
   "outputs": [
    {
     "data": {
      "text/html": [
       "<div>\n",
       "<style>\n",
       "    .dataframe thead tr:only-child th {\n",
       "        text-align: right;\n",
       "    }\n",
       "\n",
       "    .dataframe thead th {\n",
       "        text-align: left;\n",
       "    }\n",
       "\n",
       "    .dataframe tbody tr th {\n",
       "        vertical-align: top;\n",
       "    }\n",
       "</style>\n",
       "<table border=\"1\" class=\"dataframe\">\n",
       "  <thead>\n",
       "    <tr style=\"text-align: right;\">\n",
       "      <th></th>\n",
       "      <th>prev_base</th>\n",
       "      <th>mean</th>\n",
       "    </tr>\n",
       "  </thead>\n",
       "  <tbody>\n",
       "    <tr>\n",
       "      <th>0</th>\n",
       "      <td>A</td>\n",
       "      <td>0.674411</td>\n",
       "    </tr>\n",
       "    <tr>\n",
       "      <th>1</th>\n",
       "      <td>C</td>\n",
       "      <td>0.608820</td>\n",
       "    </tr>\n",
       "    <tr>\n",
       "      <th>2</th>\n",
       "      <td>G</td>\n",
       "      <td>0.597238</td>\n",
       "    </tr>\n",
       "    <tr>\n",
       "      <th>3</th>\n",
       "      <td>T</td>\n",
       "      <td>0.679967</td>\n",
       "    </tr>\n",
       "  </tbody>\n",
       "</table>\n",
       "</div>"
      ],
      "text/plain": [
       "  prev_base      mean\n",
       "0         A  0.674411\n",
       "1         C  0.608820\n",
       "2         G  0.597238\n",
       "3         T  0.679967"
      ]
     },
     "execution_count": 35,
     "metadata": {},
     "output_type": "execute_result"
    }
   ],
   "source": [
    "df2"
   ]
  },
  {
   "cell_type": "code",
   "execution_count": 38,
   "metadata": {
    "collapsed": false
   },
   "outputs": [
    {
     "data": {
      "image/png": "[encoded data removed]",
      "text/plain": [
       "<matplotlib.figure.Figure at 0x1a87c9190>"
      ]
     },
     "metadata": {},
     "output_type": "display_data"
    },
    {
     "data": {
      "image/png": "[encoded data removed]",
      "text/plain": [
       "<matplotlib.figure.Figure at 0x1a8a80250>"
      ]
     },
     "metadata": {},
     "output_type": "display_data"
    },
    {
     "data": {
      "image/png": "[encoded data removed]",
      "text/plain": [
       "<matplotlib.figure.Figure at 0x1a823e0d0>"
      ]
     },
     "metadata": {},
     "output_type": "display_data"
    },
    {
     "data": {
      "image/png": "[encoded data removed]",
      "text/plain": [
       "<matplotlib.figure.Figure at 0x1a898bf90>"
      ]
     },
     "metadata": {},
     "output_type": "display_data"
    }
   ],
   "source": [
    "import matplotlib.pyplot as plt\n",
    "\n",
    "for i, group in groupby:\n",
    "    plt.figure()\n",
    "    group.hist()"
   ]
  },
  {
   "cell_type": "code",
   "execution_count": 41,
   "metadata": {
    "collapsed": true
   },
   "outputs": [],
   "source": [
    "#create 4 separate dataframes for each prev_base and plot boxplot\n",
    "clle = pd.read_csv('/Users/khandekara2/Documents/methylationProject/01_data/CLLE_prevBase.tsv', sep = '\\t')\n",
    "pbca = pd.read_csv('/Users/khandekara2/Documents/methylationProject/01_data/PBCA_prevBase.tsv', sep = '\\t')\n",
    "A = pbca[pbca['prev_base'].str.upper() == \"A\"]\n",
    "C = pbca[pbca['prev_base'].str.upper() == \"C\"]\n",
    "T = pbca[pbca['prev_base'].str.upper() == \"T\"]\n",
    "G = pbca[pbca['prev_base'].str.upper() == \"G\"]"
   ]
  },
  {
   "cell_type": "code",
   "execution_count": 42,
   "metadata": {
    "collapsed": false
   },
   "outputs": [
    {
     "name": "stdout",
     "output_type": "stream",
     "text": [
      "(8196436, 6)\n",
      "(14075707, 6)\n",
      "(8700837, 6)\n",
      "(12017916, 6)\n"
     ]
    }
   ],
   "source": [
    "print A.shape\n",
    "print C.shape\n",
    "print T.shape\n",
    "print G.shape"
   ]
  },
  {
   "cell_type": "code",
   "execution_count": 43,
   "metadata": {
    "collapsed": false
   },
   "outputs": [
    {
     "name": "stdout",
     "output_type": "stream",
     "text": [
      "(42990896, 6)\n"
     ]
    }
   ],
   "source": [
    "print pbca.shape"
   ]
  },
  {
   "cell_type": "code",
   "execution_count": 46,
   "metadata": {
    "collapsed": true
   },
   "outputs": [],
   "source": [
    "pbca['prev_base'] = pbca['prev_base'].str.upper()"
   ]
  },
  {
   "cell_type": "code",
   "execution_count": 47,
   "metadata": {
    "collapsed": false
   },
   "outputs": [
    {
     "data": {
      "text/plain": [
       "<matplotlib.axes._subplots.AxesSubplot at 0x1aa740f90>"
      ]
     },
     "execution_count": 47,
     "metadata": {},
     "output_type": "execute_result"
    },
    {
     "data": {
      "image/png": "[encoded data removed]",
      "text/plain": [
       "<matplotlib.figure.Figure at 0x1aa74e910>"
      ]
     },
     "metadata": {},
     "output_type": "display_data"
    }
   ],
   "source": [
    "#plot boxplots\n",
    "pbca.boxplot(by='prev_base', column='methylation_ratio')"
   ]
  },
  {
   "cell_type": "code",
   "execution_count": 48,
   "metadata": {
    "collapsed": true
   },
   "outputs": [],
   "source": [
    "A = clle[clle['prev_base'].str.upper() == \"A\"]\n",
    "C = clle[clle['prev_base'].str.upper() == \"C\"]\n",
    "T = clle[clle['prev_base'].str.upper() == \"T\"]\n",
    "G = clle[clle['prev_base'].str.upper() == \"G\"]"
   ]
  },
  {
   "cell_type": "code",
   "execution_count": 49,
   "metadata": {
    "collapsed": false
   },
   "outputs": [
    {
     "name": "stdout",
     "output_type": "stream",
     "text": [
      "(842979, 6)\n",
      "(1435387, 6)\n",
      "(888020, 6)\n",
      "(1230304, 6)\n"
     ]
    }
   ],
   "source": [
    "print A.shape\n",
    "print C.shape\n",
    "print T.shape\n",
    "print G.shape"
   ]
  },
  {
   "cell_type": "code",
   "execution_count": 53,
   "metadata": {
    "collapsed": true
   },
   "outputs": [],
   "source": [
    "clle['prev_base'] = clle['prev_base'].str.upper()"
   ]
  },
  {
   "cell_type": "code",
   "execution_count": 54,
   "metadata": {
    "collapsed": false
   },
   "outputs": [
    {
     "data": {
      "text/plain": [
       "<matplotlib.axes._subplots.AxesSubplot at 0x1cbd70450>"
      ]
     },
     "execution_count": 54,
     "metadata": {},
     "output_type": "execute_result"
    },
    {
     "data": {
      "image/png": "[encoded data removed]",
      "text/plain": [
       "<matplotlib.figure.Figure at 0x1c8739e90>"
      ]
     },
     "metadata": {},
     "output_type": "display_data"
    }
   ],
   "source": [
    "clle.boxplot(by='prev_base', column='methylation_ratio')"
   ]
  },
  {
   "cell_type": "code",
   "execution_count": 56,
   "metadata": {
    "collapsed": true
   },
   "outputs": [],
   "source": [
    "\n",
    "grouped = pbca['methylation_ratio'].groupby(pbca['id'])\n",
    "grouped_df = grouped.agg([np.mean, np.std])\n",
    "grouped_df.reset_index(inplace=True)"
   ]
  },
  {
   "cell_type": "code",
   "execution_count": 57,
   "metadata": {
    "collapsed": false
   },
   "outputs": [
    {
     "data": {
      "text/html": [
       "<div>\n",
       "<style>\n",
       "    .dataframe thead tr:only-child th {\n",
       "        text-align: right;\n",
       "    }\n",
       "\n",
       "    .dataframe thead th {\n",
       "        text-align: left;\n",
       "    }\n",
       "\n",
       "    .dataframe tbody tr th {\n",
       "        vertical-align: top;\n",
       "    }\n",
       "</style>\n",
       "<table border=\"1\" class=\"dataframe\">\n",
       "  <thead>\n",
       "    <tr style=\"text-align: right;\">\n",
       "      <th></th>\n",
       "      <th>id</th>\n",
       "      <th>mean</th>\n",
       "      <th>std</th>\n",
       "    </tr>\n",
       "  </thead>\n",
       "  <tbody>\n",
       "    <tr>\n",
       "      <th>0</th>\n",
       "      <td>ICGC_A1</td>\n",
       "      <td>0.598050</td>\n",
       "      <td>0.412314</td>\n",
       "    </tr>\n",
       "    <tr>\n",
       "      <th>1</th>\n",
       "      <td>ICGC_A2</td>\n",
       "      <td>0.605588</td>\n",
       "      <td>0.406952</td>\n",
       "    </tr>\n",
       "    <tr>\n",
       "      <th>2</th>\n",
       "      <td>ICGC_A3</td>\n",
       "      <td>0.617134</td>\n",
       "      <td>0.408684</td>\n",
       "    </tr>\n",
       "    <tr>\n",
       "      <th>3</th>\n",
       "      <td>ICGC_A4</td>\n",
       "      <td>0.612687</td>\n",
       "      <td>0.406090</td>\n",
       "    </tr>\n",
       "    <tr>\n",
       "      <th>4</th>\n",
       "      <td>ICGC_F1</td>\n",
       "      <td>0.639435</td>\n",
       "      <td>0.399321</td>\n",
       "    </tr>\n",
       "    <tr>\n",
       "      <th>5</th>\n",
       "      <td>ICGC_F2</td>\n",
       "      <td>0.643183</td>\n",
       "      <td>0.396007</td>\n",
       "    </tr>\n",
       "    <tr>\n",
       "      <th>6</th>\n",
       "      <td>ICGC_F3</td>\n",
       "      <td>0.626112</td>\n",
       "      <td>0.396456</td>\n",
       "    </tr>\n",
       "    <tr>\n",
       "      <th>7</th>\n",
       "      <td>ICGC_F4</td>\n",
       "      <td>0.651211</td>\n",
       "      <td>0.399061</td>\n",
       "    </tr>\n",
       "    <tr>\n",
       "      <th>8</th>\n",
       "      <td>ICGC_MB1</td>\n",
       "      <td>0.639811</td>\n",
       "      <td>0.396933</td>\n",
       "    </tr>\n",
       "    <tr>\n",
       "      <th>9</th>\n",
       "      <td>ICGC_MB107</td>\n",
       "      <td>0.661684</td>\n",
       "      <td>0.398667</td>\n",
       "    </tr>\n",
       "    <tr>\n",
       "      <th>10</th>\n",
       "      <td>ICGC_MB112</td>\n",
       "      <td>0.626899</td>\n",
       "      <td>0.400177</td>\n",
       "    </tr>\n",
       "    <tr>\n",
       "      <th>11</th>\n",
       "      <td>ICGC_MB113</td>\n",
       "      <td>0.652344</td>\n",
       "      <td>0.400684</td>\n",
       "    </tr>\n",
       "    <tr>\n",
       "      <th>12</th>\n",
       "      <td>ICGC_MB14</td>\n",
       "      <td>0.653621</td>\n",
       "      <td>0.363829</td>\n",
       "    </tr>\n",
       "    <tr>\n",
       "      <th>13</th>\n",
       "      <td>ICGC_MB15</td>\n",
       "      <td>0.673263</td>\n",
       "      <td>0.399195</td>\n",
       "    </tr>\n",
       "    <tr>\n",
       "      <th>14</th>\n",
       "      <td>ICGC_MB16</td>\n",
       "      <td>0.609904</td>\n",
       "      <td>0.401505</td>\n",
       "    </tr>\n",
       "    <tr>\n",
       "      <th>15</th>\n",
       "      <td>ICGC_MB17</td>\n",
       "      <td>0.652012</td>\n",
       "      <td>0.377579</td>\n",
       "    </tr>\n",
       "    <tr>\n",
       "      <th>16</th>\n",
       "      <td>ICGC_MB18</td>\n",
       "      <td>0.578847</td>\n",
       "      <td>0.397143</td>\n",
       "    </tr>\n",
       "    <tr>\n",
       "      <th>17</th>\n",
       "      <td>ICGC_MB19</td>\n",
       "      <td>0.645313</td>\n",
       "      <td>0.402416</td>\n",
       "    </tr>\n",
       "    <tr>\n",
       "      <th>18</th>\n",
       "      <td>ICGC_MB2</td>\n",
       "      <td>0.652645</td>\n",
       "      <td>0.402929</td>\n",
       "    </tr>\n",
       "    <tr>\n",
       "      <th>19</th>\n",
       "      <td>ICGC_MB24</td>\n",
       "      <td>0.639217</td>\n",
       "      <td>0.406436</td>\n",
       "    </tr>\n",
       "    <tr>\n",
       "      <th>20</th>\n",
       "      <td>ICGC_MB26</td>\n",
       "      <td>0.629611</td>\n",
       "      <td>0.396973</td>\n",
       "    </tr>\n",
       "    <tr>\n",
       "      <th>21</th>\n",
       "      <td>ICGC_MB28</td>\n",
       "      <td>0.595688</td>\n",
       "      <td>0.401930</td>\n",
       "    </tr>\n",
       "    <tr>\n",
       "      <th>22</th>\n",
       "      <td>ICGC_MB32</td>\n",
       "      <td>0.608533</td>\n",
       "      <td>0.398272</td>\n",
       "    </tr>\n",
       "    <tr>\n",
       "      <th>23</th>\n",
       "      <td>ICGC_MB34</td>\n",
       "      <td>0.631991</td>\n",
       "      <td>0.393291</td>\n",
       "    </tr>\n",
       "    <tr>\n",
       "      <th>24</th>\n",
       "      <td>ICGC_MB35</td>\n",
       "      <td>0.621025</td>\n",
       "      <td>0.405018</td>\n",
       "    </tr>\n",
       "    <tr>\n",
       "      <th>25</th>\n",
       "      <td>ICGC_MB36</td>\n",
       "      <td>0.599461</td>\n",
       "      <td>0.405922</td>\n",
       "    </tr>\n",
       "    <tr>\n",
       "      <th>26</th>\n",
       "      <td>ICGC_MB37</td>\n",
       "      <td>0.604834</td>\n",
       "      <td>0.398968</td>\n",
       "    </tr>\n",
       "    <tr>\n",
       "      <th>27</th>\n",
       "      <td>ICGC_MB38</td>\n",
       "      <td>0.666448</td>\n",
       "      <td>0.400566</td>\n",
       "    </tr>\n",
       "    <tr>\n",
       "      <th>28</th>\n",
       "      <td>ICGC_MB39</td>\n",
       "      <td>0.657838</td>\n",
       "      <td>0.393487</td>\n",
       "    </tr>\n",
       "    <tr>\n",
       "      <th>29</th>\n",
       "      <td>ICGC_MB40</td>\n",
       "      <td>0.631359</td>\n",
       "      <td>0.398876</td>\n",
       "    </tr>\n",
       "    <tr>\n",
       "      <th>30</th>\n",
       "      <td>ICGC_MB45</td>\n",
       "      <td>0.657554</td>\n",
       "      <td>0.398903</td>\n",
       "    </tr>\n",
       "    <tr>\n",
       "      <th>31</th>\n",
       "      <td>ICGC_MB46</td>\n",
       "      <td>0.668375</td>\n",
       "      <td>0.394847</td>\n",
       "    </tr>\n",
       "    <tr>\n",
       "      <th>32</th>\n",
       "      <td>ICGC_MB49</td>\n",
       "      <td>0.622617</td>\n",
       "      <td>0.406998</td>\n",
       "    </tr>\n",
       "    <tr>\n",
       "      <th>33</th>\n",
       "      <td>ICGC_MB5</td>\n",
       "      <td>0.670639</td>\n",
       "      <td>0.387515</td>\n",
       "    </tr>\n",
       "    <tr>\n",
       "      <th>34</th>\n",
       "      <td>ICGC_MB50</td>\n",
       "      <td>0.607097</td>\n",
       "      <td>0.401199</td>\n",
       "    </tr>\n",
       "    <tr>\n",
       "      <th>35</th>\n",
       "      <td>ICGC_MB51</td>\n",
       "      <td>0.644439</td>\n",
       "      <td>0.405358</td>\n",
       "    </tr>\n",
       "    <tr>\n",
       "      <th>36</th>\n",
       "      <td>ICGC_MB6</td>\n",
       "      <td>0.672579</td>\n",
       "      <td>0.396283</td>\n",
       "    </tr>\n",
       "    <tr>\n",
       "      <th>37</th>\n",
       "      <td>ICGC_MB7</td>\n",
       "      <td>0.622042</td>\n",
       "      <td>0.408224</td>\n",
       "    </tr>\n",
       "    <tr>\n",
       "      <th>38</th>\n",
       "      <td>ICGC_MB88</td>\n",
       "      <td>0.598595</td>\n",
       "      <td>0.400758</td>\n",
       "    </tr>\n",
       "    <tr>\n",
       "      <th>39</th>\n",
       "      <td>ICGC_MB9</td>\n",
       "      <td>0.604658</td>\n",
       "      <td>0.389983</td>\n",
       "    </tr>\n",
       "    <tr>\n",
       "      <th>40</th>\n",
       "      <td>ICGC_MB90</td>\n",
       "      <td>0.630857</td>\n",
       "      <td>0.392614</td>\n",
       "    </tr>\n",
       "    <tr>\n",
       "      <th>41</th>\n",
       "      <td>ICGC_MB95</td>\n",
       "      <td>0.637464</td>\n",
       "      <td>0.388428</td>\n",
       "    </tr>\n",
       "  </tbody>\n",
       "</table>\n",
       "</div>"
      ],
      "text/plain": [
       "            id      mean       std\n",
       "0      ICGC_A1  0.598050  0.412314\n",
       "1      ICGC_A2  0.605588  0.406952\n",
       "2      ICGC_A3  0.617134  0.408684\n",
       "3      ICGC_A4  0.612687  0.406090\n",
       "4      ICGC_F1  0.639435  0.399321\n",
       "5      ICGC_F2  0.643183  0.396007\n",
       "6      ICGC_F3  0.626112  0.396456\n",
       "7      ICGC_F4  0.651211  0.399061\n",
       "8     ICGC_MB1  0.639811  0.396933\n",
       "9   ICGC_MB107  0.661684  0.398667\n",
       "10  ICGC_MB112  0.626899  0.400177\n",
       "11  ICGC_MB113  0.652344  0.400684\n",
       "12   ICGC_MB14  0.653621  0.363829\n",
       "13   ICGC_MB15  0.673263  0.399195\n",
       "14   ICGC_MB16  0.609904  0.401505\n",
       "15   ICGC_MB17  0.652012  0.377579\n",
       "16   ICGC_MB18  0.578847  0.397143\n",
       "17   ICGC_MB19  0.645313  0.402416\n",
       "18    ICGC_MB2  0.652645  0.402929\n",
       "19   ICGC_MB24  0.639217  0.406436\n",
       "20   ICGC_MB26  0.629611  0.396973\n",
       "21   ICGC_MB28  0.595688  0.401930\n",
       "22   ICGC_MB32  0.608533  0.398272\n",
       "23   ICGC_MB34  0.631991  0.393291\n",
       "24   ICGC_MB35  0.621025  0.405018\n",
       "25   ICGC_MB36  0.599461  0.405922\n",
       "26   ICGC_MB37  0.604834  0.398968\n",
       "27   ICGC_MB38  0.666448  0.400566\n",
       "28   ICGC_MB39  0.657838  0.393487\n",
       "29   ICGC_MB40  0.631359  0.398876\n",
       "30   ICGC_MB45  0.657554  0.398903\n",
       "31   ICGC_MB46  0.668375  0.394847\n",
       "32   ICGC_MB49  0.622617  0.406998\n",
       "33    ICGC_MB5  0.670639  0.387515\n",
       "34   ICGC_MB50  0.607097  0.401199\n",
       "35   ICGC_MB51  0.644439  0.405358\n",
       "36    ICGC_MB6  0.672579  0.396283\n",
       "37    ICGC_MB7  0.622042  0.408224\n",
       "38   ICGC_MB88  0.598595  0.400758\n",
       "39    ICGC_MB9  0.604658  0.389983\n",
       "40   ICGC_MB90  0.630857  0.392614\n",
       "41   ICGC_MB95  0.637464  0.388428"
      ]
     },
     "execution_count": 57,
     "metadata": {},
     "output_type": "execute_result"
    }
   ],
   "source": [
    "grouped_df"
   ]
  },
  {
   "cell_type": "code",
   "execution_count": 58,
   "metadata": {
    "collapsed": false
   },
   "outputs": [
    {
     "data": {
      "text/plain": [
       "array([[<matplotlib.axes._subplots.AxesSubplot object at 0x24d2b1610>]], dtype=object)"
      ]
     },
     "execution_count": 58,
     "metadata": {},
     "output_type": "execute_result"
    },
    {
     "data": {
      "image/png": "[encoded data removed]",
      "text/plain": [
       "<matplotlib.figure.Figure at 0x1a8b06050>"
      ]
     },
     "metadata": {},
     "output_type": "display_data"
    }
   ],
   "source": [
    "grouped_df.hist(column='mean')"
   ]
  },
  {
   "cell_type": "code",
   "execution_count": 59,
   "metadata": {
    "collapsed": false
   },
   "outputs": [
    {
     "data": {
      "text/plain": [
       "array([[<matplotlib.axes._subplots.AxesSubplot object at 0x1f8c73ed0>]], dtype=object)"
      ]
     },
     "execution_count": 59,
     "metadata": {},
     "output_type": "execute_result"
    },
    {
     "data": {
      "image/png": "[encoded data removed]",
      "text/plain": [
       "<matplotlib.figure.Figure at 0x1a8d5c990>"
      ]
     },
     "metadata": {},
     "output_type": "display_data"
    }
   ],
   "source": [
    "grouped_df.hist(column='std')"
   ]
  },
  {
   "cell_type": "code",
   "execution_count": 4,
   "metadata": {
    "collapsed": false
   },
   "outputs": [],
   "source": [
    "import numpy as np\n",
    "import pandas as pd\n",
    "pbca = pd.read_csv('/Users/khandekara2/Documents/methylationProject/01_data/PBCA_prevBase.tsv', sep = '\\t')\n",
    "methylated = pbca[pbca['methylation_ratio'] > 0]\n",
    "grouped = methylated['methylation_ratio'].groupby(methylated['id'])\n",
    "grouped_df = grouped.agg([np.mean, np.std])\n",
    "grouped_df.reset_index(inplace=True)\n"
   ]
  },
  {
   "cell_type": "code",
   "execution_count": 6,
   "metadata": {
    "collapsed": false
   },
   "outputs": [
    {
     "data": {
      "text/plain": [
       "array([[<matplotlib.axes._subplots.AxesSubplot object at 0x111dda198>]], dtype=object)"
      ]
     },
     "execution_count": 6,
     "metadata": {},
     "output_type": "execute_result"
    },
    {
     "data": {
      "image/png": "[encoded data removed]",
      "text/plain": [
       "<matplotlib.figure.Figure at 0x111d4c2e8>"
      ]
     },
     "metadata": {},
     "output_type": "display_data"
    }
   ],
   "source": [
    "%matplotlib inline\n",
    "grouped_df.hist(column='mean')"
   ]
  },
  {
   "cell_type": "code",
   "execution_count": 7,
   "metadata": {
    "collapsed": false
   },
   "outputs": [
    {
     "data": {
      "text/plain": [
       "array([[<matplotlib.axes._subplots.AxesSubplot object at 0x111f23710>]], dtype=object)"
      ]
     },
     "execution_count": 7,
     "metadata": {},
     "output_type": "execute_result"
    },
    {
     "data": {
      "image/png": "[encoded data removed]",
      "text/plain": [
       "<matplotlib.figure.Figure at 0x111e76438>"
      ]
     },
     "metadata": {},
     "output_type": "display_data"
    }
   ],
   "source": [
    "grouped_df.hist(column='std')"
   ]
  },
  {
   "cell_type": "code",
   "execution_count": 10,
   "metadata": {
    "collapsed": true
   },
   "outputs": [],
   "source": [
    "grouped_df.to_csv('sample_means.csv')"
   ]
  },
  {
   "cell_type": "code",
   "execution_count": null,
   "metadata": {
    "collapsed": true
   },
   "outputs": [],
   "source": []
  }
 ],
 "metadata": {
  "kernelspec": {
   "display_name": "Python 3",
   "language": "python",
   "name": "python3"
  },
  "language_info": {
   "codemirror_mode": {
    "name": "ipython",
    "version": 3
   },
   "file_extension": ".py",
   "mimetype": "text/x-python",
   "name": "python",
   "nbconvert_exporter": "python",
   "pygments_lexer": "ipython3",
   "version": "3.6.0"
  }
 },
 "nbformat": 4,
 "nbformat_minor": 2
}
