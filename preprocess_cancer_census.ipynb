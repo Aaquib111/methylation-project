{
 "cells": [
  {
   "cell_type": "code",
   "execution_count": null,
   "metadata": {
    "collapsed": true
   },
   "outputs": [],
   "source": []
  },
  {
   "cell_type": "code",
   "execution_count": 3,
   "metadata": {},
   "outputs": [],
   "source": [
    "#create bed file of cds of cosmic cancer genes\n",
    "import csv\n",
    "import pandas as pd\n",
    "df = pd.read_csv('/Users/khandekara2/Documents/methylationProject/01_data/Census_allThu Feb  9 18_47_50 2017.csv', header=0)\n",
    "df.head()\n",
    "locations = df['Genome Location']\n",
    "names = df['Gene Symbol']\n",
    "with open('cancer_genes.bed', 'w') as f:\n",
    "    writer = csv.writer(f, delimiter='\\t')\n",
    "    for name, location in zip(names, locations):\n",
    "        loc = location.split(':')\n",
    "        chrom = loc[0]\n",
    "        start = loc[1].split('-')[0]\n",
    "        stop =  loc[1].split('-')[1]\n",
    "        if loc[1] != '-':\n",
    "            writer.writerow(['chr' + chrom, start, stop, name])\n",
    "\n",
    "        "
   ]
  },
  {
   "cell_type": "code",
   "execution_count": 21,
   "metadata": {},
   "outputs": [
    {
     "data": {
      "text/html": [
       "<div>\n",
       "<table border=\"1\" class=\"dataframe\">\n",
       "  <thead>\n",
       "    <tr style=\"text-align: right;\">\n",
       "      <th></th>\n",
       "      <th>Gene Symbol</th>\n",
       "      <th>Name</th>\n",
       "      <th>Entrez GeneId</th>\n",
       "      <th>Genome Location</th>\n",
       "      <th>Chr Band</th>\n",
       "      <th>Somatic</th>\n",
       "      <th>Germline</th>\n",
       "      <th>Tumour Types(Somatic)</th>\n",
       "      <th>Tumour Types(Germline)</th>\n",
       "      <th>Cancer Syndrome</th>\n",
       "      <th>Tissue Type</th>\n",
       "      <th>Molecular Genetics</th>\n",
       "      <th>Role in Cancer</th>\n",
       "      <th>Mutation Types</th>\n",
       "      <th>Translocation Partner</th>\n",
       "      <th>Other Germline Mut</th>\n",
       "      <th>Other Syndrome</th>\n",
       "      <th>Synonyms</th>\n",
       "    </tr>\n",
       "  </thead>\n",
       "  <tbody>\n",
       "    <tr>\n",
       "      <th>0</th>\n",
       "      <td>ABI1</td>\n",
       "      <td>abl-interactor 1</td>\n",
       "      <td>10006</td>\n",
       "      <td>10:26748570-26860863</td>\n",
       "      <td>10p11.2</td>\n",
       "      <td>yes</td>\n",
       "      <td>NaN</td>\n",
       "      <td>AML</td>\n",
       "      <td>NaN</td>\n",
       "      <td>NaN</td>\n",
       "      <td>L</td>\n",
       "      <td>Dom</td>\n",
       "      <td>TSG</td>\n",
       "      <td>T</td>\n",
       "      <td>KMT2A</td>\n",
       "      <td>NaN</td>\n",
       "      <td>NaN</td>\n",
       "      <td>E3B1,ABI1,10006,SSH3BP1,ABI-1</td>\n",
       "    </tr>\n",
       "    <tr>\n",
       "      <th>1</th>\n",
       "      <td>ABL1</td>\n",
       "      <td>v-abl Abelson murine leukemia viral oncogene h...</td>\n",
       "      <td>25</td>\n",
       "      <td>9:130835447-130885683</td>\n",
       "      <td>9q34.1</td>\n",
       "      <td>yes</td>\n",
       "      <td>NaN</td>\n",
       "      <td>CML, ALL, T-ALL</td>\n",
       "      <td>NaN</td>\n",
       "      <td>NaN</td>\n",
       "      <td>L</td>\n",
       "      <td>Dom</td>\n",
       "      <td>oncogene</td>\n",
       "      <td>T, Mis</td>\n",
       "      <td>BCR, ETV6, NUP214</td>\n",
       "      <td>NaN</td>\n",
       "      <td>NaN</td>\n",
       "      <td>p150,ABL1,25,ENSG00000097007,P00519,v-abl,bcr/...</td>\n",
       "    </tr>\n",
       "    <tr>\n",
       "      <th>2</th>\n",
       "      <td>ABL2</td>\n",
       "      <td>c-abl oncogene 2, non-receptor tyrosine kinase</td>\n",
       "      <td>27</td>\n",
       "      <td>1:179107718-179143044</td>\n",
       "      <td>1q24-q25</td>\n",
       "      <td>yes</td>\n",
       "      <td>NaN</td>\n",
       "      <td>AML</td>\n",
       "      <td>NaN</td>\n",
       "      <td>NaN</td>\n",
       "      <td>L</td>\n",
       "      <td>Dom</td>\n",
       "      <td>oncogene</td>\n",
       "      <td>T</td>\n",
       "      <td>ETV6</td>\n",
       "      <td>NaN</td>\n",
       "      <td>NaN</td>\n",
       "      <td>ARG,ABL2,27,ENSG00000143322,P42684,ABLL,RP11-1...</td>\n",
       "    </tr>\n",
       "    <tr>\n",
       "      <th>3</th>\n",
       "      <td>ACKR3</td>\n",
       "      <td>atypical chemokine receptor 3</td>\n",
       "      <td>57007</td>\n",
       "      <td>2:-</td>\n",
       "      <td>2q37.3</td>\n",
       "      <td>yes</td>\n",
       "      <td>NaN</td>\n",
       "      <td>lipoma</td>\n",
       "      <td>NaN</td>\n",
       "      <td>NaN</td>\n",
       "      <td>M</td>\n",
       "      <td>Dom</td>\n",
       "      <td>oncogene</td>\n",
       "      <td>T</td>\n",
       "      <td>HMGA2</td>\n",
       "      <td>NaN</td>\n",
       "      <td>NaN</td>\n",
       "      <td>NaN</td>\n",
       "    </tr>\n",
       "    <tr>\n",
       "      <th>4</th>\n",
       "      <td>ACSL3</td>\n",
       "      <td>acyl-CoA synthetase long-chain family member 3</td>\n",
       "      <td>2181</td>\n",
       "      <td>2:222908773-222941654</td>\n",
       "      <td>2q36</td>\n",
       "      <td>yes</td>\n",
       "      <td>NaN</td>\n",
       "      <td>prostate</td>\n",
       "      <td>NaN</td>\n",
       "      <td>NaN</td>\n",
       "      <td>E</td>\n",
       "      <td>Dom</td>\n",
       "      <td>NaN</td>\n",
       "      <td>T</td>\n",
       "      <td>ETV1</td>\n",
       "      <td>NaN</td>\n",
       "      <td>NaN</td>\n",
       "      <td>PRO2194,2181,ACSL3,ENSG00000123983,O95573,FACL...</td>\n",
       "    </tr>\n",
       "  </tbody>\n",
       "</table>\n",
       "</div>"
      ],
      "text/plain": [
       "  Gene Symbol                                               Name  \\\n",
       "0        ABI1                                   abl-interactor 1   \n",
       "1        ABL1  v-abl Abelson murine leukemia viral oncogene h...   \n",
       "2        ABL2     c-abl oncogene 2, non-receptor tyrosine kinase   \n",
       "3       ACKR3                      atypical chemokine receptor 3   \n",
       "4       ACSL3     acyl-CoA synthetase long-chain family member 3   \n",
       "\n",
       "   Entrez GeneId        Genome Location  Chr Band Somatic Germline  \\\n",
       "0          10006   10:26748570-26860863   10p11.2     yes      NaN   \n",
       "1             25  9:130835447-130885683    9q34.1     yes      NaN   \n",
       "2             27  1:179107718-179143044  1q24-q25     yes      NaN   \n",
       "3          57007                    2:-    2q37.3     yes      NaN   \n",
       "4           2181  2:222908773-222941654      2q36     yes      NaN   \n",
       "\n",
       "  Tumour Types(Somatic) Tumour Types(Germline) Cancer Syndrome Tissue Type  \\\n",
       "0                   AML                    NaN             NaN           L   \n",
       "1       CML, ALL, T-ALL                    NaN             NaN           L   \n",
       "2                   AML                    NaN             NaN           L   \n",
       "3                lipoma                    NaN             NaN           M   \n",
       "4              prostate                    NaN             NaN           E   \n",
       "\n",
       "  Molecular Genetics Role in Cancer Mutation Types Translocation Partner  \\\n",
       "0                Dom            TSG              T                 KMT2A   \n",
       "1                Dom       oncogene         T, Mis     BCR, ETV6, NUP214   \n",
       "2                Dom       oncogene              T                  ETV6   \n",
       "3                Dom       oncogene              T                 HMGA2   \n",
       "4                Dom            NaN              T                  ETV1   \n",
       "\n",
       "  Other Germline Mut Other Syndrome  \\\n",
       "0                NaN            NaN   \n",
       "1                NaN            NaN   \n",
       "2                NaN            NaN   \n",
       "3                NaN            NaN   \n",
       "4                NaN            NaN   \n",
       "\n",
       "                                            Synonyms  \n",
       "0                      E3B1,ABI1,10006,SSH3BP1,ABI-1  \n",
       "1  p150,ABL1,25,ENSG00000097007,P00519,v-abl,bcr/...  \n",
       "2  ARG,ABL2,27,ENSG00000143322,P42684,ABLL,RP11-1...  \n",
       "3                                                NaN  \n",
       "4  PRO2194,2181,ACSL3,ENSG00000123983,O95573,FACL...  "
      ]
     },
     "execution_count": 21,
     "metadata": {},
     "output_type": "execute_result"
    }
   ],
   "source": [
    "df.head()"
   ]
  },
  {
   "cell_type": "code",
   "execution_count": 2,
   "metadata": {},
   "outputs": [
    {
     "name": "stdout",
     "output_type": "stream",
     "text": [
      "chr10\n"
     ]
    }
   ],
   "source": [
    "s = '10:26748570-26860863'\n",
    "split = s.split(':')\n",
    "print ('chr' + split[0])"
   ]
  },
  {
   "cell_type": "code",
   "execution_count": 26,
   "metadata": {},
   "outputs": [
    {
     "name": "stdout",
     "output_type": "stream",
     "text": [
      "26748570\n",
      "26860863\n"
     ]
    }
   ],
   "source": [
    "print (split[1].split('-')[0])\n",
    "print (split[1].split('-')[1])"
   ]
  },
  {
   "cell_type": "code",
   "execution_count": null,
   "metadata": {
    "collapsed": true
   },
   "outputs": [],
   "source": [
    "s1 = 'download?fn=%2Frelease_23%2FProjects%2FCLLE-ES%2Fsimple_somatic_mutation.open.CLLE-ES.tsv'"
   ]
  }
 ],
 "metadata": {
  "kernelspec": {
   "display_name": "Python [conda root]",
   "language": "python",
   "name": "conda-root-py"
  },
  "language_info": {
   "codemirror_mode": {
    "name": "ipython",
    "version": 3
   },
   "file_extension": ".py",
   "mimetype": "text/x-python",
   "name": "python",
   "nbconvert_exporter": "python",
   "pygments_lexer": "ipython3",
   "version": "3.6.0"
  }
 },
 "nbformat": 4,
 "nbformat_minor": 2
}
