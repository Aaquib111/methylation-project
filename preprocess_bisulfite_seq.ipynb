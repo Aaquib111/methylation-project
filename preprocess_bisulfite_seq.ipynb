{
 "cells": [
  {
   "cell_type": "code",
   "execution_count": 14,
   "metadata": {},
   "outputs": [
    {
     "ename": "NameError",
     "evalue": "name 'list_of_coding_cpgs' is not defined",
     "traceback": [
      "\u001b[0;31m---------------------------------------------------------------------------\u001b[0m",
      "\u001b[0;31mNameError\u001b[0m                                 Traceback (most recent call last)",
      "\u001b[0;32m<ipython-input-14-305bc24246a5>\u001b[0m in \u001b[0;36m<module>\u001b[0;34m()\u001b[0m\n\u001b[1;32m     23\u001b[0m             \u001b[0;32mif\u001b[0m \u001b[0mrownum\u001b[0m \u001b[0;34m==\u001b[0m \u001b[0;36m0\u001b[0m\u001b[0;34m:\u001b[0m\u001b[0;34m\u001b[0m\u001b[0m\n\u001b[1;32m     24\u001b[0m                 \u001b[0mcsvout\u001b[0m\u001b[0;34m.\u001b[0m\u001b[0mwriterow\u001b[0m\u001b[0;34m(\u001b[0m\u001b[0mrow\u001b[0m\u001b[0;34m[\u001b[0m\u001b[0;36m3\u001b[0m\u001b[0;34m:\u001b[0m\u001b[0;36m14\u001b[0m\u001b[0;34m]\u001b[0m\u001b[0;34m)\u001b[0m\u001b[0;34m\u001b[0m\u001b[0m\n\u001b[0;32m---> 25\u001b[0;31m             \u001b[0;32melif\u001b[0m \u001b[0mlocation\u001b[0m \u001b[0;32min\u001b[0m \u001b[0mlist_of_coding_cpgs\u001b[0m\u001b[0;34m:\u001b[0m \u001b[0;31m#filter for only coding cpg's\u001b[0m\u001b[0;34m\u001b[0m\u001b[0m\n\u001b[0m\u001b[1;32m     26\u001b[0m                 \u001b[0mcsvout\u001b[0m\u001b[0;34m.\u001b[0m\u001b[0mwriterow\u001b[0m\u001b[0;34m(\u001b[0m\u001b[0mrow\u001b[0m\u001b[0;34m[\u001b[0m\u001b[0;36m3\u001b[0m\u001b[0;34m:\u001b[0m\u001b[0;36m14\u001b[0m\u001b[0;34m]\u001b[0m\u001b[0;34m)\u001b[0m\u001b[0;34m\u001b[0m\u001b[0m\n\u001b[1;32m     27\u001b[0m             \u001b[0mrownum\u001b[0m \u001b[0;34m+=\u001b[0m \u001b[0;36m1\u001b[0m\u001b[0;34m\u001b[0m\u001b[0m\n",
      "\u001b[0;31mNameError\u001b[0m: name 'list_of_coding_cpgs' is not defined"
     ],
     "output_type": "error"
    }
   ],
   "source": [
    "import csv\n",
    "# import pickle\n",
    "# list_of_coding_cpgs = set([]) #coordinates of coding cpg's\n",
    "# bed_files = ['chr1_cds_cpg.bed', 'chr2_cds_cpg.bed', 'chr3_cds_cpg.bed', 'chr4_cds_cpg.bed', 'chr5_cds_cpg.bed', 'chr6_cds_cpg.bed', 'chr7_cds_cpg.bed',\n",
    "#             'chr8_cds_cpg.bed', 'chr9_cds_cpg.bed', 'chr10_cds_cpg.bed', 'chr11_cds_cpg.bed', 'chr12_cds_cpg.bed', 'chr13_cds_cpg.bed', 'chr14_cds_cpg.bed',\n",
    "#             'chr15_cds_cpg.bed', 'chr16_cds_cpg.bed', 'chr17_cds_cpg.bed', 'chr18_cds_cpg.bed', 'chr19_cds_cpg.bed', 'chr20_cds_cpg.bed',\n",
    "#             'chr21_cds_cpg.bed', 'chr22_cds_cpg.bed']\n",
    "# for file in bed_files:\n",
    "#     with open(file, 'r') as f:\n",
    "#         reader = csv.reader(f, delimiter='\\t')\n",
    "#         for row in reader:\n",
    "#             list_of_coding_cpgs.add((row[0], row[1]))\n",
    "# pickle.dump(list_of_coding_cpgs, open('list_of_coding_cpgs.pickle', 'wb'))\n",
    "\n",
    "biseq_files = ['/Users/khandekara2/Documents/methylationProject/02_code/split_zz']\n",
    "for file in biseq_files:\n",
    "    with open(file, 'r') as f, open(file.split('.')[0] + '.bed', 'w') as csvout:\n",
    "        reader = csv.reader(f, delimiter='\\t')\n",
    "        csvout = csv.writer(csvout, delimiter='\\t')\n",
    "        rownum = 0\n",
    "        for row in reader: #take care of header\n",
    "            location = ('chr' + str(row[6]), str(row[7]))\n",
    "            if rownum == 0:\n",
    "                csvout.writerow(row[3:14])\n",
    "            elif location in list_of_coding_cpgs: #filter for only coding cpg's\n",
    "                csvout.writerow(row[3:14])\n",
    "            rownum += 1\n",
    "\n",
    "\n",
    "\n",
    "        "
   ]
  },
  {
   "cell_type": "code",
   "execution_count": 2,
   "metadata": {},
   "outputs": [
    {
     "name": "stdout",
     "output_type": "stream",
     "text": [
      "meth_seq_CLLE.bed\n"
     ]
    }
   ],
   "source": [
    "file = 'meth_seq_CLLE.tsv'\n",
    "print(file.split('.')[0] + '.bed')"
   ]
  },
  {
   "cell_type": "code",
   "execution_count": null,
   "metadata": {
    "collapsed": true
   },
   "outputs": [],
   "source": [
    "('chr1', '55066997')"
   ]
  },
  {
   "cell_type": "code",
   "execution_count": 9,
   "metadata": {},
   "outputs": [],
   "source": [
    "import pandas as pd\n",
    "df = pd.read_csv('/Users/khandekara2/Documents/methylationProject/02_code/split_zz', sep='\\t')"
   ]
  },
  {
   "cell_type": "code",
   "execution_count": 10,
   "metadata": {},
   "outputs": [
    {
     "data": {
      "text/html": [
       "<div>\n",
       "<table border=\"1\" class=\"dataframe\">\n",
       "  <thead>\n",
       "    <tr style=\"text-align: right;\">\n",
       "      <th></th>\n",
       "      <th>icgc_donor_id</th>\n",
       "      <th>project_code</th>\n",
       "      <th>icgc_specimen_id</th>\n",
       "      <th>icgc_sample_id</th>\n",
       "      <th>submitted_sample_id</th>\n",
       "      <th>analysis_id</th>\n",
       "      <th>chromosome</th>\n",
       "      <th>chromosome_start</th>\n",
       "      <th>chromosome_end</th>\n",
       "      <th>chromosome_strand</th>\n",
       "      <th>...</th>\n",
       "      <th>sequencing_platform</th>\n",
       "      <th>fraction_wg_cpg_sites_covered</th>\n",
       "      <th>conversion_rate</th>\n",
       "      <th>experimental_protocol</th>\n",
       "      <th>sequencing_strategy</th>\n",
       "      <th>base_quality_score_threshold</th>\n",
       "      <th>alignment_algorithm</th>\n",
       "      <th>other_analysis_algorithm</th>\n",
       "      <th>raw_data_repository</th>\n",
       "      <th>raw_data_accession</th>\n",
       "    </tr>\n",
       "  </thead>\n",
       "  <tbody>\n",
       "    <tr>\n",
       "      <th>0</th>\n",
       "      <td>DO27861</td>\n",
       "      <td>MALY-DE</td>\n",
       "      <td>SP59468</td>\n",
       "      <td>SA321158</td>\n",
       "      <td>4118819_GCB</td>\n",
       "      <td>4118819_WGBS</td>\n",
       "      <td>1</td>\n",
       "      <td>235537026</td>\n",
       "      <td>235537026</td>\n",
       "      <td>1</td>\n",
       "      <td>...</td>\n",
       "      <td>Illumina HiSeq</td>\n",
       "      <td>NaN</td>\n",
       "      <td>NaN</td>\n",
       "      <td>Lister protocol http://www.nature.com/nature/j...</td>\n",
       "      <td>Bisulfite-Seq</td>\n",
       "      <td>0.0</td>\n",
       "      <td>segemehl http://www.bioinf.uni-leipzig.de/Soft...</td>\n",
       "      <td>NaN</td>\n",
       "      <td>EGA</td>\n",
       "      <td>EGAS00001001067</td>\n",
       "    </tr>\n",
       "    <tr>\n",
       "      <th>1</th>\n",
       "      <td>DO27861</td>\n",
       "      <td>MALY-DE</td>\n",
       "      <td>SP59468</td>\n",
       "      <td>SA321158</td>\n",
       "      <td>4118819_GCB</td>\n",
       "      <td>4118819_WGBS</td>\n",
       "      <td>1</td>\n",
       "      <td>235537027</td>\n",
       "      <td>235537027</td>\n",
       "      <td>1</td>\n",
       "      <td>...</td>\n",
       "      <td>Illumina HiSeq</td>\n",
       "      <td>NaN</td>\n",
       "      <td>NaN</td>\n",
       "      <td>Lister protocol http://www.nature.com/nature/j...</td>\n",
       "      <td>Bisulfite-Seq</td>\n",
       "      <td>0.0</td>\n",
       "      <td>segemehl http://www.bioinf.uni-leipzig.de/Soft...</td>\n",
       "      <td>NaN</td>\n",
       "      <td>EGA</td>\n",
       "      <td>EGAS00001001067</td>\n",
       "    </tr>\n",
       "    <tr>\n",
       "      <th>2</th>\n",
       "      <td>DO27861</td>\n",
       "      <td>MALY-DE</td>\n",
       "      <td>SP59468</td>\n",
       "      <td>SA321158</td>\n",
       "      <td>4118819_GCB</td>\n",
       "      <td>4118819_WGBS</td>\n",
       "      <td>1</td>\n",
       "      <td>235537032</td>\n",
       "      <td>235537032</td>\n",
       "      <td>1</td>\n",
       "      <td>...</td>\n",
       "      <td>Illumina HiSeq</td>\n",
       "      <td>NaN</td>\n",
       "      <td>NaN</td>\n",
       "      <td>Lister protocol http://www.nature.com/nature/j...</td>\n",
       "      <td>Bisulfite-Seq</td>\n",
       "      <td>0.0</td>\n",
       "      <td>segemehl http://www.bioinf.uni-leipzig.de/Soft...</td>\n",
       "      <td>NaN</td>\n",
       "      <td>EGA</td>\n",
       "      <td>EGAS00001001067</td>\n",
       "    </tr>\n",
       "    <tr>\n",
       "      <th>3</th>\n",
       "      <td>DO27861</td>\n",
       "      <td>MALY-DE</td>\n",
       "      <td>SP59468</td>\n",
       "      <td>SA321158</td>\n",
       "      <td>4118819_GCB</td>\n",
       "      <td>4118819_WGBS</td>\n",
       "      <td>1</td>\n",
       "      <td>235537049</td>\n",
       "      <td>235537049</td>\n",
       "      <td>1</td>\n",
       "      <td>...</td>\n",
       "      <td>Illumina HiSeq</td>\n",
       "      <td>NaN</td>\n",
       "      <td>NaN</td>\n",
       "      <td>Lister protocol http://www.nature.com/nature/j...</td>\n",
       "      <td>Bisulfite-Seq</td>\n",
       "      <td>0.0</td>\n",
       "      <td>segemehl http://www.bioinf.uni-leipzig.de/Soft...</td>\n",
       "      <td>NaN</td>\n",
       "      <td>EGA</td>\n",
       "      <td>EGAS00001001067</td>\n",
       "    </tr>\n",
       "    <tr>\n",
       "      <th>4</th>\n",
       "      <td>DO27861</td>\n",
       "      <td>MALY-DE</td>\n",
       "      <td>SP59468</td>\n",
       "      <td>SA321158</td>\n",
       "      <td>4118819_GCB</td>\n",
       "      <td>4118819_WGBS</td>\n",
       "      <td>1</td>\n",
       "      <td>235537056</td>\n",
       "      <td>235537056</td>\n",
       "      <td>1</td>\n",
       "      <td>...</td>\n",
       "      <td>Illumina HiSeq</td>\n",
       "      <td>NaN</td>\n",
       "      <td>NaN</td>\n",
       "      <td>Lister protocol http://www.nature.com/nature/j...</td>\n",
       "      <td>Bisulfite-Seq</td>\n",
       "      <td>0.0</td>\n",
       "      <td>segemehl http://www.bioinf.uni-leipzig.de/Soft...</td>\n",
       "      <td>NaN</td>\n",
       "      <td>EGA</td>\n",
       "      <td>EGAS00001001067</td>\n",
       "    </tr>\n",
       "  </tbody>\n",
       "</table>\n",
       "<p>5 rows × 26 columns</p>\n",
       "</div>"
      ],
      "text/plain": [
       "  icgc_donor_id project_code icgc_specimen_id icgc_sample_id  \\\n",
       "0       DO27861      MALY-DE          SP59468       SA321158   \n",
       "1       DO27861      MALY-DE          SP59468       SA321158   \n",
       "2       DO27861      MALY-DE          SP59468       SA321158   \n",
       "3       DO27861      MALY-DE          SP59468       SA321158   \n",
       "4       DO27861      MALY-DE          SP59468       SA321158   \n",
       "\n",
       "  submitted_sample_id   analysis_id  chromosome  chromosome_start  \\\n",
       "0         4118819_GCB  4118819_WGBS           1         235537026   \n",
       "1         4118819_GCB  4118819_WGBS           1         235537027   \n",
       "2         4118819_GCB  4118819_WGBS           1         235537032   \n",
       "3         4118819_GCB  4118819_WGBS           1         235537049   \n",
       "4         4118819_GCB  4118819_WGBS           1         235537056   \n",
       "\n",
       "   chromosome_end  chromosome_strand        ...         sequencing_platform  \\\n",
       "0       235537026                  1        ...              Illumina HiSeq   \n",
       "1       235537027                  1        ...              Illumina HiSeq   \n",
       "2       235537032                  1        ...              Illumina HiSeq   \n",
       "3       235537049                  1        ...              Illumina HiSeq   \n",
       "4       235537056                  1        ...              Illumina HiSeq   \n",
       "\n",
       "   fraction_wg_cpg_sites_covered  conversion_rate  \\\n",
       "0                            NaN              NaN   \n",
       "1                            NaN              NaN   \n",
       "2                            NaN              NaN   \n",
       "3                            NaN              NaN   \n",
       "4                            NaN              NaN   \n",
       "\n",
       "                               experimental_protocol  sequencing_strategy  \\\n",
       "0  Lister protocol http://www.nature.com/nature/j...        Bisulfite-Seq   \n",
       "1  Lister protocol http://www.nature.com/nature/j...        Bisulfite-Seq   \n",
       "2  Lister protocol http://www.nature.com/nature/j...        Bisulfite-Seq   \n",
       "3  Lister protocol http://www.nature.com/nature/j...        Bisulfite-Seq   \n",
       "4  Lister protocol http://www.nature.com/nature/j...        Bisulfite-Seq   \n",
       "\n",
       "   base_quality_score_threshold  \\\n",
       "0                           0.0   \n",
       "1                           0.0   \n",
       "2                           0.0   \n",
       "3                           0.0   \n",
       "4                           0.0   \n",
       "\n",
       "                                 alignment_algorithm  \\\n",
       "0  segemehl http://www.bioinf.uni-leipzig.de/Soft...   \n",
       "1  segemehl http://www.bioinf.uni-leipzig.de/Soft...   \n",
       "2  segemehl http://www.bioinf.uni-leipzig.de/Soft...   \n",
       "3  segemehl http://www.bioinf.uni-leipzig.de/Soft...   \n",
       "4  segemehl http://www.bioinf.uni-leipzig.de/Soft...   \n",
       "\n",
       "   other_analysis_algorithm  raw_data_repository raw_data_accession  \n",
       "0                       NaN                  EGA    EGAS00001001067  \n",
       "1                       NaN                  EGA    EGAS00001001067  \n",
       "2                       NaN                  EGA    EGAS00001001067  \n",
       "3                       NaN                  EGA    EGAS00001001067  \n",
       "4                       NaN                  EGA    EGAS00001001067  \n",
       "\n",
       "[5 rows x 26 columns]"
      ]
     },
     "execution_count": 10,
     "metadata": {},
     "output_type": "execute_result"
    }
   ],
   "source": [
    "df.head()"
   ]
  },
  {
   "cell_type": "code",
   "execution_count": 11,
   "metadata": {},
   "outputs": [
    {
     "name": "stdout",
     "output_type": "stream",
     "text": [
      "<class 'pandas.core.frame.DataFrame'>\n",
      "RangeIndex: 20 entries, 0 to 19\n",
      "Data columns (total 26 columns):\n",
      "icgc_donor_id                    20 non-null object\n",
      "project_code                     20 non-null object\n",
      "icgc_specimen_id                 20 non-null object\n",
      "icgc_sample_id                   20 non-null object\n",
      "submitted_sample_id              20 non-null object\n",
      "analysis_id                      20 non-null object\n",
      "chromosome                       20 non-null int64\n",
      "chromosome_start                 20 non-null int64\n",
      "chromosome_end                   20 non-null int64\n",
      "chromosome_strand                20 non-null int64\n",
      "assembly_version                 20 non-null object\n",
      "methylation_ratio                20 non-null float64\n",
      "methylated_read_count            20 non-null float64\n",
      "unmethylated_read_count          20 non-null float64\n",
      "verification_status              0 non-null float64\n",
      "verification_platform            0 non-null float64\n",
      "sequencing_platform              20 non-null object\n",
      "fraction_wg_cpg_sites_covered    0 non-null float64\n",
      "conversion_rate                  0 non-null float64\n",
      "experimental_protocol            20 non-null object\n",
      "sequencing_strategy              20 non-null object\n",
      "base_quality_score_threshold     20 non-null float64\n",
      "alignment_algorithm              20 non-null object\n",
      "other_analysis_algorithm         0 non-null float64\n",
      "raw_data_repository              20 non-null object\n",
      "raw_data_accession               20 non-null object\n",
      "dtypes: float64(9), int64(4), object(13)\n",
      "memory usage: 4.1+ KB\n"
     ]
    }
   ],
   "source": [
    "df.info()"
   ]
  },
  {
   "cell_type": "code",
   "execution_count": 16,
   "metadata": {},
   "outputs": [
    {
     "name": "stdout",
     "output_type": "stream",
     "text": [
      "235537026\n"
     ]
    }
   ],
   "source": [
    " x = 235537026\n",
    " x = str(x)\n",
    "print (x)"
   ]
  },
  {
   "cell_type": "code",
   "execution_count": 17,
   "metadata": {},
   "outputs": [
    {
     "data": {
      "text/plain": [
       "str"
      ]
     },
     "execution_count": 17,
     "metadata": {},
     "output_type": "execute_result"
    }
   ],
   "source": [
    "type(x)"
   ]
  },
  {
   "cell_type": "code",
   "execution_count": 19,
   "metadata": {},
   "outputs": [
    {
     "name": "stdout",
     "output_type": "stream",
     "text": [
      "PAEN-AU_mutation.bed\n"
     ]
    }
   ],
   "source": [
    "s = 'download?fn=%2Frelease_23%2FProjects%2FPAEN-AU%2Fsimple_somatic_mutation.open.PAEN-AU.tsv'\n",
    "split = s.split('.')\n",
    "print (split[2] + '_mutation.bed')"
   ]
  },
  {
   "cell_type": "code",
   "execution_count": 20,
   "metadata": {},
   "outputs": [
    {
     "name": "stdout",
     "output_type": "stream",
     "text": [
      "PAEN-AU_mutation.bed\n"
     ]
    }
   ],
   "source": [
    "print (s.split('.')[2] + '_mutation.bed')"
   ]
  },
  {
   "cell_type": "code",
   "execution_count": null,
   "metadata": {
    "collapsed": true
   },
   "outputs": [],
   "source": []
  }
 ],
 "metadata": {
  "kernelspec": {
   "display_name": "Python [conda root]",
   "language": "python",
   "name": "conda-root-py"
  },
  "language_info": {
   "codemirror_mode": {
    "name": "ipython",
    "version": 3
   },
   "file_extension": ".py",
   "mimetype": "text/x-python",
   "name": "python",
   "nbconvert_exporter": "python",
   "pygments_lexer": "ipython3",
   "version": "3.6.0"
  }
 },
 "nbformat": 4,
 "nbformat_minor": 2
}
