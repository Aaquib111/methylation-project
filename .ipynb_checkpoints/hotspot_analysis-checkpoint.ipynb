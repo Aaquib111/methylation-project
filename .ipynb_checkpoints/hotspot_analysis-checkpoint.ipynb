{
 "cells": [
  {
   "cell_type": "code",
   "execution_count": null,
   "metadata": {},
   "outputs": [],
   "source": [
    "import os\n",
    "import pandas as pd\n",
    "import numpy as np\n",
    "from scipy import stats"
   ]
  },
  {
   "cell_type": "code",
   "execution_count": null,
   "metadata": {},
   "outputs": [],
   "source": []
  },
  {
   "cell_type": "code",
   "execution_count": null,
   "metadata": {},
   "outputs": [],
   "source": [
    "\n",
    "        \n"
   ]
  },
  {
   "cell_type": "code",
   "execution_count": null,
   "metadata": {},
   "outputs": [],
   "source": []
  },
  {
   "cell_type": "code",
   "execution_count": null,
   "metadata": {},
   "outputs": [],
   "source": [
    "\n",
    "pbca_dict = {} #key is sample, value is dictionary(location: methylation ratio)\n",
    "maly_dict = {} #key is sample, value is dictionary(location: methylation ratio)\n",
    "\n",
    "df = pd.read_csv('/Users/khandekara2/Documents/methylationProject/01_data/PBCA_cds_expanded.tsv', sep='\\t')\n",
    "for sample in df['id'].unique():\n",
    "    pbca_dict[sample] = {}\n",
    "    df1 = df[df['id'] == sample]\n",
    "    for chrom, start, stop, ratio in zip(df1['chromosome'], df1['start'], df1['stop'], df1['methylation_ratio']):\n",
    "        pbca_dict[sample][(str(chrom), int(start), int(stop))] = ratio\n",
    "\n",
    "df = pd.read_csv('/Users/khandekara2/Documents/methylationProject/01_data/MALY_cds_expanded.tsv', sep='\\t')\n",
    "for sample in df['id'].unique():\n",
    "    maly_dict[sample] = {}\n",
    "    df1 = df[df['id'] == sample]\n",
    "    for chrom, start, stop, ratio in zip(df1['chromosome'], df1['start'], df1['stop'], df1['methylation_ratio']):\n",
    "        maly_dict[sample][(str(chrom), int(start), int(stop))] = ratio\n"
   ]
  },
  {
   "cell_type": "code",
   "execution_count": null,
   "metadata": {},
   "outputs": [],
   "source": []
  },
  {
   "cell_type": "code",
   "execution_count": null,
   "metadata": {},
   "outputs": [],
   "source": [
    "df = pd.read_csv('/Users/khandekara2/Documents/methylationProject/01_data/all_overlaps.tsv', sep='\\t')"
   ]
  },
  {
   "cell_type": "code",
   "execution_count": null,
   "metadata": {},
   "outputs": [],
   "source": []
  },
  {
   "cell_type": "code",
   "execution_count": null,
   "metadata": {},
   "outputs": [],
   "source": [
    "#add methylation ratios column by looking up values by sample id\n",
    "ratios = []\n",
    "for chrom, start, stop, ids in zip( df['chromosome'], df['start'], df['stop'], df['id']):\n",
    "    if ids in pbca_dict:\n",
    "        ratios.append(pbca_dict[ids][(chrom, start, stop)])\n",
    "    elif ids in maly_dict:\n",
    "        ratios.append(maly_dict[ids][(chrom, start, stop)])\n",
    "    else:\n",
    "        ratios.append(boca_dict[ids][(chrom, start, stop)])\n",
    "\n",
    "print (len(ratios))\n",
    "df['methylation_ratio'] = ratios"
   ]
  },
  {
   "cell_type": "code",
   "execution_count": null,
   "metadata": {},
   "outputs": [],
   "source": [
    "#add cancer type column\n",
    "cancer_type = []\n",
    "for ide in df['id']:\n",
    "    if ide.startswith('ICGC'):\n",
    "        cancer_type.append('PBCA')\n",
    "    elif ide.endswith('WGS'):\n",
    "        cancer_type.append('BOCA')\n",
    "    else:\n",
    "        cancer_type.append('MALY')\n",
    "df['cancer_type'] = cancer_type"
   ]
  },
  {
   "cell_type": "code",
   "execution_count": null,
   "metadata": {},
   "outputs": [],
   "source": [
    "#add location column\n",
    "locations = []\n",
    "for chrom, start, stop in zip(list(df['chromosome']), list(df['start']), list(df['stop'])):\n",
    "    locations.append((chrom, start, stop))\n",
    "df['location'] = locations\n"
   ]
  },
  {
   "cell_type": "code",
   "execution_count": null,
   "metadata": {},
   "outputs": [],
   "source": [
    "import numpy as np\n",
    "import matplotlib.pyplot as plt\n",
    "%matplotlib inline\n",
    "df['methylation_ratio'].hist()\n",
    "plt.hist(df['methylation_ratio'])\n",
    "plt.xticks(np.arange(0, 1.1, 0.1))\n",
    "plt.title('Distribution of Methylation Ratios of All Overlaps')\n",
    "plt.xlabel('Methylation Ratio')\n",
    "plt.ylabel('Frequency of Overlaps')\n",
    "plt.savefig('overlaps_distribution.png')"
   ]
  },
  {
   "cell_type": "code",
   "execution_count": null,
   "metadata": {},
   "outputs": [],
   "source": [
    "#calculate allele frequencies and add vaf column\n",
    "vaf = []\n",
    "for v, t in zip(df['variant_reads'], df['total_reads']):\n",
    "    if v == 'MISSING':\n",
    "        vaf.append('MISSING')\n",
    "    else:\n",
    "        vaf.append(float(v) / float(t))\n",
    "df['vaf'] = vaf\n"
   ]
  },
  {
   "cell_type": "code",
   "execution_count": null,
   "metadata": {},
   "outputs": [],
   "source": [
    "# df['total_reads'] = pd.to_numeric(df['total_reads'], errors='coerce')\n",
    "# df['variant_reads'] = pd.to_numeric(df['variant_reads'], errors='coerce')\n",
    "# df['vaf'] = pd.to_numeric(df['vaf'], errors='coerce')"
   ]
  },
  {
   "cell_type": "code",
   "execution_count": null,
   "metadata": {},
   "outputs": [],
   "source": []
  },
  {
   "cell_type": "code",
   "execution_count": null,
   "metadata": {
    "scrolled": true
   },
   "outputs": [],
   "source": [
    "#get rid of all entries with missing values\n",
    "not_missing = df[df['variant_reads'] != \"MISSING\"]\n"
   ]
  },
  {
   "cell_type": "code",
   "execution_count": null,
   "metadata": {},
   "outputs": [],
   "source": [
    "#convert reads columns from objects to floats\n",
    "not_missing['total_reads'] = pd.to_numeric(not_missing['total_reads'], errors='coerce')\n",
    "not_missing['variant_reads'] = pd.to_numeric(not_missing['variant_reads'], errors='coerce')\n",
    "not_missing['vaf'] = pd.to_numeric(not_missing['vaf'], errors='coerce')"
   ]
  },
  {
   "cell_type": "code",
   "execution_count": null,
   "metadata": {},
   "outputs": [],
   "source": [
    "not_missing"
   ]
  },
  {
   "cell_type": "code",
   "execution_count": null,
   "metadata": {},
   "outputs": [],
   "source": [
    "not_missing.info()"
   ]
  },
  {
   "cell_type": "code",
   "execution_count": null,
   "metadata": {},
   "outputs": [],
   "source": [
    "xs = np.array(list(not_missing['vaf']))\n",
    "ys = np.array(list(not_missing['methylation_ratio']))\n",
    "ids = list(not_missing['id'])"
   ]
  },
  {
   "cell_type": "code",
   "execution_count": null,
   "metadata": {},
   "outputs": [],
   "source": [
    "slope, intercept, r_value, p_value, std_err = stats.linregress(xs, ys)\n",
    "line = slope * xs + intercept\n",
    "plt.figure()\n",
    "plt.plot(xs, ys, 'o', xs, line, '-')\n",
    "plt.xlabel('Variant Allele Frequency')\n",
    "plt.ylabel('Methylation Ratio')\n",
    "plt.title('Variant Allele Frequency vs. Methylation Ratio for ALL Overlaps')\n",
    "plt.gcf().text(1.0, 1.0, \"Slope: %.9f\" % slope, fontsize=12)\n",
    "plt.gcf().text(1.0, 0.9, \"P-value: %.9f\" % p_value, fontsize=12)\n",
    "plt.gcf().text(1.0, 0.8, \"R-squared: %.2f\" % r_value ** 2, fontsize=12)"
   ]
  },
  {
   "cell_type": "code",
   "execution_count": null,
   "metadata": {},
   "outputs": [],
   "source": [
    "no_boca = not_missing[not_missing['cancer_type'] != 'BOCA']\n",
    "xs = np.array(list(no_boca['vaf']))\n",
    "ys = np.array(list(no_boca['methylation_ratio']))\n",
    "slope, intercept, r_value, p_value, std_err = stats.linregress(xs, ys)\n",
    "line = slope * xs + intercept\n",
    "plt.figure()\n",
    "plt.plot(xs, ys, 'o', xs, line, '-')\n",
    "plt.xlabel('Variant Allele Frequency')\n",
    "plt.ylabel('Methylation Ratio')\n",
    "plt.title('Variant Allele Frequency vs. Methylation Ratio for ALL Overlaps')\n",
    "plt.gcf().text(1.0, 1.0, \"Slope: %.9f\" % slope, fontsize=12)\n",
    "plt.gcf().text(1.0, 0.9, \"P-value: %.9f\" % p_value, fontsize=12)\n",
    "plt.gcf().text(1.0, 0.8, \"R-squared: %.2f\" % r_value ** 2, fontsize=12)"
   ]
  },
  {
   "cell_type": "code",
   "execution_count": null,
   "metadata": {},
   "outputs": [],
   "source": [
    "# plot only the high methylation ratios\n",
    "mid_high_ratio = no_boca[no_boca['methylation_ratio'] > 0.4]\n",
    "x = np.array(list(mid_high_ratio['vaf']))\n",
    "y = np.array(list(mid_high_ratio['methylation_ratio']))\n",
    "slope, intercept, r_value, p_value, std_err = stats.linregress(x, y)\n",
    "line = slope * x + intercept\n",
    "plt.figure()\n",
    "plt.plot(x, y, 'o', x, line, '-')\n",
    "plt.xlabel('Variant Allele Frequency')\n",
    "plt.ylabel('Methylation Ratio')\n",
    "plt.title('Overlaps with High Methylation Ratio')\n",
    "plt.gcf().text(1.0, 1.0, \"Slope: %.9f\" % slope, fontsize=12)\n",
    "plt.gcf().text(1.0, 0.9, \"P-value: %.9f\" % p_value, fontsize=12)\n",
    "plt.gcf().text(1.0, 0.8, \"R-squared: %.2f\" % r_value ** 2, fontsize=12)\n",
    "# print (len(x))\n",
    "# print (len(y))"
   ]
  },
  {
   "cell_type": "code",
   "execution_count": null,
   "metadata": {},
   "outputs": [],
   "source": [
    "df['vaf'] = vaf\n"
   ]
  },
  {
   "cell_type": "code",
   "execution_count": null,
   "metadata": {},
   "outputs": [],
   "source": [
    "no_boca"
   ]
  },
  {
   "cell_type": "code",
   "execution_count": null,
   "metadata": {},
   "outputs": [],
   "source": [
    "medium_ratio\n"
   ]
  },
  {
   "cell_type": "code",
   "execution_count": null,
   "metadata": {},
   "outputs": [],
   "source": [
    "medium_ratio = not_missing[(not_missing['methylation_ratio'] > 0.4) & (not_missing['methylation_ratio'] < 0.7)]\n",
    "x1 = medium_ratio['vaf']\n",
    "y1 = medium_ratio['methylation_ratio']\n",
    "plt.figure()\n",
    "plt.scatter(x1, y1)\n",
    "plt.xlabel('Variant Allele Frequency')\n",
    "plt.ylabel('Methylation Ratio')\n",
    "plt.title('Overlaps with Intermediate Methylation Ratio')"
   ]
  },
  {
   "cell_type": "code",
   "execution_count": null,
   "metadata": {},
   "outputs": [],
   "source": []
  },
  {
   "cell_type": "code",
   "execution_count": null,
   "metadata": {},
   "outputs": [],
   "source": [
    "low_ratio = not_missing[(not_missing['methylation_ratio'] >= 0) & (not_missing['methylation_ratio'] <= 0.4 )]\n",
    "x2 = low_ratio['vaf']\n",
    "y2 = low_ratio['methylation_ratio']\n",
    "plt.figure()\n",
    "plt.scatter(x2, y2)\n",
    "plt.xlabel('Variant Allele Frequency')\n",
    "plt.ylabel('Methylation Ratio')\n",
    "plt.title('Overlaps with Low Methylation Ratio')"
   ]
  },
  {
   "cell_type": "code",
   "execution_count": null,
   "metadata": {},
   "outputs": [],
   "source": []
  },
  {
   "cell_type": "code",
   "execution_count": null,
   "metadata": {},
   "outputs": [],
   "source": []
  },
  {
   "cell_type": "code",
   "execution_count": null,
   "metadata": {},
   "outputs": [],
   "source": [
    "not_missing"
   ]
  },
  {
   "cell_type": "code",
   "execution_count": null,
   "metadata": {},
   "outputs": [],
   "source": [
    "#import seaborn as sns\n",
    "# sns.distplot(not_missing.vaf.dropna(), kde=False)\n",
    "# sns.plt.show()\n",
    "plt.figure()\n",
    "plt.hist(not_missing.vaf, bins=range(0, 1.1, 1))\n",
    "plt.xticks()"
   ]
  },
  {
   "cell_type": "code",
   "execution_count": null,
   "metadata": {},
   "outputs": [],
   "source": [
    "df.info()"
   ]
  },
  {
   "cell_type": "code",
   "execution_count": null,
   "metadata": {},
   "outputs": [],
   "source": [
    "# create boxplots\n",
    "import seaborn as sns\n",
    "ax = sns.boxplot(x=\"cancer_type\", y=\"vaf\", data=not_missing)\n",
    "ax = sns.swarmplot(x=\"cancer_type\", y=\"vaf\", data=not_missing, color=\".25\")"
   ]
  },
  {
   "cell_type": "code",
   "execution_count": null,
   "metadata": {},
   "outputs": [],
   "source": [
    "ax2 = sns.boxplot(x=\"cancer_type\", y=\"methylation_ratio\", data=not_missing)\n",
    "ax2 = sns.swarmplot(x=\"cancer_type\", y=\"methylation_ratio\", data=not_missing, color=\".25\")"
   ]
  },
  {
   "cell_type": "code",
   "execution_count": null,
   "metadata": {},
   "outputs": [],
   "source": [
    "#split methylation ratios into groups(low, medium, high) based on thresholds\n",
    "methylation_level = []\n",
    "for ratio in not_missing['methylation_ratio']:\n",
    "    if ratio >= 0.8:\n",
    "        methylation_level.append('high')\n",
    "    elif ratio < 0.8 and ratio > 0.2:\n",
    "        methylation_level.append('medium')\n",
    "    else: #ratio < 0.2\n",
    "        methylation_level.append('low')\n",
    "\n",
    "not_missing['methylation_level'] = methylation_level"
   ]
  },
  {
   "cell_type": "code",
   "execution_count": null,
   "metadata": {},
   "outputs": [],
   "source": [
    "ax = sns.boxplot(x=\"methylation_level\", y=\"vaf\", data=not_missing)\n",
    "ax = sns.swarmplot(x=\"methylation_level\", y=\"vaf\", data=not_missing, color=\".25\")"
   ]
  },
  {
   "cell_type": "code",
   "execution_count": null,
   "metadata": {},
   "outputs": [],
   "source": [
    "#plot distribution of methylation ratios vs. vaf BOCA\n",
    "boca = not_missing[not_missing['cancer_type'] == 'BOCA']\n",
    "x3 = list(boca['vaf'])\n",
    "y3 = list(boca['methylation_ratio'])\n",
    "plt.figure()\n",
    "plt.scatter(x3, y3)\n",
    "plt.xlabel('Variant Allele Frequency')\n",
    "plt.ylabel('Methylation Ratio')\n",
    "plt.title('Variant Allele Frequency vs. Methylation Ratio for BOCA only')"
   ]
  },
  {
   "cell_type": "code",
   "execution_count": null,
   "metadata": {},
   "outputs": [],
   "source": [
    "maly = df[df['cancer_type'] == 'MALY']\n",
    "pbca = df[df['cancer_type'] == 'PBCA']"
   ]
  },
  {
   "cell_type": "code",
   "execution_count": null,
   "metadata": {},
   "outputs": [],
   "source": [
    "#helper function that takes in a dataframe and returns a dictionary that maps location to methylation ratio\n",
    "def locationToRatio(dataframe):\n",
    "    locations = []\n",
    "    for chrom, start, stop in zip(list(dataframe['chromosome']), list(dataframe['start']), list(dataframe['stop'])):\n",
    "        locations.append((chrom, start, stop))\n",
    "    dataframe['location'] = locations\n",
    "    locationToRatio_dict = dict(zip(dataframe['location'], dataframe['methylation_ratio']))\n",
    "    return locationToRatio_dict"
   ]
  },
  {
   "cell_type": "code",
   "execution_count": null,
   "metadata": {},
   "outputs": [],
   "source": [
    "#obtain normal methylation ratios from thymus for MALY\n",
    "thymus = pd.read_csv('/Users/khandekara2/Documents/methylationProject/01_data/thymus_cds_cpgs.bed', sep='\\t')\n",
    "thymus_dict = locationToRatio(thymus)"
   ]
  },
  {
   "cell_type": "code",
   "execution_count": null,
   "metadata": {},
   "outputs": [],
   "source": [
    "maly"
   ]
  },
  {
   "cell_type": "code",
   "execution_count": null,
   "metadata": {},
   "outputs": [],
   "source": [
    "normal_ratio = []\n",
    "count = 0\n",
    "for location in maly['location']:    \n",
    "#     print (type(location[0]))\n",
    "#     print (type(location[1]))\n",
    "#     print (type(location[2]))\n",
    "#     print (type(location))\n",
    "#     break \n",
    "    if location in thymus_dict.keys():\n",
    "        normal_ratio.append(thymus_dict[location])\n",
    "    else:\n",
    "        normal_ratio.append(None)\n",
    "\n",
    "# print (len(normal_ratio))\n",
    "# for key, value in thymus_dict.items():\n",
    "#     print (type(key[0]))\n",
    "#     print (type(key[1]))\n",
    "#     print (type(key[2]))\n",
    "#     print (type(key))\n",
    "#     break\n",
    "    "
   ]
  },
  {
   "cell_type": "code",
   "execution_count": null,
   "metadata": {},
   "outputs": [],
   "source": [
    "maly['normal_ratio'] = normal_ratio"
   ]
  },
  {
   "cell_type": "code",
   "execution_count": null,
   "metadata": {},
   "outputs": [],
   "source": [
    " \n",
    "maly = maly.dropna()"
   ]
  },
  {
   "cell_type": "code",
   "execution_count": null,
   "metadata": {},
   "outputs": [],
   "source": [
    "plt.hist(maly['normal_ratio'])\n",
    "plt.xticks(np.arange(0, 1.1, 0.1))\n",
    "plt.title('Distribution of Normal Methylation Ratios of MALY Overlaps')\n",
    "plt.xlabel('Normal Methylation Ratio')\n",
    "plt.ylabel('Frequency of Overlaps')\n",
    "plt.savefig('MALY_normal_overlaps_distribution.png')"
   ]
  },
  {
   "cell_type": "code",
   "execution_count": null,
   "metadata": {},
   "outputs": [],
   "source": [
    "#obtain normal methylation ratios from neural progenitor cell for PBCA\n",
    "# neural = pd.read_csv('/Users/khandekara2/Documents/methylationProject/01_data/neural_stem_progenitor_cds.tsv', sep='\\t')\n",
    "# neural_dict = locationToRatio(neural)"
   ]
  },
  {
   "cell_type": "code",
   "execution_count": null,
   "metadata": {},
   "outputs": [],
   "source": [
    "\n"
   ]
  },
  {
   "cell_type": "code",
   "execution_count": null,
   "metadata": {},
   "outputs": [],
   "source": [
    "normal_ratio = np.array(list(maly['normal_ratio']))\n",
    "cancer_ratio = np.array(list(maly['methylation_ratio']))# / (1.00 - vafs)\n",
    "#cancer_ratio[cancer_ratio > 2] = 2\n",
    "#cancer_ratio[np.isinf(cancer_ratio)] = 1\n",
    "print(np.mean(cancer_ratio))\n",
    "colors = {'ACG':'red', 'TCG':'blue', 'CCG':'green', 'GCG':'black'}\n",
    "plt.figure()\n",
    "plt.scatter(1-vafs, cancer_ratio, c=maly['context'].apply(lambda x: colors[x]))\n",
    "plt.xlabel('Normal Ratio')\n",
    "plt.ylabel('Tumor Ratio')\n",
    "\n",
    "plt.title('Normal Ratio vs Tumor Ratio of Overlaps in MALY')"
   ]
  },
  {
   "cell_type": "code",
   "execution_count": null,
   "metadata": {},
   "outputs": [],
   "source": [
    "#get average tumor methylation ratios (averaged over 26 samples) of overlaps\n",
    "df = pd.read_csv('/Users/khandekara2/Documents/methylationProject/01_data/MALY_overlap_ratios.bed', sep='\\t')\n",
    "locations = []\n",
    "for chrom, start, stop in zip(list(df['chromosome']), list(df['start']), list(df['stop'])):\n",
    "    locations.append((chrom, start, stop))\n",
    "df['location'] = locations\n",
    "grouped = df['methylation_ratio'].groupby(df['location'])\n",
    "groupby = grouped.agg([np.mean, np.std])\n",
    "groupby.reset_index(inplace=True)\n"
   ]
  },
  {
   "cell_type": "code",
   "execution_count": null,
   "metadata": {},
   "outputs": [],
   "source": [
    "normal_ratio = np.array(list(maly['normal_ratio'])) #from thymus\n",
    "vafs = np.array(list(maly['vaf']))\n",
    "cancer_ratio = groupby['mean'] # / (1 - vafs + 0.3) #average from 26 MALY samples\n",
    "colors = {'ACG':'red', 'TCG':'blue', 'CCG':'green', 'GCG':'black'}\n",
    "plt.figure()\n",
    "plt.scatter(normal_ratio, cancer_ratio, c=maly['context'].apply(lambda x: colors[x]))\n",
    "plt.xlabel('Normal Ratio')\n",
    "plt.ylabel('Tumor Ratio')\n",
    "plt.title('Normal Ratio vs Tumor Ratio of Overlaps in MALY')\n"
   ]
  },
  {
   "cell_type": "code",
   "execution_count": null,
   "metadata": {},
   "outputs": [],
   "source": [
    "#now we plot a 3D scatterplot, incorporating VAF into the analysis\n",
    "from mpl_toolkits.mplot3d import Axes3D\n",
    "fig = plt.figure()\n",
    "ax = fig.add_subplot(111, projection='3d')\n",
    "normal_ratio = np.array(list(maly['normal_ratio']))\n",
    "cancer_ratio = np.array(list(maly['methylation_ratio']))\n",
    "vafs = np.array(list(maly['vaf']))\n",
    "ax.scatter(normal_ratio, vafs, cancer_ratio, c=maly['context'].apply(lambda x: colors[x]), marker='o')\n",
    "ax.set_xlabel('Normal Ratio')\n",
    "ax.set_ylabel('Tumor Ratio')\n",
    "ax.set_zlabel('Variant Allele Frequency')"
   ]
  },
  {
   "cell_type": "code",
   "execution_count": null,
   "metadata": {},
   "outputs": [],
   "source": [
    "maly"
   ]
  },
  {
   "cell_type": "code",
   "execution_count": null,
   "metadata": {},
   "outputs": [],
   "source": [
    "#add a strand column and a sequence context column\n",
    "strand = []\n",
    "for base in maly['mutated_from']:\n",
    "    if base == 'C':\n",
    "        strand.append('+')\n",
    "    elif base == 'G':\n",
    "        strand.append('-')\n",
    "    else:\n",
    "        break\n",
    "print (len(strand))\n",
    "maly['strand'] = strand\n"
   ]
  },
  {
   "cell_type": "code",
   "execution_count": null,
   "metadata": {},
   "outputs": [],
   "source": [
    "maly_temp = maly[['chromosome', 'start', 'stop', 'id', 'methylation_ratio', 'strand']]\n",
    "maly_temp.to_csv('MALY_temp.bed', sep='\\t', index=False, header=False)"
   ]
  },
  {
   "cell_type": "code",
   "execution_count": null,
   "metadata": {},
   "outputs": [],
   "source": [
    "#now we compare non-overlaps, those CpG sites which did NOT have a mutation "
   ]
  },
  {
   "cell_type": "code",
   "execution_count": null,
   "metadata": {},
   "outputs": [],
   "source": [
    "contexts = pd.read_csv('/Users/khandekara2/Documents/methylationProject/01_data/MALY_temp.bed', sep='\\t', header=None)\n",
    "seq = list(contexts.iloc[:, 6])\n",
    "maly['context'] = seq"
   ]
  },
  {
   "cell_type": "code",
   "execution_count": null,
   "metadata": {},
   "outputs": [],
   "source": [
    "#add sequence context column after bedtools getfasta step\n",
    "maly['context'] = maly['context'].apply(lambda x: x.upper())"
   ]
  },
  {
   "cell_type": "code",
   "execution_count": null,
   "metadata": {},
   "outputs": [],
   "source": [
    "temp = maly[(maly['normal_ratio'] > 0.8) & (maly['methylation_ratio'] < 0.1)]"
   ]
  },
  {
   "cell_type": "code",
   "execution_count": null,
   "metadata": {},
   "outputs": [],
   "source": []
  },
  {
   "cell_type": "code",
   "execution_count": null,
   "metadata": {},
   "outputs": [],
   "source": [
    "maly.to_csv('MALY_overlaps.tsv', sep='\\t', index=False)\n",
    "maly.to_csv('MALY_overlaps.bed', sep='\\t', index=False, header=False)"
   ]
  },
  {
   "cell_type": "code",
   "execution_count": null,
   "metadata": {
    "scrolled": true
   },
   "outputs": [],
   "source": [
    "\n"
   ]
  },
  {
   "cell_type": "code",
   "execution_count": null,
   "metadata": {},
   "outputs": [],
   "source": []
  },
  {
   "cell_type": "code",
   "execution_count": null,
   "metadata": {},
   "outputs": [],
   "source": []
  }
 ],
 "metadata": {
  "kernelspec": {
   "display_name": "Python 3",
   "language": "python",
   "name": "python3"
  },
  "language_info": {
   "codemirror_mode": {
    "name": "ipython",
    "version": 3
   },
   "file_extension": ".py",
   "mimetype": "text/x-python",
   "name": "python",
   "nbconvert_exporter": "python",
   "pygments_lexer": "ipython3",
   "version": "3.6.3"
  }
 },
 "nbformat": 4,
 "nbformat_minor": 2
}
